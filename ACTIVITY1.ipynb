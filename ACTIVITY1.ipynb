{
 "cells": [
  {
   "cell_type": "markdown",
   "id": "dc9f981f-f409-4766-b62d-eaf8b4b1a5af",
   "metadata": {},
   "source": [
    "<H1>ACTIVTIY1: PALMER PENGUINS DATA ANALYTICS</H1>\n",
    "<HR>\n",
    "<H3>ANALYST: MARIA ASHLEY JOY ENALLO</H3>"
   ]
  },
  {
   "cell_type": "code",
   "execution_count": 1,
   "id": "892c21c6-246e-4ed7-8ccd-f8b4926f07b4",
   "metadata": {},
   "outputs": [],
   "source": [
    "import numpy as np\n",
    "import pandas as pd\n",
    "import warnings\n",
    "warnings.filterwarnings('ignore')"
   ]
  },
  {
   "cell_type": "code",
   "execution_count": 2,
   "id": "7f588d96-86bd-4bc4-a898-1503b602de08",
   "metadata": {},
   "outputs": [],
   "source": [
    "penguin = pd.read_csv('dataset\\\\penguins.csv')"
   ]
  },
  {
   "cell_type": "code",
   "execution_count": 3,
   "id": "e5b9ece2-4450-451e-b592-82673b3cba34",
   "metadata": {},
   "outputs": [
    {
     "data": {
      "text/html": [
       "<div>\n",
       "<style scoped>\n",
       "    .dataframe tbody tr th:only-of-type {\n",
       "        vertical-align: middle;\n",
       "    }\n",
       "\n",
       "    .dataframe tbody tr th {\n",
       "        vertical-align: top;\n",
       "    }\n",
       "\n",
       "    .dataframe thead th {\n",
       "        text-align: right;\n",
       "    }\n",
       "</style>\n",
       "<table border=\"1\" class=\"dataframe\">\n",
       "  <thead>\n",
       "    <tr style=\"text-align: right;\">\n",
       "      <th></th>\n",
       "      <th>rowid</th>\n",
       "      <th>species</th>\n",
       "      <th>island</th>\n",
       "      <th>bill_length_mm</th>\n",
       "      <th>bill_depth_mm</th>\n",
       "      <th>flipper_length_mm</th>\n",
       "      <th>body_mass_g</th>\n",
       "      <th>sex</th>\n",
       "      <th>year</th>\n",
       "    </tr>\n",
       "  </thead>\n",
       "  <tbody>\n",
       "    <tr>\n",
       "      <th>0</th>\n",
       "      <td>1</td>\n",
       "      <td>Adelie</td>\n",
       "      <td>Torgersen</td>\n",
       "      <td>39.1</td>\n",
       "      <td>18.7</td>\n",
       "      <td>181.0</td>\n",
       "      <td>3750.0</td>\n",
       "      <td>male</td>\n",
       "      <td>2007</td>\n",
       "    </tr>\n",
       "    <tr>\n",
       "      <th>1</th>\n",
       "      <td>2</td>\n",
       "      <td>Adelie</td>\n",
       "      <td>Torgersen</td>\n",
       "      <td>39.5</td>\n",
       "      <td>17.4</td>\n",
       "      <td>186.0</td>\n",
       "      <td>3800.0</td>\n",
       "      <td>female</td>\n",
       "      <td>2007</td>\n",
       "    </tr>\n",
       "    <tr>\n",
       "      <th>2</th>\n",
       "      <td>3</td>\n",
       "      <td>Adelie</td>\n",
       "      <td>Torgersen</td>\n",
       "      <td>40.3</td>\n",
       "      <td>18.0</td>\n",
       "      <td>195.0</td>\n",
       "      <td>3250.0</td>\n",
       "      <td>female</td>\n",
       "      <td>2007</td>\n",
       "    </tr>\n",
       "    <tr>\n",
       "      <th>3</th>\n",
       "      <td>4</td>\n",
       "      <td>Adelie</td>\n",
       "      <td>Torgersen</td>\n",
       "      <td>NaN</td>\n",
       "      <td>NaN</td>\n",
       "      <td>NaN</td>\n",
       "      <td>NaN</td>\n",
       "      <td>NaN</td>\n",
       "      <td>2007</td>\n",
       "    </tr>\n",
       "    <tr>\n",
       "      <th>4</th>\n",
       "      <td>5</td>\n",
       "      <td>Adelie</td>\n",
       "      <td>Torgersen</td>\n",
       "      <td>36.7</td>\n",
       "      <td>19.3</td>\n",
       "      <td>193.0</td>\n",
       "      <td>3450.0</td>\n",
       "      <td>female</td>\n",
       "      <td>2007</td>\n",
       "    </tr>\n",
       "    <tr>\n",
       "      <th>...</th>\n",
       "      <td>...</td>\n",
       "      <td>...</td>\n",
       "      <td>...</td>\n",
       "      <td>...</td>\n",
       "      <td>...</td>\n",
       "      <td>...</td>\n",
       "      <td>...</td>\n",
       "      <td>...</td>\n",
       "      <td>...</td>\n",
       "    </tr>\n",
       "    <tr>\n",
       "      <th>339</th>\n",
       "      <td>340</td>\n",
       "      <td>Chinstrap</td>\n",
       "      <td>Dream</td>\n",
       "      <td>55.8</td>\n",
       "      <td>19.8</td>\n",
       "      <td>207.0</td>\n",
       "      <td>4000.0</td>\n",
       "      <td>male</td>\n",
       "      <td>2009</td>\n",
       "    </tr>\n",
       "    <tr>\n",
       "      <th>340</th>\n",
       "      <td>341</td>\n",
       "      <td>Chinstrap</td>\n",
       "      <td>Dream</td>\n",
       "      <td>43.5</td>\n",
       "      <td>18.1</td>\n",
       "      <td>202.0</td>\n",
       "      <td>3400.0</td>\n",
       "      <td>female</td>\n",
       "      <td>2009</td>\n",
       "    </tr>\n",
       "    <tr>\n",
       "      <th>341</th>\n",
       "      <td>342</td>\n",
       "      <td>Chinstrap</td>\n",
       "      <td>Dream</td>\n",
       "      <td>49.6</td>\n",
       "      <td>18.2</td>\n",
       "      <td>193.0</td>\n",
       "      <td>3775.0</td>\n",
       "      <td>male</td>\n",
       "      <td>2009</td>\n",
       "    </tr>\n",
       "    <tr>\n",
       "      <th>342</th>\n",
       "      <td>343</td>\n",
       "      <td>Chinstrap</td>\n",
       "      <td>Dream</td>\n",
       "      <td>50.8</td>\n",
       "      <td>19.0</td>\n",
       "      <td>210.0</td>\n",
       "      <td>4100.0</td>\n",
       "      <td>male</td>\n",
       "      <td>2009</td>\n",
       "    </tr>\n",
       "    <tr>\n",
       "      <th>343</th>\n",
       "      <td>344</td>\n",
       "      <td>Chinstrap</td>\n",
       "      <td>Dream</td>\n",
       "      <td>50.2</td>\n",
       "      <td>18.7</td>\n",
       "      <td>198.0</td>\n",
       "      <td>3775.0</td>\n",
       "      <td>female</td>\n",
       "      <td>2009</td>\n",
       "    </tr>\n",
       "  </tbody>\n",
       "</table>\n",
       "<p>344 rows × 9 columns</p>\n",
       "</div>"
      ],
      "text/plain": [
       "     rowid    species     island  bill_length_mm  bill_depth_mm  \\\n",
       "0        1     Adelie  Torgersen            39.1           18.7   \n",
       "1        2     Adelie  Torgersen            39.5           17.4   \n",
       "2        3     Adelie  Torgersen            40.3           18.0   \n",
       "3        4     Adelie  Torgersen             NaN            NaN   \n",
       "4        5     Adelie  Torgersen            36.7           19.3   \n",
       "..     ...        ...        ...             ...            ...   \n",
       "339    340  Chinstrap      Dream            55.8           19.8   \n",
       "340    341  Chinstrap      Dream            43.5           18.1   \n",
       "341    342  Chinstrap      Dream            49.6           18.2   \n",
       "342    343  Chinstrap      Dream            50.8           19.0   \n",
       "343    344  Chinstrap      Dream            50.2           18.7   \n",
       "\n",
       "     flipper_length_mm  body_mass_g     sex  year  \n",
       "0                181.0       3750.0    male  2007  \n",
       "1                186.0       3800.0  female  2007  \n",
       "2                195.0       3250.0  female  2007  \n",
       "3                  NaN          NaN     NaN  2007  \n",
       "4                193.0       3450.0  female  2007  \n",
       "..                 ...          ...     ...   ...  \n",
       "339              207.0       4000.0    male  2009  \n",
       "340              202.0       3400.0  female  2009  \n",
       "341              193.0       3775.0    male  2009  \n",
       "342              210.0       4100.0    male  2009  \n",
       "343              198.0       3775.0  female  2009  \n",
       "\n",
       "[344 rows x 9 columns]"
      ]
     },
     "execution_count": 3,
     "metadata": {},
     "output_type": "execute_result"
    }
   ],
   "source": [
    "penguin"
   ]
  },
  {
   "cell_type": "markdown",
   "id": "1d17e0fb-f26d-4804-9592-46f157bd918c",
   "metadata": {},
   "source": [
    "<h2>QUESTION#1: HOW MANY FEMALE BORN IN 2007?</h2>\n",
    "<HR>"
   ]
  },
  {
   "cell_type": "code",
   "execution_count": 7,
   "id": "93e8ea07-eb1c-4284-9b33-d04c1cd660b5",
   "metadata": {},
   "outputs": [],
   "source": [
    "year_female = penguin.groupby(['sex','year']).size()"
   ]
  },
  {
   "cell_type": "code",
   "execution_count": 8,
   "id": "7912b615-95e3-4359-aebf-b995fab681ae",
   "metadata": {},
   "outputs": [
    {
     "data": {
      "text/plain": [
       "sex     year\n",
       "female  2007    51\n",
       "        2008    56\n",
       "        2009    58\n",
       "male    2007    52\n",
       "        2008    57\n",
       "        2009    59\n",
       "dtype: int64"
      ]
     },
     "execution_count": 8,
     "metadata": {},
     "output_type": "execute_result"
    }
   ],
   "source": [
    "year_female"
   ]
  },
  {
   "cell_type": "markdown",
   "id": "ff143f97-ddb9-46dd-9f9d-b1eac70757d4",
   "metadata": {},
   "source": [
    "<H2>INSIGHT: BASED ON THE DATA ABOVE THERE ARE 51 FEMALE PENGUIN BORN IN 2007</h2>\n",
    "<HR>"
   ]
  },
  {
   "cell_type": "markdown",
   "id": "c2438c4f-8472-4b97-8f5a-288b6de37c2a",
   "metadata": {},
   "source": [
    "<h2>QUESTION#2: HOW MANY MALE BORN IN DREAM ISLAND?</h2>\n",
    "<HR>"
   ]
  },
  {
   "cell_type": "code",
   "execution_count": 16,
   "id": "40c45f58-c80b-418f-ba71-4c391f854fd1",
   "metadata": {},
   "outputs": [],
   "source": [
    "male_dream = penguin.groupby(['island', 'sex']).size()"
   ]
  },
  {
   "cell_type": "code",
   "execution_count": 17,
   "id": "16b7faa8-a042-4921-a963-15c2dbe4c843",
   "metadata": {},
   "outputs": [
    {
     "data": {
      "text/plain": [
       "island     sex   \n",
       "Biscoe     female    80\n",
       "           male      83\n",
       "Dream      female    61\n",
       "           male      62\n",
       "Torgersen  female    24\n",
       "           male      23\n",
       "dtype: int64"
      ]
     },
     "execution_count": 17,
     "metadata": {},
     "output_type": "execute_result"
    }
   ],
   "source": [
    "male_dream"
   ]
  },
  {
   "cell_type": "markdown",
   "id": "71e584ac-a80f-486d-8a66-9bc8b962f318",
   "metadata": {},
   "source": [
    "<h2>INSIGHT: THERE ARE 62 MALE BORN/LIVE IN DREAM ISLAND</h2>\n",
    "<HR>"
   ]
  },
  {
   "cell_type": "markdown",
   "id": "8ae27609-399f-46be-8175-f5f9fd4430c8",
   "metadata": {},
   "source": [
    "<h2>QUESTION#3: IS THERE A CORRELATION IN PENGUINS FLIPPER AND BODY MASS?</h2>\n",
    "<HR>"
   ]
  },
  {
   "cell_type": "code",
   "execution_count": 18,
   "id": "5dec9df7-14cd-4b9f-8e57-6bd6ec8f7427",
   "metadata": {},
   "outputs": [],
   "source": [
    "flipper_mass = penguin['flipper_length_mm'].corr(penguin['body_mass_g'])"
   ]
  },
  {
   "cell_type": "code",
   "execution_count": 19,
   "id": "868767ad-58a6-4436-9077-0a2700d7eb58",
   "metadata": {},
   "outputs": [
    {
     "data": {
      "text/plain": [
       "np.float64(0.8712017673060116)"
      ]
     },
     "execution_count": 19,
     "metadata": {},
     "output_type": "execute_result"
    }
   ],
   "source": [
    "flipper_mass"
   ]
  },
  {
   "cell_type": "markdown",
   "id": "18eebc4b-57f3-4105-bfc6-10a486c59b48",
   "metadata": {},
   "source": [
    "<h2>INSIGHT: THEREFORE, THERE IS A HIGH CORRELATION BETWEEN PENGUINS FLIPPER AND BODY MASS</h2>\n",
    "<HR>"
   ]
  },
  {
   "cell_type": "markdown",
   "id": "75347894-26f3-4eb8-bbf3-7696924d9a39",
   "metadata": {},
   "source": [
    "<h2>QUESTION#4: AVERAGE BILL_LENGTH_MM MALES</h2>\n",
    "<HR>"
   ]
  },
  {
   "cell_type": "code",
   "execution_count": 22,
   "id": "460e9eef-0d95-4054-9a5e-d79143ef5e29",
   "metadata": {},
   "outputs": [
    {
     "data": {
      "text/plain": [
       "np.float64(45.85476190476191)"
      ]
     },
     "execution_count": 22,
     "metadata": {},
     "output_type": "execute_result"
    }
   ],
   "source": [
    "penguin[penguin['sex'] == 'male']['bill_length_mm'].mean()"
   ]
  },
  {
   "cell_type": "markdown",
   "id": "d7a5a8d3-7022-4833-809a-fa404f33f849",
   "metadata": {},
   "source": [
    "<h2>INSIGHT: THERE IS AN AVERAGE OF 45.85476190476191 IN MALES BILL LENGTH</h2>\n",
    "<HR>"
   ]
  },
  {
   "cell_type": "markdown",
   "id": "a2bb8f39-b19a-4405-be98-12571f3e0153",
   "metadata": {},
   "source": [
    "<h2>QUESTION#5: WHAT SPECIES COMMONLY FOUND IN TORGERSEN?</h2>\n",
    "<HR>"
   ]
  },
  {
   "cell_type": "code",
   "execution_count": 25,
   "id": "8eecd132-5bb1-4db4-b97c-d369857aa647",
   "metadata": {},
   "outputs": [
    {
     "data": {
      "text/plain": [
       "species\n",
       "Adelie    52\n",
       "Name: count, dtype: int64"
      ]
     },
     "execution_count": 25,
     "metadata": {},
     "output_type": "execute_result"
    }
   ],
   "source": [
    "penguin[penguin['island'] == 'Torgersen']['species'].value_counts()"
   ]
  },
  {
   "cell_type": "markdown",
   "id": "8b001c38-fb7f-48a2-8fd0-45b1d06eaa66",
   "metadata": {},
   "source": [
    "<h2>INSIGHT: THE SPECIES COMMONLY FOUND IN TORGERSEN IS ADELIE</h2>\n",
    "<HR>"
   ]
  },
  {
   "cell_type": "markdown",
   "id": "591028f6-738b-4598-9608-d9e8c76bea5d",
   "metadata": {},
   "source": [
    "<h2>QUESTION#6: HOW MANY PENGUINS BORN/ALIVE IN YEAR 2009?</h2>\n",
    "<HR>"
   ]
  },
  {
   "cell_type": "code",
   "execution_count": 26,
   "id": "b1b557d2-0160-422a-a34a-87f3bff67e72",
   "metadata": {},
   "outputs": [],
   "source": [
    "year = penguin.groupby('year').size()"
   ]
  },
  {
   "cell_type": "code",
   "execution_count": 27,
   "id": "eb2ae92a-0bd9-4f58-a096-270c9603a0b9",
   "metadata": {},
   "outputs": [
    {
     "data": {
      "text/plain": [
       "year\n",
       "2007    110\n",
       "2008    114\n",
       "2009    120\n",
       "dtype: int64"
      ]
     },
     "execution_count": 27,
     "metadata": {},
     "output_type": "execute_result"
    }
   ],
   "source": [
    "year"
   ]
  },
  {
   "cell_type": "markdown",
   "id": "00c10649-2b47-4530-b3c1-d7b9ac771f52",
   "metadata": {},
   "source": [
    "<h2>INSIGHT: 120 PENGUINS BORN OR ALIVE IN YEAR 2009</h2>\n",
    "<HR>"
   ]
  },
  {
   "cell_type": "markdown",
   "id": "1e426b5d-c0b8-459e-b5a0-ccc3fe6b8c83",
   "metadata": {},
   "source": [
    "<h2>QUESTION#7: AVERAGE BODY MASS IN BISCOE</h2>\n",
    "<HR>"
   ]
  },
  {
   "cell_type": "code",
   "execution_count": 28,
   "id": "6872bf38-e775-494e-b0fd-c2bdb777046a",
   "metadata": {},
   "outputs": [
    {
     "data": {
      "text/plain": [
       "np.float64(4716.017964071856)"
      ]
     },
     "execution_count": 28,
     "metadata": {},
     "output_type": "execute_result"
    }
   ],
   "source": [
    "penguin[penguin['island'] == 'Biscoe']['body_mass_g'].mean()"
   ]
  },
  {
   "cell_type": "markdown",
   "id": "6fe26a6f-2413-4ccc-b33a-a9a3c492f641",
   "metadata": {},
   "source": [
    "<h2>INSIGHT: THE AVERAGE MASS OF PENGUINS IN BISCOE IS 4716.017964071856</h2>\n",
    "<HR>"
   ]
  },
  {
   "cell_type": "markdown",
   "id": "c0dd3cea-dc25-4603-bd03-442d525e08b6",
   "metadata": {},
   "source": [
    "<h2>QUESTION#8: HOW MANY FEMALE PENGUINS LIVE IN EACH ISLAND?</h2>\n",
    "<HR>"
   ]
  },
  {
   "cell_type": "code",
   "execution_count": 31,
   "id": "28d02300-3f88-4e35-9d9f-54c224e73e10",
   "metadata": {},
   "outputs": [
    {
     "data": {
      "text/plain": [
       "island\n",
       "Biscoe       80\n",
       "Dream        61\n",
       "Torgersen    24\n",
       "Name: count, dtype: int64"
      ]
     },
     "execution_count": 31,
     "metadata": {},
     "output_type": "execute_result"
    }
   ],
   "source": [
    "penguin[penguin['sex'] == 'female']['island'].value_counts()"
   ]
  },
  {
   "cell_type": "markdown",
   "id": "c146685e-1f07-461b-a95d-10f218e14853",
   "metadata": {},
   "source": [
    "<h3>INSIGHT: THEREFORE, 80 FEMALE PENGUINS LIVE IN BISCOE, 61 IN DREAM AND 24 IN TORGERSEN</h3>\n",
    "<hr>"
   ]
  },
  {
   "cell_type": "markdown",
   "id": "4e659c6e-0c61-4710-bcb7-ab3fba0b3eee",
   "metadata": {},
   "source": [
    "<h3>QUESTION#9: HOW MANY MALE PNGUINS LIVE IN EACH ISLAND?</h3>\n",
    "<hr>"
   ]
  },
  {
   "cell_type": "code",
   "execution_count": 32,
   "id": "9626e62a-a884-49c1-8d95-308f6cb9aa0a",
   "metadata": {},
   "outputs": [
    {
     "data": {
      "text/plain": [
       "island\n",
       "Biscoe       83\n",
       "Dream        62\n",
       "Torgersen    23\n",
       "Name: count, dtype: int64"
      ]
     },
     "execution_count": 32,
     "metadata": {},
     "output_type": "execute_result"
    }
   ],
   "source": [
    "penguin[penguin['sex'] == 'male']['island'].value_counts()"
   ]
  },
  {
   "cell_type": "markdown",
   "id": "b3d86031-8bdb-4042-9571-2186abb9d8cf",
   "metadata": {},
   "source": [
    "<h3>INSIGHT: THEREFORE, 83 MALE PENGUINS LIVE IN BISCOE, 62 IN DREAM AND 23 IN TORGERSEN</h3>\n",
    "<hr>"
   ]
  },
  {
   "cell_type": "markdown",
   "id": "f207c91d-ac3a-422e-a85d-8670da517acb",
   "metadata": {},
   "source": [
    "<h3>QUESTION#10: WHAT GENDER OF PENGUIN COMMONLY FOUND IN EACH ISLAND?</h3>\n",
    "<hr>"
   ]
  },
  {
   "cell_type": "code",
   "execution_count": 34,
   "id": "1b1154ec-a2ec-4d4f-98ff-11f30b27510d",
   "metadata": {},
   "outputs": [
    {
     "data": {
      "text/plain": [
       "island     sex   \n",
       "Biscoe     female    80\n",
       "           male      83\n",
       "Dream      female    61\n",
       "           male      62\n",
       "Torgersen  female    24\n",
       "           male      23\n",
       "dtype: int64"
      ]
     },
     "execution_count": 34,
     "metadata": {},
     "output_type": "execute_result"
    }
   ],
   "source": [
    "penguin.groupby(['island', 'sex']).size()"
   ]
  },
  {
   "cell_type": "markdown",
   "id": "c391e861-5ccf-4feb-acce-ac9592e83532",
   "metadata": {},
   "source": [
    "<h3>INSIGHT: THEREFORE, IN BISCOE MALE IS MORE COMMONLY FOUND AS WELL AS DREAM WHILE IN TORGERSEN FEMALE IS COMMONLY FOUND THE DIFFERENCE IS JUST 1-3 PENGUIN</h3>\n",
    "<hr>"
   ]
  },
  {
   "cell_type": "markdown",
   "id": "7d1f6f30-a867-4c9f-a88d-f6f3dbbf061e",
   "metadata": {},
   "source": [
    "<h3>QUESTION#11: Which sex (male or female) tends to have the greater body mass on average?</h3>\n",
    "<hr>"
   ]
  },
  {
   "cell_type": "code",
   "execution_count": 39,
   "id": "6b205613-c405-4434-aadf-5378a5456bfc",
   "metadata": {},
   "outputs": [
    {
     "data": {
      "text/plain": [
       "np.float64(3862.2727272727275)"
      ]
     },
     "execution_count": 39,
     "metadata": {},
     "output_type": "execute_result"
    }
   ],
   "source": [
    "penguin[penguin['sex'] == 'female']['body_mass_g'].mean()"
   ]
  },
  {
   "cell_type": "code",
   "execution_count": 40,
   "id": "d349b427-e719-4f1e-84cc-7ad9487c61f5",
   "metadata": {},
   "outputs": [
    {
     "data": {
      "text/plain": [
       "np.float64(4545.684523809524)"
      ]
     },
     "execution_count": 40,
     "metadata": {},
     "output_type": "execute_result"
    }
   ],
   "source": [
    "penguin[penguin['sex'] == 'male']['body_mass_g'].mean()"
   ]
  },
  {
   "cell_type": "markdown",
   "id": "a5bfbe3e-7603-4eb4-85f5-d59852d4fca1",
   "metadata": {},
   "source": [
    "<h3>INSIGHT: MALE TEND TO HAVE GREATER BODY MASS BASED ON THEIR AVERAGE </h3>\n",
    "<hr>"
   ]
  },
  {
   "cell_type": "markdown",
   "id": "ed20ab90-aa60-40cf-9b39-2dd37284bbd7",
   "metadata": {},
   "source": [
    "<h3>QUESTION#12: How many penguins in the dataset have a body mass greater than 5,000 grams?</h3>\n",
    "<hr>"
   ]
  },
  {
   "cell_type": "code",
   "execution_count": 48,
   "id": "6c42adf1-04c2-4194-8ab4-ff2edece3e78",
   "metadata": {},
   "outputs": [],
   "source": [
    "count = (penguin['body_mass_g'] > 5000).sum()"
   ]
  },
  {
   "cell_type": "code",
   "execution_count": 49,
   "id": "052c4501-1355-49bb-9271-642de37e5e52",
   "metadata": {},
   "outputs": [
    {
     "data": {
      "text/plain": [
       "np.int64(61)"
      ]
     },
     "execution_count": 49,
     "metadata": {},
     "output_type": "execute_result"
    }
   ],
   "source": [
    "count"
   ]
  },
  {
   "cell_type": "markdown",
   "id": "106b4fa0-6c61-4dbc-b2cc-281011ef83bb",
   "metadata": {},
   "source": [
    "<h3>INSIGHT: THERE ARE 61 PENGUINS THAT HAS A BODY MASS GREATER THAN 5000 GRAMS </h3>\n",
    "<hr>"
   ]
  },
  {
   "cell_type": "code",
   "execution_count": null,
   "id": "bebf833c-5c49-43a1-9cfb-01b92cd90f7c",
   "metadata": {},
   "outputs": [],
   "source": []
  }
 ],
 "metadata": {
  "kernelspec": {
   "display_name": "Python 3 (ipykernel)",
   "language": "python",
   "name": "python3"
  },
  "language_info": {
   "codemirror_mode": {
    "name": "ipython",
    "version": 3
   },
   "file_extension": ".py",
   "mimetype": "text/x-python",
   "name": "python",
   "nbconvert_exporter": "python",
   "pygments_lexer": "ipython3",
   "version": "3.13.5"
  }
 },
 "nbformat": 4,
 "nbformat_minor": 5
}

{
 "cells": [
  {
   "cell_type": "markdown",
   "id": "dc9f981f-f409-4766-b62d-eaf8b4b1a5af",
   "metadata": {},
   "source": [
    "<H1>ACTIVTIY1: PALMER PENGUINS DATA ANALYTICS</H1>\n",
    "<HR>\n",
    "<H3>ANALYST: MARIA ASHLEY JOY ENALLO</H3>"
   ]
  },
  {
   "cell_type": "code",
   "execution_count": 1,
   "id": "892c21c6-246e-4ed7-8ccd-f8b4926f07b4",
   "metadata": {},
   "outputs": [],
   "source": [
    "import numpy as np\n",
    "import pandas as pd\n",
    "from scipy.stats import f_oneway\n",
    "import warnings\n",
    "warnings.filterwarnings('ignore')"
   ]
  },
  {
   "cell_type": "code",
   "execution_count": 2,
   "id": "7f588d96-86bd-4bc4-a898-1503b602de08",
   "metadata": {},
   "outputs": [],
   "source": [
    "penguin = pd.read_csv('dataset\\\\penguins.csv')"
   ]
  },
  {
   "cell_type": "code",
   "execution_count": 3,
   "id": "e5b9ece2-4450-451e-b592-82673b3cba34",
   "metadata": {},
   "outputs": [
    {
     "data": {
      "text/html": [
       "<div>\n",
       "<style scoped>\n",
       "    .dataframe tbody tr th:only-of-type {\n",
       "        vertical-align: middle;\n",
       "    }\n",
       "\n",
       "    .dataframe tbody tr th {\n",
       "        vertical-align: top;\n",
       "    }\n",
       "\n",
       "    .dataframe thead th {\n",
       "        text-align: right;\n",
       "    }\n",
       "</style>\n",
       "<table border=\"1\" class=\"dataframe\">\n",
       "  <thead>\n",
       "    <tr style=\"text-align: right;\">\n",
       "      <th></th>\n",
       "      <th>rowid</th>\n",
       "      <th>species</th>\n",
       "      <th>island</th>\n",
       "      <th>bill_length_mm</th>\n",
       "      <th>bill_depth_mm</th>\n",
       "      <th>flipper_length_mm</th>\n",
       "      <th>body_mass_g</th>\n",
       "      <th>sex</th>\n",
       "      <th>year</th>\n",
       "    </tr>\n",
       "  </thead>\n",
       "  <tbody>\n",
       "    <tr>\n",
       "      <th>0</th>\n",
       "      <td>1</td>\n",
       "      <td>Adelie</td>\n",
       "      <td>Torgersen</td>\n",
       "      <td>39.1</td>\n",
       "      <td>18.7</td>\n",
       "      <td>181.0</td>\n",
       "      <td>3750.0</td>\n",
       "      <td>male</td>\n",
       "      <td>2007</td>\n",
       "    </tr>\n",
       "    <tr>\n",
       "      <th>1</th>\n",
       "      <td>2</td>\n",
       "      <td>Adelie</td>\n",
       "      <td>Torgersen</td>\n",
       "      <td>39.5</td>\n",
       "      <td>17.4</td>\n",
       "      <td>186.0</td>\n",
       "      <td>3800.0</td>\n",
       "      <td>female</td>\n",
       "      <td>2007</td>\n",
       "    </tr>\n",
       "    <tr>\n",
       "      <th>2</th>\n",
       "      <td>3</td>\n",
       "      <td>Adelie</td>\n",
       "      <td>Torgersen</td>\n",
       "      <td>40.3</td>\n",
       "      <td>18.0</td>\n",
       "      <td>195.0</td>\n",
       "      <td>3250.0</td>\n",
       "      <td>female</td>\n",
       "      <td>2007</td>\n",
       "    </tr>\n",
       "    <tr>\n",
       "      <th>3</th>\n",
       "      <td>4</td>\n",
       "      <td>Adelie</td>\n",
       "      <td>Torgersen</td>\n",
       "      <td>NaN</td>\n",
       "      <td>NaN</td>\n",
       "      <td>NaN</td>\n",
       "      <td>NaN</td>\n",
       "      <td>NaN</td>\n",
       "      <td>2007</td>\n",
       "    </tr>\n",
       "    <tr>\n",
       "      <th>4</th>\n",
       "      <td>5</td>\n",
       "      <td>Adelie</td>\n",
       "      <td>Torgersen</td>\n",
       "      <td>36.7</td>\n",
       "      <td>19.3</td>\n",
       "      <td>193.0</td>\n",
       "      <td>3450.0</td>\n",
       "      <td>female</td>\n",
       "      <td>2007</td>\n",
       "    </tr>\n",
       "    <tr>\n",
       "      <th>...</th>\n",
       "      <td>...</td>\n",
       "      <td>...</td>\n",
       "      <td>...</td>\n",
       "      <td>...</td>\n",
       "      <td>...</td>\n",
       "      <td>...</td>\n",
       "      <td>...</td>\n",
       "      <td>...</td>\n",
       "      <td>...</td>\n",
       "    </tr>\n",
       "    <tr>\n",
       "      <th>339</th>\n",
       "      <td>340</td>\n",
       "      <td>Chinstrap</td>\n",
       "      <td>Dream</td>\n",
       "      <td>55.8</td>\n",
       "      <td>19.8</td>\n",
       "      <td>207.0</td>\n",
       "      <td>4000.0</td>\n",
       "      <td>male</td>\n",
       "      <td>2009</td>\n",
       "    </tr>\n",
       "    <tr>\n",
       "      <th>340</th>\n",
       "      <td>341</td>\n",
       "      <td>Chinstrap</td>\n",
       "      <td>Dream</td>\n",
       "      <td>43.5</td>\n",
       "      <td>18.1</td>\n",
       "      <td>202.0</td>\n",
       "      <td>3400.0</td>\n",
       "      <td>female</td>\n",
       "      <td>2009</td>\n",
       "    </tr>\n",
       "    <tr>\n",
       "      <th>341</th>\n",
       "      <td>342</td>\n",
       "      <td>Chinstrap</td>\n",
       "      <td>Dream</td>\n",
       "      <td>49.6</td>\n",
       "      <td>18.2</td>\n",
       "      <td>193.0</td>\n",
       "      <td>3775.0</td>\n",
       "      <td>male</td>\n",
       "      <td>2009</td>\n",
       "    </tr>\n",
       "    <tr>\n",
       "      <th>342</th>\n",
       "      <td>343</td>\n",
       "      <td>Chinstrap</td>\n",
       "      <td>Dream</td>\n",
       "      <td>50.8</td>\n",
       "      <td>19.0</td>\n",
       "      <td>210.0</td>\n",
       "      <td>4100.0</td>\n",
       "      <td>male</td>\n",
       "      <td>2009</td>\n",
       "    </tr>\n",
       "    <tr>\n",
       "      <th>343</th>\n",
       "      <td>344</td>\n",
       "      <td>Chinstrap</td>\n",
       "      <td>Dream</td>\n",
       "      <td>50.2</td>\n",
       "      <td>18.7</td>\n",
       "      <td>198.0</td>\n",
       "      <td>3775.0</td>\n",
       "      <td>female</td>\n",
       "      <td>2009</td>\n",
       "    </tr>\n",
       "  </tbody>\n",
       "</table>\n",
       "<p>344 rows × 9 columns</p>\n",
       "</div>"
      ],
      "text/plain": [
       "     rowid    species     island  bill_length_mm  bill_depth_mm  \\\n",
       "0        1     Adelie  Torgersen            39.1           18.7   \n",
       "1        2     Adelie  Torgersen            39.5           17.4   \n",
       "2        3     Adelie  Torgersen            40.3           18.0   \n",
       "3        4     Adelie  Torgersen             NaN            NaN   \n",
       "4        5     Adelie  Torgersen            36.7           19.3   \n",
       "..     ...        ...        ...             ...            ...   \n",
       "339    340  Chinstrap      Dream            55.8           19.8   \n",
       "340    341  Chinstrap      Dream            43.5           18.1   \n",
       "341    342  Chinstrap      Dream            49.6           18.2   \n",
       "342    343  Chinstrap      Dream            50.8           19.0   \n",
       "343    344  Chinstrap      Dream            50.2           18.7   \n",
       "\n",
       "     flipper_length_mm  body_mass_g     sex  year  \n",
       "0                181.0       3750.0    male  2007  \n",
       "1                186.0       3800.0  female  2007  \n",
       "2                195.0       3250.0  female  2007  \n",
       "3                  NaN          NaN     NaN  2007  \n",
       "4                193.0       3450.0  female  2007  \n",
       "..                 ...          ...     ...   ...  \n",
       "339              207.0       4000.0    male  2009  \n",
       "340              202.0       3400.0  female  2009  \n",
       "341              193.0       3775.0    male  2009  \n",
       "342              210.0       4100.0    male  2009  \n",
       "343              198.0       3775.0  female  2009  \n",
       "\n",
       "[344 rows x 9 columns]"
      ]
     },
     "execution_count": 3,
     "metadata": {},
     "output_type": "execute_result"
    }
   ],
   "source": [
    "penguin"
   ]
  },
  {
   "cell_type": "markdown",
   "id": "1d17e0fb-f26d-4804-9592-46f157bd918c",
   "metadata": {},
   "source": [
    "<h2>QUESTION#1: HOW MANY FEMALE BORN IN 2007?</h2>\n",
    "<HR>"
   ]
  },
  {
   "cell_type": "code",
   "execution_count": 4,
   "id": "93e8ea07-eb1c-4284-9b33-d04c1cd660b5",
   "metadata": {},
   "outputs": [],
   "source": [
    "year_female = penguin.groupby(['sex','year']).size()"
   ]
  },
  {
   "cell_type": "code",
   "execution_count": 5,
   "id": "7912b615-95e3-4359-aebf-b995fab681ae",
   "metadata": {},
   "outputs": [
    {
     "data": {
      "text/plain": [
       "sex     year\n",
       "female  2007    51\n",
       "        2008    56\n",
       "        2009    58\n",
       "male    2007    52\n",
       "        2008    57\n",
       "        2009    59\n",
       "dtype: int64"
      ]
     },
     "execution_count": 5,
     "metadata": {},
     "output_type": "execute_result"
    }
   ],
   "source": [
    "year_female"
   ]
  },
  {
   "cell_type": "markdown",
   "id": "ff143f97-ddb9-46dd-9f9d-b1eac70757d4",
   "metadata": {},
   "source": [
    "<H2>INSIGHT: BASED ON THE DATA ABOVE THERE ARE 51 FEMALE PENGUIN BORN IN 2007</h2>\n",
    "<HR>"
   ]
  },
  {
   "cell_type": "markdown",
   "id": "c2438c4f-8472-4b97-8f5a-288b6de37c2a",
   "metadata": {},
   "source": [
    "<h2>QUESTION#2: HOW MANY MALE BORN IN DREAM ISLAND?</h2>\n",
    "<HR>"
   ]
  },
  {
   "cell_type": "code",
   "execution_count": 6,
   "id": "40c45f58-c80b-418f-ba71-4c391f854fd1",
   "metadata": {},
   "outputs": [],
   "source": [
    "male_dream = penguin.groupby(['island', 'sex']).size()"
   ]
  },
  {
   "cell_type": "code",
   "execution_count": 7,
   "id": "16b7faa8-a042-4921-a963-15c2dbe4c843",
   "metadata": {},
   "outputs": [
    {
     "data": {
      "text/plain": [
       "island     sex   \n",
       "Biscoe     female    80\n",
       "           male      83\n",
       "Dream      female    61\n",
       "           male      62\n",
       "Torgersen  female    24\n",
       "           male      23\n",
       "dtype: int64"
      ]
     },
     "execution_count": 7,
     "metadata": {},
     "output_type": "execute_result"
    }
   ],
   "source": [
    "male_dream"
   ]
  },
  {
   "cell_type": "markdown",
   "id": "71e584ac-a80f-486d-8a66-9bc8b962f318",
   "metadata": {},
   "source": [
    "<h2>INSIGHT: THERE ARE 62 MALE BORN/LIVE IN DREAM ISLAND</h2>\n",
    "<HR>"
   ]
  },
  {
   "cell_type": "markdown",
   "id": "8ae27609-399f-46be-8175-f5f9fd4430c8",
   "metadata": {},
   "source": [
    "<h2>QUESTION#3: IS THERE A CORRELATION IN PENGUINS FLIPPER AND BODY MASS?</h2>\n",
    "<HR>"
   ]
  },
  {
   "cell_type": "code",
   "execution_count": 8,
   "id": "5dec9df7-14cd-4b9f-8e57-6bd6ec8f7427",
   "metadata": {},
   "outputs": [],
   "source": [
    "flipper_mass = penguin['flipper_length_mm'].corr(penguin['body_mass_g'])"
   ]
  },
  {
   "cell_type": "code",
   "execution_count": 9,
   "id": "868767ad-58a6-4436-9077-0a2700d7eb58",
   "metadata": {},
   "outputs": [
    {
     "data": {
      "text/plain": [
       "np.float64(0.8712017673060116)"
      ]
     },
     "execution_count": 9,
     "metadata": {},
     "output_type": "execute_result"
    }
   ],
   "source": [
    "flipper_mass"
   ]
  },
  {
   "cell_type": "markdown",
   "id": "18eebc4b-57f3-4105-bfc6-10a486c59b48",
   "metadata": {},
   "source": [
    "<h2>INSIGHT: THEREFORE, THERE IS A HIGH CORRELATION BETWEEN PENGUINS FLIPPER AND BODY MASS</h2>\n",
    "<HR>"
   ]
  },
  {
   "cell_type": "markdown",
   "id": "75347894-26f3-4eb8-bbf3-7696924d9a39",
   "metadata": {},
   "source": [
    "<h2>QUESTION#4: AVERAGE BILL_LENGTH_MM MALES</h2>\n",
    "<HR>"
   ]
  },
  {
   "cell_type": "code",
   "execution_count": 10,
   "id": "460e9eef-0d95-4054-9a5e-d79143ef5e29",
   "metadata": {},
   "outputs": [
    {
     "data": {
      "text/plain": [
       "np.float64(45.85476190476191)"
      ]
     },
     "execution_count": 10,
     "metadata": {},
     "output_type": "execute_result"
    }
   ],
   "source": [
    "penguin[penguin['sex'] == 'male']['bill_length_mm'].mean()"
   ]
  },
  {
   "cell_type": "markdown",
   "id": "d7a5a8d3-7022-4833-809a-fa404f33f849",
   "metadata": {},
   "source": [
    "<h2>INSIGHT: THERE IS AN AVERAGE OF 45.85476190476191 IN MALES BILL LENGTH</h2>\n",
    "<HR>"
   ]
  },
  {
   "cell_type": "markdown",
   "id": "a2bb8f39-b19a-4405-be98-12571f3e0153",
   "metadata": {},
   "source": [
    "<h2>QUESTION#5: WHAT SPECIES COMMONLY FOUND IN TORGERSEN?</h2>\n",
    "<HR>"
   ]
  },
  {
   "cell_type": "code",
   "execution_count": 11,
   "id": "8eecd132-5bb1-4db4-b97c-d369857aa647",
   "metadata": {},
   "outputs": [
    {
     "data": {
      "text/plain": [
       "species\n",
       "Adelie    52\n",
       "Name: count, dtype: int64"
      ]
     },
     "execution_count": 11,
     "metadata": {},
     "output_type": "execute_result"
    }
   ],
   "source": [
    "penguin[penguin['island'] == 'Torgersen']['species'].value_counts()"
   ]
  },
  {
   "cell_type": "markdown",
   "id": "8b001c38-fb7f-48a2-8fd0-45b1d06eaa66",
   "metadata": {},
   "source": [
    "<h2>INSIGHT: THE SPECIES COMMONLY FOUND IN TORGERSEN IS ADELIE</h2>\n",
    "<HR>"
   ]
  },
  {
   "cell_type": "markdown",
   "id": "591028f6-738b-4598-9608-d9e8c76bea5d",
   "metadata": {},
   "source": [
    "<h2>QUESTION#6: HOW MANY PENGUINS BORN/ALIVE IN YEAR 2009?</h2>\n",
    "<HR>"
   ]
  },
  {
   "cell_type": "code",
   "execution_count": 12,
   "id": "b1b557d2-0160-422a-a34a-87f3bff67e72",
   "metadata": {},
   "outputs": [],
   "source": [
    "year = penguin.groupby('year').size()"
   ]
  },
  {
   "cell_type": "code",
   "execution_count": 13,
   "id": "eb2ae92a-0bd9-4f58-a096-270c9603a0b9",
   "metadata": {},
   "outputs": [
    {
     "data": {
      "text/plain": [
       "year\n",
       "2007    110\n",
       "2008    114\n",
       "2009    120\n",
       "dtype: int64"
      ]
     },
     "execution_count": 13,
     "metadata": {},
     "output_type": "execute_result"
    }
   ],
   "source": [
    "year"
   ]
  },
  {
   "cell_type": "markdown",
   "id": "00c10649-2b47-4530-b3c1-d7b9ac771f52",
   "metadata": {},
   "source": [
    "<h2>INSIGHT: 120 PENGUINS BORN OR ALIVE IN YEAR 2009</h2>\n",
    "<HR>"
   ]
  },
  {
   "cell_type": "markdown",
   "id": "1e426b5d-c0b8-459e-b5a0-ccc3fe6b8c83",
   "metadata": {},
   "source": [
    "<h2>QUESTION#7: AVERAGE BODY MASS IN BISCOE</h2>\n",
    "<HR>"
   ]
  },
  {
   "cell_type": "code",
   "execution_count": 14,
   "id": "6872bf38-e775-494e-b0fd-c2bdb777046a",
   "metadata": {},
   "outputs": [
    {
     "data": {
      "text/plain": [
       "np.float64(4716.017964071856)"
      ]
     },
     "execution_count": 14,
     "metadata": {},
     "output_type": "execute_result"
    }
   ],
   "source": [
    "penguin[penguin['island'] == 'Biscoe']['body_mass_g'].mean()"
   ]
  },
  {
   "cell_type": "markdown",
   "id": "6fe26a6f-2413-4ccc-b33a-a9a3c492f641",
   "metadata": {},
   "source": [
    "<h2>INSIGHT: THE AVERAGE MASS OF PENGUINS IN BISCOE IS 4716.017964071856</h2>\n",
    "<HR>"
   ]
  },
  {
   "cell_type": "markdown",
   "id": "c0dd3cea-dc25-4603-bd03-442d525e08b6",
   "metadata": {},
   "source": [
    "<h2>QUESTION#8: HOW MANY FEMALE PENGUINS LIVE IN EACH ISLAND?</h2>\n",
    "<HR>"
   ]
  },
  {
   "cell_type": "code",
   "execution_count": 15,
   "id": "28d02300-3f88-4e35-9d9f-54c224e73e10",
   "metadata": {},
   "outputs": [
    {
     "data": {
      "text/plain": [
       "island\n",
       "Biscoe       80\n",
       "Dream        61\n",
       "Torgersen    24\n",
       "Name: count, dtype: int64"
      ]
     },
     "execution_count": 15,
     "metadata": {},
     "output_type": "execute_result"
    }
   ],
   "source": [
    "penguin[penguin['sex'] == 'female']['island'].value_counts()"
   ]
  },
  {
   "cell_type": "markdown",
   "id": "c146685e-1f07-461b-a95d-10f218e14853",
   "metadata": {},
   "source": [
    "<h3>INSIGHT: THEREFORE, 80 FEMALE PENGUINS LIVE IN BISCOE, 61 IN DREAM AND 24 IN TORGERSEN</h3>\n",
    "<hr>"
   ]
  },
  {
   "cell_type": "markdown",
   "id": "4e659c6e-0c61-4710-bcb7-ab3fba0b3eee",
   "metadata": {},
   "source": [
    "<h3>QUESTION#9: HOW MANY MALE PNGUINS LIVE IN EACH ISLAND?</h3>\n",
    "<hr>"
   ]
  },
  {
   "cell_type": "code",
   "execution_count": 16,
   "id": "9626e62a-a884-49c1-8d95-308f6cb9aa0a",
   "metadata": {},
   "outputs": [
    {
     "data": {
      "text/plain": [
       "island\n",
       "Biscoe       83\n",
       "Dream        62\n",
       "Torgersen    23\n",
       "Name: count, dtype: int64"
      ]
     },
     "execution_count": 16,
     "metadata": {},
     "output_type": "execute_result"
    }
   ],
   "source": [
    "penguin[penguin['sex'] == 'male']['island'].value_counts()"
   ]
  },
  {
   "cell_type": "markdown",
   "id": "b3d86031-8bdb-4042-9571-2186abb9d8cf",
   "metadata": {},
   "source": [
    "<h3>INSIGHT: THEREFORE, 83 MALE PENGUINS LIVE IN BISCOE, 62 IN DREAM AND 23 IN TORGERSEN</h3>\n",
    "<hr>"
   ]
  },
  {
   "cell_type": "markdown",
   "id": "f207c91d-ac3a-422e-a85d-8670da517acb",
   "metadata": {},
   "source": [
    "<h3>QUESTION#10: WHAT GENDER OF PENGUIN COMMONLY FOUND IN EACH ISLAND?</h3>\n",
    "<hr>"
   ]
  },
  {
   "cell_type": "code",
   "execution_count": 17,
   "id": "1b1154ec-a2ec-4d4f-98ff-11f30b27510d",
   "metadata": {},
   "outputs": [
    {
     "data": {
      "text/plain": [
       "island     sex   \n",
       "Biscoe     female    80\n",
       "           male      83\n",
       "Dream      female    61\n",
       "           male      62\n",
       "Torgersen  female    24\n",
       "           male      23\n",
       "dtype: int64"
      ]
     },
     "execution_count": 17,
     "metadata": {},
     "output_type": "execute_result"
    }
   ],
   "source": [
    "penguin.groupby(['island', 'sex']).size()"
   ]
  },
  {
   "cell_type": "markdown",
   "id": "c391e861-5ccf-4feb-acce-ac9592e83532",
   "metadata": {},
   "source": [
    "<h3>INSIGHT: THEREFORE, IN BISCOE MALE IS MORE COMMONLY FOUND AS WELL AS DREAM WHILE IN TORGERSEN FEMALE IS COMMONLY FOUND THE DIFFERENCE IS JUST 1-3 PENGUIN</h3>\n",
    "<hr>"
   ]
  },
  {
   "cell_type": "markdown",
   "id": "7d1f6f30-a867-4c9f-a88d-f6f3dbbf061e",
   "metadata": {},
   "source": [
    "<h3>QUESTION#11: Which sex (male or female) tends to have the greater body mass on average?</h3>\n",
    "<hr>"
   ]
  },
  {
   "cell_type": "code",
   "execution_count": 18,
   "id": "6b205613-c405-4434-aadf-5378a5456bfc",
   "metadata": {},
   "outputs": [
    {
     "data": {
      "text/plain": [
       "np.float64(3862.2727272727275)"
      ]
     },
     "execution_count": 18,
     "metadata": {},
     "output_type": "execute_result"
    }
   ],
   "source": [
    "penguin[penguin['sex'] == 'female']['body_mass_g'].mean()"
   ]
  },
  {
   "cell_type": "code",
   "execution_count": 19,
   "id": "d349b427-e719-4f1e-84cc-7ad9487c61f5",
   "metadata": {},
   "outputs": [
    {
     "data": {
      "text/plain": [
       "np.float64(4545.684523809524)"
      ]
     },
     "execution_count": 19,
     "metadata": {},
     "output_type": "execute_result"
    }
   ],
   "source": [
    "penguin[penguin['sex'] == 'male']['body_mass_g'].mean()"
   ]
  },
  {
   "cell_type": "markdown",
   "id": "a5bfbe3e-7603-4eb4-85f5-d59852d4fca1",
   "metadata": {},
   "source": [
    "<h3>INSIGHT: MALE TEND TO HAVE GREATER BODY MASS BASED ON THEIR AVERAGE </h3>\n",
    "<hr>"
   ]
  },
  {
   "cell_type": "markdown",
   "id": "ed20ab90-aa60-40cf-9b39-2dd37284bbd7",
   "metadata": {},
   "source": [
    "<h3>QUESTION#12: How many penguins in the dataset have a body mass greater than 5,000 grams?</h3>\n",
    "<hr>"
   ]
  },
  {
   "cell_type": "code",
   "execution_count": 20,
   "id": "6c42adf1-04c2-4194-8ab4-ff2edece3e78",
   "metadata": {},
   "outputs": [],
   "source": [
    "count = (penguin['body_mass_g'] > 5000).sum()"
   ]
  },
  {
   "cell_type": "code",
   "execution_count": 21,
   "id": "052c4501-1355-49bb-9271-642de37e5e52",
   "metadata": {},
   "outputs": [
    {
     "data": {
      "text/plain": [
       "np.int64(61)"
      ]
     },
     "execution_count": 21,
     "metadata": {},
     "output_type": "execute_result"
    }
   ],
   "source": [
    "count"
   ]
  },
  {
   "cell_type": "markdown",
   "id": "106b4fa0-6c61-4dbc-b2cc-281011ef83bb",
   "metadata": {},
   "source": [
    "<h3>INSIGHT: THERE ARE 61 PENGUINS THAT HAS A BODY MASS GREATER THAN 5000 GRAMS </h3>\n",
    "<hr>"
   ]
  },
  {
   "cell_type": "markdown",
   "id": "a81eb6e6-c815-4b97-9e2c-e76e5e045474",
   "metadata": {},
   "source": [
    "<h3>QUESTION#13: What is the correlation between bill length and bill depth?</h3>\n",
    "<hr>"
   ]
  },
  {
   "cell_type": "code",
   "execution_count": 22,
   "id": "5fbcbc65-9268-4c1d-8e63-99d86ec65b3f",
   "metadata": {},
   "outputs": [
    {
     "data": {
      "text/plain": [
       "np.float64(-0.23505287035553274)"
      ]
     },
     "execution_count": 22,
     "metadata": {},
     "output_type": "execute_result"
    }
   ],
   "source": [
    "length_depth = penguin['bill_length_mm'].corr(penguin['bill_depth_mm'])\n",
    "length_depth"
   ]
  },
  {
   "cell_type": "markdown",
   "id": "2c969eff-7b50-4fa8-9dab-dca44f824aad",
   "metadata": {},
   "source": [
    "<h3>INSIGHT: THERE IS NO CORRELATION BETWEEN BILL LENGTH AND BILL DEPTH</h3>"
   ]
  },
  {
   "cell_type": "markdown",
   "id": "257d0bed-64cb-4b17-be7f-d0c468a591cf",
   "metadata": {},
   "source": [
    "<h3>QUESTION#14: DOES BODY MASS CORRELATE WITH YEAR OF OBSERVATION(2007,2008,2009)?</h3>\n",
    "<hr>"
   ]
  },
  {
   "cell_type": "code",
   "execution_count": 37,
   "id": "2a63a9bb-0b05-45bc-a676-77375ace71bc",
   "metadata": {},
   "outputs": [
    {
     "data": {
      "text/plain": [
       "np.float64(0.04220939154335576)"
      ]
     },
     "execution_count": 37,
     "metadata": {},
     "output_type": "execute_result"
    }
   ],
   "source": [
    "year = penguin['year'].corr(penguin['body_mass_g'])\n",
    "year"
   ]
  },
  {
   "cell_type": "markdown",
   "id": "480113f4-80b5-4f3d-a8de-12cfab0cb3e4",
   "metadata": {},
   "source": [
    "<h3>INSIGHT: THERE IS NO CORRELATION BETWEEN YEAR AND BODY MASS OF PENGUINS</h3>\n",
    "<hr>"
   ]
  },
  {
   "cell_type": "markdown",
   "id": "38f328cd-6a8e-4ef5-b35f-819fc71db915",
   "metadata": {},
   "source": [
    "<H3>QUESTION#14: What is the standard deviation of body mass for each sex?</H3>\n",
    "<HR>"
   ]
  },
  {
   "cell_type": "code",
   "execution_count": 38,
   "id": "b41b526a-4599-4001-9647-0cc2fa657bc2",
   "metadata": {},
   "outputs": [
    {
     "data": {
      "text/plain": [
       "np.float64(787.6288841581745)"
      ]
     },
     "execution_count": 38,
     "metadata": {},
     "output_type": "execute_result"
    }
   ],
   "source": [
    "sex_bm = penguin[penguin['sex'] == 'male']['body_mass_g'].std()\n",
    "sex_bm"
   ]
  },
  {
   "cell_type": "code",
   "execution_count": 39,
   "id": "64950738-b18d-448a-9e88-3324f88e405b",
   "metadata": {},
   "outputs": [
    {
     "data": {
      "text/plain": [
       "np.float64(666.1720495161449)"
      ]
     },
     "execution_count": 39,
     "metadata": {},
     "output_type": "execute_result"
    }
   ],
   "source": [
    "sex_bf = penguin[penguin['sex'] == 'female']['body_mass_g'].std()\n",
    "sex_bf"
   ]
  },
  {
   "cell_type": "markdown",
   "id": "eb69079a-8f07-43ff-a5d0-3dcb30a6d9c8",
   "metadata": {},
   "source": [
    "<h3>INSIGHT: THEREFORE THE STANDARD DEVIATION OF BODY MASS FOR EACH SEX OF PENGUIN IS MALE = 787.6288841581745 FEMALE = 666.1720495161449  </h3>"
   ]
  },
  {
   "cell_type": "markdown",
   "id": "0109381f-5b4c-49d6-8b20-11918e80c56b",
   "metadata": {},
   "source": [
    "<H3>QUESTION#15: How many penguins have a flipper length greater than 210 mm?</H3>\n",
    "<HR>"
   ]
  },
  {
   "cell_type": "code",
   "execution_count": 43,
   "id": "67033f9a-5ade-49c6-af33-edfa7b9e42e2",
   "metadata": {},
   "outputs": [
    {
     "data": {
      "text/plain": [
       "np.int64(100)"
      ]
     },
     "execution_count": 43,
     "metadata": {},
     "output_type": "execute_result"
    }
   ],
   "source": [
    "flipper_p = (penguin['flipper_length_mm'] > 210).sum()\n",
    "flipper_p"
   ]
  },
  {
   "cell_type": "markdown",
   "id": "97712170-cfcb-4d49-9444-59d2d0addde6",
   "metadata": {},
   "source": [
    "<h3>INSIGHT: THERE'S 100 PENGUIN THAT HAS GREATER THAN 210MM FLIPPER LENGTH</h3>"
   ]
  },
  {
   "cell_type": "markdown",
   "id": "25b18066-53a9-4f34-9af4-23624e860c71",
   "metadata": {},
   "source": [
    "<H3>QUESTION#16: How many penguins have a flipper length greater than 210 mm?</H3>\n",
    "<HR>"
   ]
  },
  {
   "cell_type": "code",
   "execution_count": 46,
   "id": "f42dc138-e682-47e2-aa48-eaa3d50c2a46",
   "metadata": {},
   "outputs": [
    {
     "data": {
      "text/html": [
       "<div>\n",
       "<style scoped>\n",
       "    .dataframe tbody tr th:only-of-type {\n",
       "        vertical-align: middle;\n",
       "    }\n",
       "\n",
       "    .dataframe tbody tr th {\n",
       "        vertical-align: top;\n",
       "    }\n",
       "\n",
       "    .dataframe thead th {\n",
       "        text-align: right;\n",
       "    }\n",
       "</style>\n",
       "<table border=\"1\" class=\"dataframe\">\n",
       "  <thead>\n",
       "    <tr style=\"text-align: right;\">\n",
       "      <th></th>\n",
       "      <th>rowid</th>\n",
       "      <th>species</th>\n",
       "      <th>island</th>\n",
       "      <th>bill_length_mm</th>\n",
       "      <th>bill_depth_mm</th>\n",
       "      <th>flipper_length_mm</th>\n",
       "      <th>body_mass_g</th>\n",
       "      <th>sex</th>\n",
       "      <th>year</th>\n",
       "    </tr>\n",
       "  </thead>\n",
       "  <tbody>\n",
       "    <tr>\n",
       "      <th>153</th>\n",
       "      <td>154</td>\n",
       "      <td>Gentoo</td>\n",
       "      <td>Biscoe</td>\n",
       "      <td>50.0</td>\n",
       "      <td>16.3</td>\n",
       "      <td>230.0</td>\n",
       "      <td>5700.0</td>\n",
       "      <td>male</td>\n",
       "      <td>2007</td>\n",
       "    </tr>\n",
       "    <tr>\n",
       "      <th>169</th>\n",
       "      <td>170</td>\n",
       "      <td>Gentoo</td>\n",
       "      <td>Biscoe</td>\n",
       "      <td>49.2</td>\n",
       "      <td>15.2</td>\n",
       "      <td>221.0</td>\n",
       "      <td>6300.0</td>\n",
       "      <td>male</td>\n",
       "      <td>2007</td>\n",
       "    </tr>\n",
       "    <tr>\n",
       "      <th>171</th>\n",
       "      <td>172</td>\n",
       "      <td>Gentoo</td>\n",
       "      <td>Biscoe</td>\n",
       "      <td>48.7</td>\n",
       "      <td>15.1</td>\n",
       "      <td>222.0</td>\n",
       "      <td>5350.0</td>\n",
       "      <td>male</td>\n",
       "      <td>2007</td>\n",
       "    </tr>\n",
       "    <tr>\n",
       "      <th>182</th>\n",
       "      <td>183</td>\n",
       "      <td>Gentoo</td>\n",
       "      <td>Biscoe</td>\n",
       "      <td>47.3</td>\n",
       "      <td>15.3</td>\n",
       "      <td>222.0</td>\n",
       "      <td>5250.0</td>\n",
       "      <td>male</td>\n",
       "      <td>2007</td>\n",
       "    </tr>\n",
       "    <tr>\n",
       "      <th>185</th>\n",
       "      <td>186</td>\n",
       "      <td>Gentoo</td>\n",
       "      <td>Biscoe</td>\n",
       "      <td>59.6</td>\n",
       "      <td>17.0</td>\n",
       "      <td>230.0</td>\n",
       "      <td>6050.0</td>\n",
       "      <td>male</td>\n",
       "      <td>2007</td>\n",
       "    </tr>\n",
       "    <tr>\n",
       "      <th>193</th>\n",
       "      <td>194</td>\n",
       "      <td>Gentoo</td>\n",
       "      <td>Biscoe</td>\n",
       "      <td>49.6</td>\n",
       "      <td>16.0</td>\n",
       "      <td>225.0</td>\n",
       "      <td>5700.0</td>\n",
       "      <td>male</td>\n",
       "      <td>2008</td>\n",
       "    </tr>\n",
       "    <tr>\n",
       "      <th>196</th>\n",
       "      <td>197</td>\n",
       "      <td>Gentoo</td>\n",
       "      <td>Biscoe</td>\n",
       "      <td>50.5</td>\n",
       "      <td>15.9</td>\n",
       "      <td>222.0</td>\n",
       "      <td>5550.0</td>\n",
       "      <td>male</td>\n",
       "      <td>2008</td>\n",
       "    </tr>\n",
       "    <tr>\n",
       "      <th>199</th>\n",
       "      <td>200</td>\n",
       "      <td>Gentoo</td>\n",
       "      <td>Biscoe</td>\n",
       "      <td>50.5</td>\n",
       "      <td>15.9</td>\n",
       "      <td>225.0</td>\n",
       "      <td>5400.0</td>\n",
       "      <td>male</td>\n",
       "      <td>2008</td>\n",
       "    </tr>\n",
       "    <tr>\n",
       "      <th>205</th>\n",
       "      <td>206</td>\n",
       "      <td>Gentoo</td>\n",
       "      <td>Biscoe</td>\n",
       "      <td>50.1</td>\n",
       "      <td>15.0</td>\n",
       "      <td>225.0</td>\n",
       "      <td>5000.0</td>\n",
       "      <td>male</td>\n",
       "      <td>2008</td>\n",
       "    </tr>\n",
       "    <tr>\n",
       "      <th>211</th>\n",
       "      <td>212</td>\n",
       "      <td>Gentoo</td>\n",
       "      <td>Biscoe</td>\n",
       "      <td>50.4</td>\n",
       "      <td>15.3</td>\n",
       "      <td>224.0</td>\n",
       "      <td>5550.0</td>\n",
       "      <td>male</td>\n",
       "      <td>2008</td>\n",
       "    </tr>\n",
       "    <tr>\n",
       "      <th>213</th>\n",
       "      <td>214</td>\n",
       "      <td>Gentoo</td>\n",
       "      <td>Biscoe</td>\n",
       "      <td>46.2</td>\n",
       "      <td>14.9</td>\n",
       "      <td>221.0</td>\n",
       "      <td>5300.0</td>\n",
       "      <td>male</td>\n",
       "      <td>2008</td>\n",
       "    </tr>\n",
       "    <tr>\n",
       "      <th>215</th>\n",
       "      <td>216</td>\n",
       "      <td>Gentoo</td>\n",
       "      <td>Biscoe</td>\n",
       "      <td>54.3</td>\n",
       "      <td>15.7</td>\n",
       "      <td>231.0</td>\n",
       "      <td>5650.0</td>\n",
       "      <td>male</td>\n",
       "      <td>2008</td>\n",
       "    </tr>\n",
       "    <tr>\n",
       "      <th>217</th>\n",
       "      <td>218</td>\n",
       "      <td>Gentoo</td>\n",
       "      <td>Biscoe</td>\n",
       "      <td>49.8</td>\n",
       "      <td>16.8</td>\n",
       "      <td>230.0</td>\n",
       "      <td>5700.0</td>\n",
       "      <td>male</td>\n",
       "      <td>2008</td>\n",
       "    </tr>\n",
       "    <tr>\n",
       "      <th>219</th>\n",
       "      <td>220</td>\n",
       "      <td>Gentoo</td>\n",
       "      <td>Biscoe</td>\n",
       "      <td>49.5</td>\n",
       "      <td>16.2</td>\n",
       "      <td>229.0</td>\n",
       "      <td>5800.0</td>\n",
       "      <td>male</td>\n",
       "      <td>2008</td>\n",
       "    </tr>\n",
       "    <tr>\n",
       "      <th>221</th>\n",
       "      <td>222</td>\n",
       "      <td>Gentoo</td>\n",
       "      <td>Biscoe</td>\n",
       "      <td>50.7</td>\n",
       "      <td>15.0</td>\n",
       "      <td>223.0</td>\n",
       "      <td>5550.0</td>\n",
       "      <td>male</td>\n",
       "      <td>2008</td>\n",
       "    </tr>\n",
       "    <tr>\n",
       "      <th>223</th>\n",
       "      <td>224</td>\n",
       "      <td>Gentoo</td>\n",
       "      <td>Biscoe</td>\n",
       "      <td>46.4</td>\n",
       "      <td>15.6</td>\n",
       "      <td>221.0</td>\n",
       "      <td>5000.0</td>\n",
       "      <td>male</td>\n",
       "      <td>2008</td>\n",
       "    </tr>\n",
       "    <tr>\n",
       "      <th>224</th>\n",
       "      <td>225</td>\n",
       "      <td>Gentoo</td>\n",
       "      <td>Biscoe</td>\n",
       "      <td>48.2</td>\n",
       "      <td>15.6</td>\n",
       "      <td>221.0</td>\n",
       "      <td>5100.0</td>\n",
       "      <td>male</td>\n",
       "      <td>2008</td>\n",
       "    </tr>\n",
       "    <tr>\n",
       "      <th>227</th>\n",
       "      <td>228</td>\n",
       "      <td>Gentoo</td>\n",
       "      <td>Biscoe</td>\n",
       "      <td>48.6</td>\n",
       "      <td>16.0</td>\n",
       "      <td>230.0</td>\n",
       "      <td>5800.0</td>\n",
       "      <td>male</td>\n",
       "      <td>2008</td>\n",
       "    </tr>\n",
       "    <tr>\n",
       "      <th>231</th>\n",
       "      <td>232</td>\n",
       "      <td>Gentoo</td>\n",
       "      <td>Biscoe</td>\n",
       "      <td>45.2</td>\n",
       "      <td>16.4</td>\n",
       "      <td>223.0</td>\n",
       "      <td>5950.0</td>\n",
       "      <td>male</td>\n",
       "      <td>2008</td>\n",
       "    </tr>\n",
       "    <tr>\n",
       "      <th>233</th>\n",
       "      <td>234</td>\n",
       "      <td>Gentoo</td>\n",
       "      <td>Biscoe</td>\n",
       "      <td>52.5</td>\n",
       "      <td>15.6</td>\n",
       "      <td>221.0</td>\n",
       "      <td>5450.0</td>\n",
       "      <td>male</td>\n",
       "      <td>2009</td>\n",
       "    </tr>\n",
       "    <tr>\n",
       "      <th>235</th>\n",
       "      <td>236</td>\n",
       "      <td>Gentoo</td>\n",
       "      <td>Biscoe</td>\n",
       "      <td>50.0</td>\n",
       "      <td>15.9</td>\n",
       "      <td>224.0</td>\n",
       "      <td>5350.0</td>\n",
       "      <td>male</td>\n",
       "      <td>2009</td>\n",
       "    </tr>\n",
       "    <tr>\n",
       "      <th>237</th>\n",
       "      <td>238</td>\n",
       "      <td>Gentoo</td>\n",
       "      <td>Biscoe</td>\n",
       "      <td>50.8</td>\n",
       "      <td>17.3</td>\n",
       "      <td>228.0</td>\n",
       "      <td>5600.0</td>\n",
       "      <td>male</td>\n",
       "      <td>2009</td>\n",
       "    </tr>\n",
       "    <tr>\n",
       "      <th>241</th>\n",
       "      <td>242</td>\n",
       "      <td>Gentoo</td>\n",
       "      <td>Biscoe</td>\n",
       "      <td>52.1</td>\n",
       "      <td>17.0</td>\n",
       "      <td>230.0</td>\n",
       "      <td>5550.0</td>\n",
       "      <td>male</td>\n",
       "      <td>2009</td>\n",
       "    </tr>\n",
       "    <tr>\n",
       "      <th>243</th>\n",
       "      <td>244</td>\n",
       "      <td>Gentoo</td>\n",
       "      <td>Biscoe</td>\n",
       "      <td>52.2</td>\n",
       "      <td>17.1</td>\n",
       "      <td>228.0</td>\n",
       "      <td>5400.0</td>\n",
       "      <td>male</td>\n",
       "      <td>2009</td>\n",
       "    </tr>\n",
       "    <tr>\n",
       "      <th>245</th>\n",
       "      <td>246</td>\n",
       "      <td>Gentoo</td>\n",
       "      <td>Biscoe</td>\n",
       "      <td>49.5</td>\n",
       "      <td>16.1</td>\n",
       "      <td>224.0</td>\n",
       "      <td>5650.0</td>\n",
       "      <td>male</td>\n",
       "      <td>2009</td>\n",
       "    </tr>\n",
       "    <tr>\n",
       "      <th>247</th>\n",
       "      <td>248</td>\n",
       "      <td>Gentoo</td>\n",
       "      <td>Biscoe</td>\n",
       "      <td>50.8</td>\n",
       "      <td>15.7</td>\n",
       "      <td>226.0</td>\n",
       "      <td>5200.0</td>\n",
       "      <td>male</td>\n",
       "      <td>2009</td>\n",
       "    </tr>\n",
       "    <tr>\n",
       "      <th>249</th>\n",
       "      <td>250</td>\n",
       "      <td>Gentoo</td>\n",
       "      <td>Biscoe</td>\n",
       "      <td>46.9</td>\n",
       "      <td>14.6</td>\n",
       "      <td>222.0</td>\n",
       "      <td>4875.0</td>\n",
       "      <td>female</td>\n",
       "      <td>2009</td>\n",
       "    </tr>\n",
       "    <tr>\n",
       "      <th>251</th>\n",
       "      <td>252</td>\n",
       "      <td>Gentoo</td>\n",
       "      <td>Biscoe</td>\n",
       "      <td>51.1</td>\n",
       "      <td>16.5</td>\n",
       "      <td>225.0</td>\n",
       "      <td>5250.0</td>\n",
       "      <td>male</td>\n",
       "      <td>2009</td>\n",
       "    </tr>\n",
       "    <tr>\n",
       "      <th>253</th>\n",
       "      <td>254</td>\n",
       "      <td>Gentoo</td>\n",
       "      <td>Biscoe</td>\n",
       "      <td>55.9</td>\n",
       "      <td>17.0</td>\n",
       "      <td>228.0</td>\n",
       "      <td>5600.0</td>\n",
       "      <td>male</td>\n",
       "      <td>2009</td>\n",
       "    </tr>\n",
       "    <tr>\n",
       "      <th>255</th>\n",
       "      <td>256</td>\n",
       "      <td>Gentoo</td>\n",
       "      <td>Biscoe</td>\n",
       "      <td>49.1</td>\n",
       "      <td>15.0</td>\n",
       "      <td>228.0</td>\n",
       "      <td>5500.0</td>\n",
       "      <td>male</td>\n",
       "      <td>2009</td>\n",
       "    </tr>\n",
       "    <tr>\n",
       "      <th>263</th>\n",
       "      <td>264</td>\n",
       "      <td>Gentoo</td>\n",
       "      <td>Biscoe</td>\n",
       "      <td>49.8</td>\n",
       "      <td>15.9</td>\n",
       "      <td>229.0</td>\n",
       "      <td>5950.0</td>\n",
       "      <td>male</td>\n",
       "      <td>2009</td>\n",
       "    </tr>\n",
       "    <tr>\n",
       "      <th>265</th>\n",
       "      <td>266</td>\n",
       "      <td>Gentoo</td>\n",
       "      <td>Biscoe</td>\n",
       "      <td>51.5</td>\n",
       "      <td>16.3</td>\n",
       "      <td>230.0</td>\n",
       "      <td>5500.0</td>\n",
       "      <td>male</td>\n",
       "      <td>2009</td>\n",
       "    </tr>\n",
       "    <tr>\n",
       "      <th>267</th>\n",
       "      <td>268</td>\n",
       "      <td>Gentoo</td>\n",
       "      <td>Biscoe</td>\n",
       "      <td>55.1</td>\n",
       "      <td>16.0</td>\n",
       "      <td>230.0</td>\n",
       "      <td>5850.0</td>\n",
       "      <td>male</td>\n",
       "      <td>2009</td>\n",
       "    </tr>\n",
       "    <tr>\n",
       "      <th>269</th>\n",
       "      <td>270</td>\n",
       "      <td>Gentoo</td>\n",
       "      <td>Biscoe</td>\n",
       "      <td>48.8</td>\n",
       "      <td>16.2</td>\n",
       "      <td>222.0</td>\n",
       "      <td>6000.0</td>\n",
       "      <td>male</td>\n",
       "      <td>2009</td>\n",
       "    </tr>\n",
       "    <tr>\n",
       "      <th>273</th>\n",
       "      <td>274</td>\n",
       "      <td>Gentoo</td>\n",
       "      <td>Biscoe</td>\n",
       "      <td>50.4</td>\n",
       "      <td>15.7</td>\n",
       "      <td>222.0</td>\n",
       "      <td>5750.0</td>\n",
       "      <td>male</td>\n",
       "      <td>2009</td>\n",
       "    </tr>\n",
       "  </tbody>\n",
       "</table>\n",
       "</div>"
      ],
      "text/plain": [
       "     rowid species  island  bill_length_mm  bill_depth_mm  flipper_length_mm  \\\n",
       "153    154  Gentoo  Biscoe            50.0           16.3              230.0   \n",
       "169    170  Gentoo  Biscoe            49.2           15.2              221.0   \n",
       "171    172  Gentoo  Biscoe            48.7           15.1              222.0   \n",
       "182    183  Gentoo  Biscoe            47.3           15.3              222.0   \n",
       "185    186  Gentoo  Biscoe            59.6           17.0              230.0   \n",
       "193    194  Gentoo  Biscoe            49.6           16.0              225.0   \n",
       "196    197  Gentoo  Biscoe            50.5           15.9              222.0   \n",
       "199    200  Gentoo  Biscoe            50.5           15.9              225.0   \n",
       "205    206  Gentoo  Biscoe            50.1           15.0              225.0   \n",
       "211    212  Gentoo  Biscoe            50.4           15.3              224.0   \n",
       "213    214  Gentoo  Biscoe            46.2           14.9              221.0   \n",
       "215    216  Gentoo  Biscoe            54.3           15.7              231.0   \n",
       "217    218  Gentoo  Biscoe            49.8           16.8              230.0   \n",
       "219    220  Gentoo  Biscoe            49.5           16.2              229.0   \n",
       "221    222  Gentoo  Biscoe            50.7           15.0              223.0   \n",
       "223    224  Gentoo  Biscoe            46.4           15.6              221.0   \n",
       "224    225  Gentoo  Biscoe            48.2           15.6              221.0   \n",
       "227    228  Gentoo  Biscoe            48.6           16.0              230.0   \n",
       "231    232  Gentoo  Biscoe            45.2           16.4              223.0   \n",
       "233    234  Gentoo  Biscoe            52.5           15.6              221.0   \n",
       "235    236  Gentoo  Biscoe            50.0           15.9              224.0   \n",
       "237    238  Gentoo  Biscoe            50.8           17.3              228.0   \n",
       "241    242  Gentoo  Biscoe            52.1           17.0              230.0   \n",
       "243    244  Gentoo  Biscoe            52.2           17.1              228.0   \n",
       "245    246  Gentoo  Biscoe            49.5           16.1              224.0   \n",
       "247    248  Gentoo  Biscoe            50.8           15.7              226.0   \n",
       "249    250  Gentoo  Biscoe            46.9           14.6              222.0   \n",
       "251    252  Gentoo  Biscoe            51.1           16.5              225.0   \n",
       "253    254  Gentoo  Biscoe            55.9           17.0              228.0   \n",
       "255    256  Gentoo  Biscoe            49.1           15.0              228.0   \n",
       "263    264  Gentoo  Biscoe            49.8           15.9              229.0   \n",
       "265    266  Gentoo  Biscoe            51.5           16.3              230.0   \n",
       "267    268  Gentoo  Biscoe            55.1           16.0              230.0   \n",
       "269    270  Gentoo  Biscoe            48.8           16.2              222.0   \n",
       "273    274  Gentoo  Biscoe            50.4           15.7              222.0   \n",
       "\n",
       "     body_mass_g     sex  year  \n",
       "153       5700.0    male  2007  \n",
       "169       6300.0    male  2007  \n",
       "171       5350.0    male  2007  \n",
       "182       5250.0    male  2007  \n",
       "185       6050.0    male  2007  \n",
       "193       5700.0    male  2008  \n",
       "196       5550.0    male  2008  \n",
       "199       5400.0    male  2008  \n",
       "205       5000.0    male  2008  \n",
       "211       5550.0    male  2008  \n",
       "213       5300.0    male  2008  \n",
       "215       5650.0    male  2008  \n",
       "217       5700.0    male  2008  \n",
       "219       5800.0    male  2008  \n",
       "221       5550.0    male  2008  \n",
       "223       5000.0    male  2008  \n",
       "224       5100.0    male  2008  \n",
       "227       5800.0    male  2008  \n",
       "231       5950.0    male  2008  \n",
       "233       5450.0    male  2009  \n",
       "235       5350.0    male  2009  \n",
       "237       5600.0    male  2009  \n",
       "241       5550.0    male  2009  \n",
       "243       5400.0    male  2009  \n",
       "245       5650.0    male  2009  \n",
       "247       5200.0    male  2009  \n",
       "249       4875.0  female  2009  \n",
       "251       5250.0    male  2009  \n",
       "253       5600.0    male  2009  \n",
       "255       5500.0    male  2009  \n",
       "263       5950.0    male  2009  \n",
       "265       5500.0    male  2009  \n",
       "267       5850.0    male  2009  \n",
       "269       6000.0    male  2009  \n",
       "273       5750.0    male  2009  "
      ]
     },
     "execution_count": 46,
     "metadata": {},
     "output_type": "execute_result"
    }
   ],
   "source": [
    "filtered = penguin[penguin[\"flipper_length_mm\"] > 220]\n",
    "filtered"
   ]
  },
  {
   "cell_type": "code",
   "execution_count": 48,
   "id": "e17b7af8-5cae-4dc8-bf4c-ee243da3a563",
   "metadata": {},
   "outputs": [
    {
     "data": {
      "text/plain": [
       "species\n",
       "Gentoo    35\n",
       "Name: count, dtype: int64"
      ]
     },
     "execution_count": 48,
     "metadata": {},
     "output_type": "execute_result"
    }
   ],
   "source": [
    "species_counts = filtered[\"species\"].value_counts()\n",
    "species_counts"
   ]
  },
  {
   "cell_type": "markdown",
   "id": "a7d0f8e0-d043-4301-b731-9d9c616d705b",
   "metadata": {},
   "source": [
    "<h3>INSIGHT: The most common species with flipper length > 220 mm is species Gentoo with 35 penguins</h3>"
   ]
  },
  {
   "cell_type": "markdown",
   "id": "42685019-223e-4956-ae9d-ca512251cfe6",
   "metadata": {},
   "source": [
    "<H3>QUESTION#17: What is the maximum flipper length recorded per species?</H3>\n",
    "<HR>"
   ]
  },
  {
   "cell_type": "code",
   "execution_count": 53,
   "id": "13baec01-bc1b-4c85-adea-5459678885fb",
   "metadata": {},
   "outputs": [
    {
     "data": {
      "text/html": [
       "<div>\n",
       "<style scoped>\n",
       "    .dataframe tbody tr th:only-of-type {\n",
       "        vertical-align: middle;\n",
       "    }\n",
       "\n",
       "    .dataframe tbody tr th {\n",
       "        vertical-align: top;\n",
       "    }\n",
       "\n",
       "    .dataframe thead th {\n",
       "        text-align: right;\n",
       "    }\n",
       "</style>\n",
       "<table border=\"1\" class=\"dataframe\">\n",
       "  <thead>\n",
       "    <tr style=\"text-align: right;\">\n",
       "      <th></th>\n",
       "      <th>rowid</th>\n",
       "      <th>species</th>\n",
       "      <th>island</th>\n",
       "      <th>bill_length_mm</th>\n",
       "      <th>bill_depth_mm</th>\n",
       "      <th>flipper_length_mm</th>\n",
       "      <th>body_mass_g</th>\n",
       "      <th>sex</th>\n",
       "      <th>year</th>\n",
       "    </tr>\n",
       "  </thead>\n",
       "  <tbody>\n",
       "    <tr>\n",
       "      <th>0</th>\n",
       "      <td>1</td>\n",
       "      <td>Adelie</td>\n",
       "      <td>Torgersen</td>\n",
       "      <td>39.1</td>\n",
       "      <td>18.7</td>\n",
       "      <td>181.0</td>\n",
       "      <td>3750.0</td>\n",
       "      <td>male</td>\n",
       "      <td>2007</td>\n",
       "    </tr>\n",
       "    <tr>\n",
       "      <th>1</th>\n",
       "      <td>2</td>\n",
       "      <td>Adelie</td>\n",
       "      <td>Torgersen</td>\n",
       "      <td>39.5</td>\n",
       "      <td>17.4</td>\n",
       "      <td>186.0</td>\n",
       "      <td>3800.0</td>\n",
       "      <td>female</td>\n",
       "      <td>2007</td>\n",
       "    </tr>\n",
       "    <tr>\n",
       "      <th>2</th>\n",
       "      <td>3</td>\n",
       "      <td>Adelie</td>\n",
       "      <td>Torgersen</td>\n",
       "      <td>40.3</td>\n",
       "      <td>18.0</td>\n",
       "      <td>195.0</td>\n",
       "      <td>3250.0</td>\n",
       "      <td>female</td>\n",
       "      <td>2007</td>\n",
       "    </tr>\n",
       "    <tr>\n",
       "      <th>4</th>\n",
       "      <td>5</td>\n",
       "      <td>Adelie</td>\n",
       "      <td>Torgersen</td>\n",
       "      <td>36.7</td>\n",
       "      <td>19.3</td>\n",
       "      <td>193.0</td>\n",
       "      <td>3450.0</td>\n",
       "      <td>female</td>\n",
       "      <td>2007</td>\n",
       "    </tr>\n",
       "    <tr>\n",
       "      <th>5</th>\n",
       "      <td>6</td>\n",
       "      <td>Adelie</td>\n",
       "      <td>Torgersen</td>\n",
       "      <td>39.3</td>\n",
       "      <td>20.6</td>\n",
       "      <td>190.0</td>\n",
       "      <td>3650.0</td>\n",
       "      <td>male</td>\n",
       "      <td>2007</td>\n",
       "    </tr>\n",
       "    <tr>\n",
       "      <th>...</th>\n",
       "      <td>...</td>\n",
       "      <td>...</td>\n",
       "      <td>...</td>\n",
       "      <td>...</td>\n",
       "      <td>...</td>\n",
       "      <td>...</td>\n",
       "      <td>...</td>\n",
       "      <td>...</td>\n",
       "      <td>...</td>\n",
       "    </tr>\n",
       "    <tr>\n",
       "      <th>339</th>\n",
       "      <td>340</td>\n",
       "      <td>Chinstrap</td>\n",
       "      <td>Dream</td>\n",
       "      <td>55.8</td>\n",
       "      <td>19.8</td>\n",
       "      <td>207.0</td>\n",
       "      <td>4000.0</td>\n",
       "      <td>male</td>\n",
       "      <td>2009</td>\n",
       "    </tr>\n",
       "    <tr>\n",
       "      <th>340</th>\n",
       "      <td>341</td>\n",
       "      <td>Chinstrap</td>\n",
       "      <td>Dream</td>\n",
       "      <td>43.5</td>\n",
       "      <td>18.1</td>\n",
       "      <td>202.0</td>\n",
       "      <td>3400.0</td>\n",
       "      <td>female</td>\n",
       "      <td>2009</td>\n",
       "    </tr>\n",
       "    <tr>\n",
       "      <th>341</th>\n",
       "      <td>342</td>\n",
       "      <td>Chinstrap</td>\n",
       "      <td>Dream</td>\n",
       "      <td>49.6</td>\n",
       "      <td>18.2</td>\n",
       "      <td>193.0</td>\n",
       "      <td>3775.0</td>\n",
       "      <td>male</td>\n",
       "      <td>2009</td>\n",
       "    </tr>\n",
       "    <tr>\n",
       "      <th>342</th>\n",
       "      <td>343</td>\n",
       "      <td>Chinstrap</td>\n",
       "      <td>Dream</td>\n",
       "      <td>50.8</td>\n",
       "      <td>19.0</td>\n",
       "      <td>210.0</td>\n",
       "      <td>4100.0</td>\n",
       "      <td>male</td>\n",
       "      <td>2009</td>\n",
       "    </tr>\n",
       "    <tr>\n",
       "      <th>343</th>\n",
       "      <td>344</td>\n",
       "      <td>Chinstrap</td>\n",
       "      <td>Dream</td>\n",
       "      <td>50.2</td>\n",
       "      <td>18.7</td>\n",
       "      <td>198.0</td>\n",
       "      <td>3775.0</td>\n",
       "      <td>female</td>\n",
       "      <td>2009</td>\n",
       "    </tr>\n",
       "  </tbody>\n",
       "</table>\n",
       "<p>342 rows × 9 columns</p>\n",
       "</div>"
      ],
      "text/plain": [
       "     rowid    species     island  bill_length_mm  bill_depth_mm  \\\n",
       "0        1     Adelie  Torgersen            39.1           18.7   \n",
       "1        2     Adelie  Torgersen            39.5           17.4   \n",
       "2        3     Adelie  Torgersen            40.3           18.0   \n",
       "4        5     Adelie  Torgersen            36.7           19.3   \n",
       "5        6     Adelie  Torgersen            39.3           20.6   \n",
       "..     ...        ...        ...             ...            ...   \n",
       "339    340  Chinstrap      Dream            55.8           19.8   \n",
       "340    341  Chinstrap      Dream            43.5           18.1   \n",
       "341    342  Chinstrap      Dream            49.6           18.2   \n",
       "342    343  Chinstrap      Dream            50.8           19.0   \n",
       "343    344  Chinstrap      Dream            50.2           18.7   \n",
       "\n",
       "     flipper_length_mm  body_mass_g     sex  year  \n",
       "0                181.0       3750.0    male  2007  \n",
       "1                186.0       3800.0  female  2007  \n",
       "2                195.0       3250.0  female  2007  \n",
       "4                193.0       3450.0  female  2007  \n",
       "5                190.0       3650.0    male  2007  \n",
       "..                 ...          ...     ...   ...  \n",
       "339              207.0       4000.0    male  2009  \n",
       "340              202.0       3400.0  female  2009  \n",
       "341              193.0       3775.0    male  2009  \n",
       "342              210.0       4100.0    male  2009  \n",
       "343              198.0       3775.0  female  2009  \n",
       "\n",
       "[342 rows x 9 columns]"
      ]
     },
     "execution_count": 53,
     "metadata": {},
     "output_type": "execute_result"
    }
   ],
   "source": [
    "penguin_clean = penguin.dropna(subset=[\"flipper_length_mm\", \"species\"])\n",
    "penguin_clean"
   ]
  },
  {
   "cell_type": "code",
   "execution_count": 56,
   "id": "c4e39bf2-f61e-4bfb-b1e5-ae6f782921f4",
   "metadata": {},
   "outputs": [
    {
     "data": {
      "text/plain": [
       "species\n",
       "Adelie       210.0\n",
       "Chinstrap    212.0\n",
       "Gentoo       231.0\n",
       "Name: flipper_length_mm, dtype: float64"
      ]
     },
     "execution_count": 56,
     "metadata": {},
     "output_type": "execute_result"
    }
   ],
   "source": [
    "max_flipper_length = penguin_clean.groupby(\"species\")[\"flipper_length_mm\"].max()\n",
    "max_flipper_length"
   ]
  },
  {
   "cell_type": "markdown",
   "id": "3e810390-3877-4c3f-880d-615ff6d9cda3",
   "metadata": {},
   "source": [
    "<h3>INSIGHT: THE MAXIMUM FLIPPER LENGTH PER EACH SPECIES IS 210 FOR ADELIE, 212 FOR CHINSTRAP, AND 231 FOR GENTOO</h3>"
   ]
  }
 ],
 "metadata": {
  "kernelspec": {
   "display_name": "Python 3 (ipykernel)",
   "language": "python",
   "name": "python3"
  },
  "language_info": {
   "codemirror_mode": {
    "name": "ipython",
    "version": 3
   },
   "file_extension": ".py",
   "mimetype": "text/x-python",
   "name": "python",
   "nbconvert_exporter": "python",
   "pygments_lexer": "ipython3",
   "version": "3.13.5"
  }
 },
 "nbformat": 4,
 "nbformat_minor": 5
}

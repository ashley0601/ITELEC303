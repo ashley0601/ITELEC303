{
 "cells": [
  {
   "cell_type": "code",
   "execution_count": 1,
   "id": "e43669fd-59e3-489f-9a81-5f91e6462180",
   "metadata": {},
   "outputs": [],
   "source": [
    "import numpy as np\n",
    "import pandas as pd\n",
    "import warnings\n",
    "warnings.filterwarnings('ignore')"
   ]
  },
  {
   "cell_type": "code",
   "execution_count": 2,
   "id": "75494685-cf72-4a3f-8f77-111e00f303a1",
   "metadata": {},
   "outputs": [],
   "source": [
    "accident = pd.read_csv('uk_accident_data.csv')"
   ]
  },
  {
   "cell_type": "code",
   "execution_count": 3,
   "id": "acea3b6a-186e-4b5f-b5e6-d4f6133eebdd",
   "metadata": {},
   "outputs": [
    {
     "data": {
      "text/html": [
       "<div>\n",
       "<style scoped>\n",
       "    .dataframe tbody tr th:only-of-type {\n",
       "        vertical-align: middle;\n",
       "    }\n",
       "\n",
       "    .dataframe tbody tr th {\n",
       "        vertical-align: top;\n",
       "    }\n",
       "\n",
       "    .dataframe thead th {\n",
       "        text-align: right;\n",
       "    }\n",
       "</style>\n",
       "<table border=\"1\" class=\"dataframe\">\n",
       "  <thead>\n",
       "    <tr style=\"text-align: right;\">\n",
       "      <th></th>\n",
       "      <th>Index</th>\n",
       "      <th>Accident_Severity</th>\n",
       "      <th>Accident Date</th>\n",
       "      <th>Latitude</th>\n",
       "      <th>Light_Conditions</th>\n",
       "      <th>District Area</th>\n",
       "      <th>Longitude</th>\n",
       "      <th>Number_of_Casualties</th>\n",
       "      <th>Number_of_Vehicles</th>\n",
       "      <th>Road_Surface_Conditions</th>\n",
       "      <th>Road_Type</th>\n",
       "      <th>Urban_or_Rural_Area</th>\n",
       "      <th>Weather_Conditions</th>\n",
       "      <th>Vehicle_Type</th>\n",
       "    </tr>\n",
       "  </thead>\n",
       "  <tbody>\n",
       "    <tr>\n",
       "      <th>0</th>\n",
       "      <td>200701BS64157</td>\n",
       "      <td>Serious</td>\n",
       "      <td>05/06/2019</td>\n",
       "      <td>51.506187</td>\n",
       "      <td>Darkness - lights lit</td>\n",
       "      <td>Kensington and Chelsea</td>\n",
       "      <td>-0.209082</td>\n",
       "      <td>1</td>\n",
       "      <td>2</td>\n",
       "      <td>Dry</td>\n",
       "      <td>Single carriageway</td>\n",
       "      <td>Urban</td>\n",
       "      <td>Fine no high winds</td>\n",
       "      <td>Car</td>\n",
       "    </tr>\n",
       "    <tr>\n",
       "      <th>1</th>\n",
       "      <td>200701BS65737</td>\n",
       "      <td>Serious</td>\n",
       "      <td>02/07/2019</td>\n",
       "      <td>51.495029</td>\n",
       "      <td>Daylight</td>\n",
       "      <td>Kensington and Chelsea</td>\n",
       "      <td>-0.173647</td>\n",
       "      <td>1</td>\n",
       "      <td>2</td>\n",
       "      <td>Wet or damp</td>\n",
       "      <td>Single carriageway</td>\n",
       "      <td>Urban</td>\n",
       "      <td>Raining no high winds</td>\n",
       "      <td>Car</td>\n",
       "    </tr>\n",
       "    <tr>\n",
       "      <th>2</th>\n",
       "      <td>200701BS66127</td>\n",
       "      <td>Serious</td>\n",
       "      <td>26/08/2019</td>\n",
       "      <td>51.517715</td>\n",
       "      <td>Darkness - lighting unknown</td>\n",
       "      <td>Kensington and Chelsea</td>\n",
       "      <td>-0.210215</td>\n",
       "      <td>1</td>\n",
       "      <td>3</td>\n",
       "      <td>Dry</td>\n",
       "      <td>NaN</td>\n",
       "      <td>Urban</td>\n",
       "      <td>NaN</td>\n",
       "      <td>Taxi/Private hire car</td>\n",
       "    </tr>\n",
       "    <tr>\n",
       "      <th>3</th>\n",
       "      <td>200701BS66128</td>\n",
       "      <td>Serious</td>\n",
       "      <td>16/08/2019</td>\n",
       "      <td>51.495478</td>\n",
       "      <td>Daylight</td>\n",
       "      <td>Kensington and Chelsea</td>\n",
       "      <td>-0.202731</td>\n",
       "      <td>1</td>\n",
       "      <td>4</td>\n",
       "      <td>Dry</td>\n",
       "      <td>Single carriageway</td>\n",
       "      <td>Urban</td>\n",
       "      <td>Fine no high winds</td>\n",
       "      <td>Bus or coach (17 or more pass seats)</td>\n",
       "    </tr>\n",
       "    <tr>\n",
       "      <th>4</th>\n",
       "      <td>200701BS66837</td>\n",
       "      <td>Slight</td>\n",
       "      <td>03/09/2019</td>\n",
       "      <td>51.488576</td>\n",
       "      <td>Darkness - lights lit</td>\n",
       "      <td>Kensington and Chelsea</td>\n",
       "      <td>-0.192487</td>\n",
       "      <td>1</td>\n",
       "      <td>2</td>\n",
       "      <td>Dry</td>\n",
       "      <td>NaN</td>\n",
       "      <td>Urban</td>\n",
       "      <td>NaN</td>\n",
       "      <td>Other vehicle</td>\n",
       "    </tr>\n",
       "    <tr>\n",
       "      <th>...</th>\n",
       "      <td>...</td>\n",
       "      <td>...</td>\n",
       "      <td>...</td>\n",
       "      <td>...</td>\n",
       "      <td>...</td>\n",
       "      <td>...</td>\n",
       "      <td>...</td>\n",
       "      <td>...</td>\n",
       "      <td>...</td>\n",
       "      <td>...</td>\n",
       "      <td>...</td>\n",
       "      <td>...</td>\n",
       "      <td>...</td>\n",
       "      <td>...</td>\n",
       "    </tr>\n",
       "    <tr>\n",
       "      <th>660674</th>\n",
       "      <td>201091NM01760</td>\n",
       "      <td>Slight</td>\n",
       "      <td>18/02/2022</td>\n",
       "      <td>57.374005</td>\n",
       "      <td>Daylight</td>\n",
       "      <td>Highland</td>\n",
       "      <td>-3.467828</td>\n",
       "      <td>2</td>\n",
       "      <td>1</td>\n",
       "      <td>Dry</td>\n",
       "      <td>Single carriageway</td>\n",
       "      <td>Rural</td>\n",
       "      <td>Fine no high winds</td>\n",
       "      <td>Car</td>\n",
       "    </tr>\n",
       "    <tr>\n",
       "      <th>660675</th>\n",
       "      <td>201091NM01881</td>\n",
       "      <td>Slight</td>\n",
       "      <td>21/02/2022</td>\n",
       "      <td>57.232273</td>\n",
       "      <td>Darkness - no lighting</td>\n",
       "      <td>Highland</td>\n",
       "      <td>-3.809281</td>\n",
       "      <td>1</td>\n",
       "      <td>1</td>\n",
       "      <td>Frost or ice</td>\n",
       "      <td>Single carriageway</td>\n",
       "      <td>Rural</td>\n",
       "      <td>Fine no high winds</td>\n",
       "      <td>Car</td>\n",
       "    </tr>\n",
       "    <tr>\n",
       "      <th>660676</th>\n",
       "      <td>201091NM01935</td>\n",
       "      <td>Slight</td>\n",
       "      <td>23/02/2022</td>\n",
       "      <td>57.585044</td>\n",
       "      <td>Daylight</td>\n",
       "      <td>Highland</td>\n",
       "      <td>-3.862727</td>\n",
       "      <td>1</td>\n",
       "      <td>3</td>\n",
       "      <td>Frost or ice</td>\n",
       "      <td>Single carriageway</td>\n",
       "      <td>Rural</td>\n",
       "      <td>Fine no high winds</td>\n",
       "      <td>Car</td>\n",
       "    </tr>\n",
       "    <tr>\n",
       "      <th>660677</th>\n",
       "      <td>201091NM01964</td>\n",
       "      <td>Serious</td>\n",
       "      <td>23/02/2022</td>\n",
       "      <td>57.214898</td>\n",
       "      <td>Darkness - no lighting</td>\n",
       "      <td>Highland</td>\n",
       "      <td>-3.823997</td>\n",
       "      <td>1</td>\n",
       "      <td>2</td>\n",
       "      <td>Wet or damp</td>\n",
       "      <td>Single carriageway</td>\n",
       "      <td>Rural</td>\n",
       "      <td>Fine no high winds</td>\n",
       "      <td>Motorcycle over 500cc</td>\n",
       "    </tr>\n",
       "    <tr>\n",
       "      <th>660678</th>\n",
       "      <td>201091NM02142</td>\n",
       "      <td>Serious</td>\n",
       "      <td>28/02/2022</td>\n",
       "      <td>57.575210</td>\n",
       "      <td>Daylight</td>\n",
       "      <td>Highland</td>\n",
       "      <td>-3.895673</td>\n",
       "      <td>1</td>\n",
       "      <td>1</td>\n",
       "      <td>Wet or damp</td>\n",
       "      <td>Dual carriageway</td>\n",
       "      <td>Rural</td>\n",
       "      <td>Snowing no high winds</td>\n",
       "      <td>Car</td>\n",
       "    </tr>\n",
       "  </tbody>\n",
       "</table>\n",
       "<p>660679 rows × 14 columns</p>\n",
       "</div>"
      ],
      "text/plain": [
       "                Index Accident_Severity Accident Date   Latitude  \\\n",
       "0       200701BS64157           Serious    05/06/2019  51.506187   \n",
       "1       200701BS65737           Serious    02/07/2019  51.495029   \n",
       "2       200701BS66127           Serious    26/08/2019  51.517715   \n",
       "3       200701BS66128           Serious    16/08/2019  51.495478   \n",
       "4       200701BS66837            Slight    03/09/2019  51.488576   \n",
       "...               ...               ...           ...        ...   \n",
       "660674  201091NM01760            Slight    18/02/2022  57.374005   \n",
       "660675  201091NM01881            Slight    21/02/2022  57.232273   \n",
       "660676  201091NM01935            Slight    23/02/2022  57.585044   \n",
       "660677  201091NM01964           Serious    23/02/2022  57.214898   \n",
       "660678  201091NM02142           Serious    28/02/2022  57.575210   \n",
       "\n",
       "                   Light_Conditions           District Area  Longitude  \\\n",
       "0             Darkness - lights lit  Kensington and Chelsea  -0.209082   \n",
       "1                          Daylight  Kensington and Chelsea  -0.173647   \n",
       "2       Darkness - lighting unknown  Kensington and Chelsea  -0.210215   \n",
       "3                          Daylight  Kensington and Chelsea  -0.202731   \n",
       "4             Darkness - lights lit  Kensington and Chelsea  -0.192487   \n",
       "...                             ...                     ...        ...   \n",
       "660674                     Daylight                Highland  -3.467828   \n",
       "660675       Darkness - no lighting                Highland  -3.809281   \n",
       "660676                     Daylight                Highland  -3.862727   \n",
       "660677       Darkness - no lighting                Highland  -3.823997   \n",
       "660678                     Daylight                Highland  -3.895673   \n",
       "\n",
       "        Number_of_Casualties  Number_of_Vehicles Road_Surface_Conditions  \\\n",
       "0                          1                   2                     Dry   \n",
       "1                          1                   2             Wet or damp   \n",
       "2                          1                   3                     Dry   \n",
       "3                          1                   4                     Dry   \n",
       "4                          1                   2                     Dry   \n",
       "...                      ...                 ...                     ...   \n",
       "660674                     2                   1                     Dry   \n",
       "660675                     1                   1            Frost or ice   \n",
       "660676                     1                   3            Frost or ice   \n",
       "660677                     1                   2             Wet or damp   \n",
       "660678                     1                   1             Wet or damp   \n",
       "\n",
       "                 Road_Type Urban_or_Rural_Area     Weather_Conditions  \\\n",
       "0       Single carriageway               Urban     Fine no high winds   \n",
       "1       Single carriageway               Urban  Raining no high winds   \n",
       "2                      NaN               Urban                    NaN   \n",
       "3       Single carriageway               Urban     Fine no high winds   \n",
       "4                      NaN               Urban                    NaN   \n",
       "...                    ...                 ...                    ...   \n",
       "660674  Single carriageway               Rural     Fine no high winds   \n",
       "660675  Single carriageway               Rural     Fine no high winds   \n",
       "660676  Single carriageway               Rural     Fine no high winds   \n",
       "660677  Single carriageway               Rural     Fine no high winds   \n",
       "660678    Dual carriageway               Rural  Snowing no high winds   \n",
       "\n",
       "                                Vehicle_Type  \n",
       "0                                        Car  \n",
       "1                                        Car  \n",
       "2                      Taxi/Private hire car  \n",
       "3       Bus or coach (17 or more pass seats)  \n",
       "4                              Other vehicle  \n",
       "...                                      ...  \n",
       "660674                                   Car  \n",
       "660675                                   Car  \n",
       "660676                                   Car  \n",
       "660677                 Motorcycle over 500cc  \n",
       "660678                                   Car  \n",
       "\n",
       "[660679 rows x 14 columns]"
      ]
     },
     "execution_count": 3,
     "metadata": {},
     "output_type": "execute_result"
    }
   ],
   "source": [
    "accident"
   ]
  },
  {
   "cell_type": "code",
   "execution_count": 4,
   "id": "a5ab5dc2-6dcb-4216-965d-b942ca714d96",
   "metadata": {},
   "outputs": [
    {
     "name": "stdout",
     "output_type": "stream",
     "text": [
      "<class 'pandas.core.frame.DataFrame'>\n",
      "RangeIndex: 660679 entries, 0 to 660678\n",
      "Data columns (total 14 columns):\n",
      " #   Column                   Non-Null Count   Dtype  \n",
      "---  ------                   --------------   -----  \n",
      " 0   Index                    660679 non-null  object \n",
      " 1   Accident_Severity        660679 non-null  object \n",
      " 2   Accident Date            660679 non-null  object \n",
      " 3   Latitude                 660654 non-null  float64\n",
      " 4   Light_Conditions         660679 non-null  object \n",
      " 5   District Area            660679 non-null  object \n",
      " 6   Longitude                660653 non-null  float64\n",
      " 7   Number_of_Casualties     660679 non-null  int64  \n",
      " 8   Number_of_Vehicles       660679 non-null  int64  \n",
      " 9   Road_Surface_Conditions  659953 non-null  object \n",
      " 10  Road_Type                656159 non-null  object \n",
      " 11  Urban_or_Rural_Area      660664 non-null  object \n",
      " 12  Weather_Conditions       646551 non-null  object \n",
      " 13  Vehicle_Type             660679 non-null  object \n",
      "dtypes: float64(2), int64(2), object(10)\n",
      "memory usage: 70.6+ MB\n"
     ]
    }
   ],
   "source": [
    "accident.info()"
   ]
  },
  {
   "cell_type": "code",
   "execution_count": 5,
   "id": "846e2b2b-d049-431c-ba7f-f8624e8b9853",
   "metadata": {},
   "outputs": [
    {
     "data": {
      "text/plain": [
       "Index                       object\n",
       "Accident_Severity           object\n",
       "Accident Date               object\n",
       "Latitude                   float64\n",
       "Light_Conditions            object\n",
       "District Area               object\n",
       "Longitude                  float64\n",
       "Number_of_Casualties         int64\n",
       "Number_of_Vehicles           int64\n",
       "Road_Surface_Conditions     object\n",
       "Road_Type                   object\n",
       "Urban_or_Rural_Area         object\n",
       "Weather_Conditions          object\n",
       "Vehicle_Type                object\n",
       "dtype: object"
      ]
     },
     "execution_count": 5,
     "metadata": {},
     "output_type": "execute_result"
    }
   ],
   "source": [
    "accident.dtypes"
   ]
  },
  {
   "cell_type": "code",
   "execution_count": 6,
   "id": "4a6b8cb7-fda3-4c3a-a888-d63c2cc97cba",
   "metadata": {},
   "outputs": [],
   "source": [
    "accident['Index'] = accident['Index'].astype('category')\n",
    "accident['Accident_Severity'] = accident['Accident_Severity'].astype('category')\n",
    "accident['Accident Date'] = accident['Accident Date'].astype(str).str.strip()\n",
    "accident['Accident Date'] = pd.to_datetime(accident['Accident Date'], dayfirst = True, errors = 'coerce')\n",
    "accident['Light_Conditions'] = accident['Light_Conditions'].astype('category')\n",
    "accident['District Area'] = accident['District Area'].astype('category')\n",
    "accident['Road_Surface_Conditions'] = accident['Road_Surface_Conditions'].astype('category')\n",
    "accident['Road_Type'] = accident['Road_Type'].astype('category')\n",
    "accident['Urban_or_Rural_Area'] = accident['Urban_or_Rural_Area'].astype('category')\n",
    "accident['Weather_Conditions'] = accident['Weather_Conditions'].astype('category')\n",
    "accident['Vehicle_Type'] = accident['Vehicle_Type'].astype('category')"
   ]
  },
  {
   "cell_type": "code",
   "execution_count": 7,
   "id": "16eb9b3c-92ca-4ec6-90f4-94ef1acbcabc",
   "metadata": {},
   "outputs": [
    {
     "data": {
      "text/plain": [
       "Index                            category\n",
       "Accident_Severity                category\n",
       "Accident Date              datetime64[ns]\n",
       "Latitude                          float64\n",
       "Light_Conditions                 category\n",
       "District Area                    category\n",
       "Longitude                         float64\n",
       "Number_of_Casualties                int64\n",
       "Number_of_Vehicles                  int64\n",
       "Road_Surface_Conditions          category\n",
       "Road_Type                        category\n",
       "Urban_or_Rural_Area              category\n",
       "Weather_Conditions               category\n",
       "Vehicle_Type                     category\n",
       "dtype: object"
      ]
     },
     "execution_count": 7,
     "metadata": {},
     "output_type": "execute_result"
    }
   ],
   "source": [
    "accident.dtypes"
   ]
  },
  {
   "cell_type": "code",
   "execution_count": 8,
   "id": "8c5090fe-16b3-4d4c-8aa2-17e0fc514ac3",
   "metadata": {},
   "outputs": [
    {
     "data": {
      "text/plain": [
       "Index                          0\n",
       "Accident_Severity              0\n",
       "Accident Date                  0\n",
       "Latitude                      25\n",
       "Light_Conditions               0\n",
       "District Area                  0\n",
       "Longitude                     26\n",
       "Number_of_Casualties           0\n",
       "Number_of_Vehicles             0\n",
       "Road_Surface_Conditions      726\n",
       "Road_Type                   4520\n",
       "Urban_or_Rural_Area           15\n",
       "Weather_Conditions         14128\n",
       "Vehicle_Type                   0\n",
       "dtype: int64"
      ]
     },
     "execution_count": 8,
     "metadata": {},
     "output_type": "execute_result"
    }
   ],
   "source": [
    "accident.isnull().sum()"
   ]
  },
  {
   "cell_type": "code",
   "execution_count": 47,
   "id": "5cba882c-650f-494d-9046-d668abdc8261",
   "metadata": {},
   "outputs": [],
   "source": [
    "accident['Accident Date'] = accident['Accident Date'].fillna(pd.to_datetime(\"1900-01-01\"))\n",
    "accident['Latitude']  = accident['Latitude'].fillna(accident['Latitude'].mean())\n",
    "accident['Longitude'] = accident['Longitude'].fillna(accident['Longitude'].mean())\n",
    "accident['Road_Type'] = accident['Road_Type'].fillna(accident['Road_Type'].mode()[0])\n",
    "accident['Road_Surface_Conditions'] = accident['Road_Surface_Conditions'].fillna(accident['Road_Surface_Conditions'].mode()[0])\n",
    "accident['Weather_Conditions']   = accident['Weather_Conditions'].fillna(accident['Weather_Conditions'].mode()[0])\n",
    "accident['Urban_or_Rural_Area']  = accident['Urban_or_Rural_Area'].fillna(accident['Urban_or_Rural_Area'].mode()[0])"
   ]
  },
  {
   "cell_type": "code",
   "execution_count": 48,
   "id": "afc918c1-7ef4-4983-baea-5d431e0feb07",
   "metadata": {},
   "outputs": [
    {
     "data": {
      "text/plain": [
       "Index                      0\n",
       "Accident_Severity          0\n",
       "Accident Date              0\n",
       "Latitude                   0\n",
       "Light_Conditions           0\n",
       "District Area              0\n",
       "Longitude                  0\n",
       "Number_of_Casualties       0\n",
       "Number_of_Vehicles         0\n",
       "Road_Surface_Conditions    0\n",
       "Road_Type                  0\n",
       "Urban_or_Rural_Area        0\n",
       "Weather_Conditions         0\n",
       "Vehicle_Type               0\n",
       "Year                       0\n",
       "Month                      0\n",
       "Day                        0\n",
       "Dayoftheweek               0\n",
       "dtype: int64"
      ]
     },
     "execution_count": 48,
     "metadata": {},
     "output_type": "execute_result"
    }
   ],
   "source": [
    "accident.isnull().sum()"
   ]
  },
  {
   "cell_type": "code",
   "execution_count": 11,
   "id": "d02daace-d2d2-4dc3-bea6-1512d2895ba8",
   "metadata": {},
   "outputs": [],
   "source": [
    "accident['Year'] = accident['Accident Date'].dt.year\n",
    "accident['Month'] = accident['Accident Date'].dt.month\n",
    "accident['Day'] = accident['Accident Date'].dt.day\n",
    "accident['Dayoftheweek'] = accident['Accident Date'].dt.dayofweek"
   ]
  },
  {
   "cell_type": "code",
   "execution_count": 12,
   "id": "33e3edea-20b1-4f1f-8cd1-80651a1632a1",
   "metadata": {},
   "outputs": [
    {
     "data": {
      "text/plain": [
       "Index                            category\n",
       "Accident_Severity                category\n",
       "Accident Date              datetime64[ns]\n",
       "Latitude                          float64\n",
       "Light_Conditions                 category\n",
       "District Area                    category\n",
       "Longitude                         float64\n",
       "Number_of_Casualties                int64\n",
       "Number_of_Vehicles                  int64\n",
       "Road_Surface_Conditions          category\n",
       "Road_Type                        category\n",
       "Urban_or_Rural_Area              category\n",
       "Weather_Conditions               category\n",
       "Vehicle_Type                     category\n",
       "Year                                int32\n",
       "Month                               int32\n",
       "Day                                 int32\n",
       "Dayoftheweek                        int32\n",
       "dtype: object"
      ]
     },
     "execution_count": 12,
     "metadata": {},
     "output_type": "execute_result"
    }
   ],
   "source": [
    "accident.dtypes"
   ]
  },
  {
   "cell_type": "markdown",
   "id": "bdb2a0b7-3701-4938-bd36-107f0482a8e2",
   "metadata": {},
   "source": [
    "<h1>UNIVARIATE ANALYSIS</h1>"
   ]
  },
  {
   "cell_type": "code",
   "execution_count": 13,
   "id": "bf229a7b-adac-4210-95ed-f8c02ae4b2ac",
   "metadata": {},
   "outputs": [],
   "source": [
    "df_2019 = accident[accident['Year'] == 2019]"
   ]
  },
  {
   "cell_type": "code",
   "execution_count": 14,
   "id": "cfefc595-6c7c-487e-9c5d-6c2910ba73df",
   "metadata": {},
   "outputs": [
    {
     "name": "stdout",
     "output_type": "stream",
     "text": [
      "total number of accident in 2019 is 182115\n"
     ]
    },
    {
     "data": {
      "text/plain": [
       "Light_Conditions\n",
       "Daylight                       133042\n",
       "Darkness - lights lit           35769\n",
       "Darkness - no lighting          10842\n",
       "Darkness - lighting unknown      1768\n",
       "Darkness - lights unlit           694\n",
       "Name: count, dtype: int64"
      ]
     },
     "execution_count": 14,
     "metadata": {},
     "output_type": "execute_result"
    }
   ],
   "source": [
    "print(f\"total number of accident in 2019 is {df_2019['Light_Conditions'].value_counts().sum()}\")\n",
    "df_2019['Light_Conditions'].value_counts()"
   ]
  },
  {
   "cell_type": "markdown",
   "id": "dfba5162-88cc-4aab-868e-f20c07299019",
   "metadata": {},
   "source": [
    "<h1>QUESTION#1: How many accidents happened each month in 2019?</h1>"
   ]
  },
  {
   "cell_type": "code",
   "execution_count": 15,
   "id": "871585ad-b62a-4ad9-ab7d-76fb4f4bfacc",
   "metadata": {},
   "outputs": [],
   "source": [
    "df_2019['Month'] = df_2019['Accident Date'].dt.month_name()"
   ]
  },
  {
   "cell_type": "code",
   "execution_count": 16,
   "id": "cb3e72ff-d36f-4b7c-8faa-3e2b1ca0ef43",
   "metadata": {},
   "outputs": [],
   "source": [
    "monthly_counts = df_2019['Month'].value_counts().reindex([\n",
    "    'January','February','March','April','May','June',\n",
    "    'July','August','September','October','November','December'\n",
    "])"
   ]
  },
  {
   "cell_type": "code",
   "execution_count": 17,
   "id": "a4cfa81a-28bf-425c-bb31-3ae0d9a722bb",
   "metadata": {},
   "outputs": [
    {
     "data": {
      "text/plain": [
       "Month\n",
       "January      15355\n",
       "February     13253\n",
       "March        15049\n",
       "April        14125\n",
       "May          15833\n",
       "June         15528\n",
       "July         15862\n",
       "August       15044\n",
       "September    15271\n",
       "October      15528\n",
       "November     16559\n",
       "December     14708\n",
       "Name: count, dtype: int64"
      ]
     },
     "execution_count": 17,
     "metadata": {},
     "output_type": "execute_result"
    }
   ],
   "source": [
    "monthly_counts"
   ]
  },
  {
   "cell_type": "markdown",
   "id": "3beeabb7-1b75-497a-b4c7-655cb13d4ec5",
   "metadata": {},
   "source": [
    "<h3>INSIGHT#1: The highest accident in month of 2019 is May with 6388 accidents or 8.89%. Followed by June with 6187 accidents or 8.61%. May and June had higher accident counts likely due to increased holiday travel, longer daylight hours, and heavier road usage during the start of summer in uk.</h3>"
   ]
  },
  {
   "cell_type": "markdown",
   "id": "55c8aa0d-6114-4530-91ac-e44c5427a578",
   "metadata": {},
   "source": [
    "<h3>INSIGHT#2: The lowest accident in month of 2019 is August with 5663 accidents or 7.88%. Followed by April with 5695 accidents or 7.92%. the lowest accident counts can possibly because of school breaks, fewer work commutes, and reduced traffic during holiday periods.</h3>"
   ]
  },
  {
   "cell_type": "markdown",
   "id": "58fcea64-0cc8-4e66-b2be-09f3bbea80cf",
   "metadata": {},
   "source": [
    "<h3>INSIGHT#3: Accident numbers across months were relatively stable (around 5,600–6,300), showing no extreme seasonal spikes, though May and June were above average while April and August were below average.</h3>"
   ]
  },
  {
   "cell_type": "markdown",
   "id": "22d28914-1e0e-47d6-be62-5fb57eb9cb83",
   "metadata": {},
   "source": [
    "<hr>\n",
    "<h1>QUESTION#2: What is the distribution of Accident Severity (e.g., Fatal, Serious, Slight) in year 2019?</h1>"
   ]
  },
  {
   "cell_type": "code",
   "execution_count": 18,
   "id": "12abb686-003c-4a17-9cdb-2ae838afb371",
   "metadata": {},
   "outputs": [],
   "source": [
    "severity_counts = df_2019['Accident_Severity'].value_counts()"
   ]
  },
  {
   "cell_type": "code",
   "execution_count": 19,
   "id": "8a4933af-19fd-4ec3-bc92-7e94f0963d03",
   "metadata": {},
   "outputs": [
    {
     "data": {
      "text/plain": [
       "Accident_Severity\n",
       "Slight     155079\n",
       "Serious     24322\n",
       "Fatal        2714\n",
       "Name: count, dtype: int64"
      ]
     },
     "execution_count": 19,
     "metadata": {},
     "output_type": "execute_result"
    }
   ],
   "source": [
    "severity_counts"
   ]
  },
  {
   "cell_type": "code",
   "execution_count": 20,
   "id": "58afe4e7-ca51-42d2-9bdd-fdc1997637c8",
   "metadata": {},
   "outputs": [],
   "source": [
    "severity_percent = df_2019['Accident_Severity'].value_counts(normalize=True) * 100"
   ]
  },
  {
   "cell_type": "code",
   "execution_count": 21,
   "id": "6764254d-9c11-48da-908c-b29f57edc07d",
   "metadata": {},
   "outputs": [
    {
     "data": {
      "text/plain": [
       "Accident_Severity\n",
       "Slight     85.154435\n",
       "Serious    13.355297\n",
       "Fatal       1.490267\n",
       "Name: proportion, dtype: float64"
      ]
     },
     "execution_count": 21,
     "metadata": {},
     "output_type": "execute_result"
    }
   ],
   "source": [
    "severity_percent"
   ]
  },
  {
   "cell_type": "markdown",
   "id": "aff8382e-591d-4250-9310-28c968dfa9ef",
   "metadata": {},
   "source": [
    "<h3>INSIGHT#4: In year 2019 most of the accident severity is minor or slight with a number of 60928 accidents, which has a greater gap between serious with a 9823 accidents and fatal with 1116 accidents. The percetage of slight is almost 85% being the highest accident severity</h3>"
   ]
  },
  {
   "cell_type": "markdown",
   "id": "4f619915-0bc9-4002-b605-b16f2e102cd8",
   "metadata": {},
   "source": [
    "<hr>\n",
    "<h1>QUESTION#3: What is the distribution of Accident Severity (e.g., Fatal, Serious, Slight) in year 2019 for each month?</h1>"
   ]
  },
  {
   "cell_type": "code",
   "execution_count": 22,
   "id": "c8c46ac0-29bc-4c0f-b910-0b9b9bf43fa1",
   "metadata": {},
   "outputs": [],
   "source": [
    "severity_monthly = df_2019.groupby(['Month', 'Accident_Severity']).size().unstack().fillna(0)\n",
    "month_order = ['January','February','March','April','May','June',\n",
    "               'July','August','September','October','November','December']"
   ]
  },
  {
   "cell_type": "code",
   "execution_count": 23,
   "id": "1a5c5802-80d4-47ae-8f61-22cf5cb95fa0",
   "metadata": {},
   "outputs": [
    {
     "data": {
      "text/html": [
       "<div>\n",
       "<style scoped>\n",
       "    .dataframe tbody tr th:only-of-type {\n",
       "        vertical-align: middle;\n",
       "    }\n",
       "\n",
       "    .dataframe tbody tr th {\n",
       "        vertical-align: top;\n",
       "    }\n",
       "\n",
       "    .dataframe thead th {\n",
       "        text-align: right;\n",
       "    }\n",
       "</style>\n",
       "<table border=\"1\" class=\"dataframe\">\n",
       "  <thead>\n",
       "    <tr style=\"text-align: right;\">\n",
       "      <th>Accident_Severity</th>\n",
       "      <th>Fatal</th>\n",
       "      <th>Serious</th>\n",
       "      <th>Slight</th>\n",
       "    </tr>\n",
       "    <tr>\n",
       "      <th>Month</th>\n",
       "      <th></th>\n",
       "      <th></th>\n",
       "      <th></th>\n",
       "    </tr>\n",
       "  </thead>\n",
       "  <tbody>\n",
       "    <tr>\n",
       "      <th>January</th>\n",
       "      <td>239</td>\n",
       "      <td>2009</td>\n",
       "      <td>13107</td>\n",
       "    </tr>\n",
       "    <tr>\n",
       "      <th>February</th>\n",
       "      <td>173</td>\n",
       "      <td>1639</td>\n",
       "      <td>11441</td>\n",
       "    </tr>\n",
       "    <tr>\n",
       "      <th>March</th>\n",
       "      <td>212</td>\n",
       "      <td>1951</td>\n",
       "      <td>12886</td>\n",
       "    </tr>\n",
       "    <tr>\n",
       "      <th>April</th>\n",
       "      <td>231</td>\n",
       "      <td>2079</td>\n",
       "      <td>11815</td>\n",
       "    </tr>\n",
       "    <tr>\n",
       "      <th>May</th>\n",
       "      <td>230</td>\n",
       "      <td>1989</td>\n",
       "      <td>13614</td>\n",
       "    </tr>\n",
       "    <tr>\n",
       "      <th>June</th>\n",
       "      <td>201</td>\n",
       "      <td>2089</td>\n",
       "      <td>13238</td>\n",
       "    </tr>\n",
       "    <tr>\n",
       "      <th>July</th>\n",
       "      <td>225</td>\n",
       "      <td>2216</td>\n",
       "      <td>13421</td>\n",
       "    </tr>\n",
       "    <tr>\n",
       "      <th>August</th>\n",
       "      <td>260</td>\n",
       "      <td>2129</td>\n",
       "      <td>12655</td>\n",
       "    </tr>\n",
       "    <tr>\n",
       "      <th>September</th>\n",
       "      <td>225</td>\n",
       "      <td>2121</td>\n",
       "      <td>12925</td>\n",
       "    </tr>\n",
       "    <tr>\n",
       "      <th>October</th>\n",
       "      <td>245</td>\n",
       "      <td>2093</td>\n",
       "      <td>13190</td>\n",
       "    </tr>\n",
       "    <tr>\n",
       "      <th>November</th>\n",
       "      <td>238</td>\n",
       "      <td>2143</td>\n",
       "      <td>14178</td>\n",
       "    </tr>\n",
       "    <tr>\n",
       "      <th>December</th>\n",
       "      <td>235</td>\n",
       "      <td>1864</td>\n",
       "      <td>12609</td>\n",
       "    </tr>\n",
       "  </tbody>\n",
       "</table>\n",
       "</div>"
      ],
      "text/plain": [
       "Accident_Severity  Fatal  Serious  Slight\n",
       "Month                                    \n",
       "January              239     2009   13107\n",
       "February             173     1639   11441\n",
       "March                212     1951   12886\n",
       "April                231     2079   11815\n",
       "May                  230     1989   13614\n",
       "June                 201     2089   13238\n",
       "July                 225     2216   13421\n",
       "August               260     2129   12655\n",
       "September            225     2121   12925\n",
       "October              245     2093   13190\n",
       "November             238     2143   14178\n",
       "December             235     1864   12609"
      ]
     },
     "execution_count": 23,
     "metadata": {},
     "output_type": "execute_result"
    }
   ],
   "source": [
    "severity_monthly = severity_monthly.reindex(month_order)\n",
    "severity_monthly"
   ]
  },
  {
   "cell_type": "markdown",
   "id": "44c50956-ac3e-4b2c-9423-dffcff6ac8b0",
   "metadata": {},
   "source": [
    "<h3>INSIGHT#5: Slight Accident are higher in each month especially in May and June. while fatal accidents are higher during January to March. So even though the higher accidents is month of May and June they are just minor or moderate accident.</h3>"
   ]
  },
  {
   "cell_type": "markdown",
   "id": "67036da9-c6e7-4fe8-8a75-85a65ce6510f",
   "metadata": {},
   "source": [
    "<hr>\n",
    "<h1>QUESTION#4: Which district/area had the most accidents in 2019?</h1>"
   ]
  },
  {
   "cell_type": "code",
   "execution_count": 24,
   "id": "3383f8e5-538c-4a61-a62a-10398a1cdcd4",
   "metadata": {},
   "outputs": [
    {
     "name": "stdout",
     "output_type": "stream",
     "text": [
      "Top 5 Districts with most accidents in 2019:\n",
      "District Area\n",
      "Birmingham      3820\n",
      "Leeds           2425\n",
      "Manchester      1832\n",
      "Glasgow City    1782\n",
      "Bradford        1636\n",
      "Name: count, dtype: int64\n"
     ]
    }
   ],
   "source": [
    "district_counts = df_2019['District Area'].value_counts()\n",
    "district_counts\n",
    "print(\"Top 5 Districts with most accidents in 2019:\")\n",
    "print(district_counts.head())"
   ]
  },
  {
   "cell_type": "markdown",
   "id": "a45db221-94b0-4fb4-853b-e8f3fc8378c1",
   "metadata": {},
   "source": [
    "<h3>INSIGHT#5: Most accidents happened in district or area of Birmingham with 1554 accident in year 2019, there's a high gap between Birmingham and other district.</h3>"
   ]
  },
  {
   "cell_type": "markdown",
   "id": "7bdc6957-39aa-4166-9124-f31db55799ac",
   "metadata": {},
   "source": [
    "<hr>\n",
    "<h1>QUESTION#5: Which Road Type has the highest number of accidents?</h1>"
   ]
  },
  {
   "cell_type": "code",
   "execution_count": 25,
   "id": "fa6714ee-1085-4ae3-b1d2-6f5a1e9baa6e",
   "metadata": {},
   "outputs": [
    {
     "data": {
      "text/plain": [
       "Road_Type\n",
       "Single carriageway    136468\n",
       "Dual carriageway       28162\n",
       "Roundabout             11698\n",
       "One way street          3813\n",
       "Slip road               1974\n",
       "Name: count, dtype: int64"
      ]
     },
     "execution_count": 25,
     "metadata": {},
     "output_type": "execute_result"
    }
   ],
   "source": [
    "road_counts = df_2019['Road_Type'].value_counts()\n",
    "road_counts"
   ]
  },
  {
   "cell_type": "code",
   "execution_count": 26,
   "id": "99f2ff9f-300b-49ed-810d-5f32b0404915",
   "metadata": {},
   "outputs": [
    {
     "data": {
      "text/plain": [
       "Road_Type\n",
       "Single carriageway    74.935069\n",
       "Dual carriageway      15.463855\n",
       "Roundabout             6.423414\n",
       "One way street         2.093732\n",
       "Slip road              1.083930\n",
       "Name: proportion, dtype: float64"
      ]
     },
     "execution_count": 26,
     "metadata": {},
     "output_type": "execute_result"
    }
   ],
   "source": [
    "road_percent = df_2019['Road_Type'].value_counts(normalize=True) * 100\n",
    "road_percent"
   ]
  },
  {
   "cell_type": "markdown",
   "id": "04fdc356-53ff-490f-b9e7-790b756d6e2f",
   "metadata": {},
   "source": [
    "<h3>INSIGHT#6: Single Carriageway has the highest number of accidents with 53310 or 74.18%. followed by dual carriageways with 11022 or 15.34%, showing that two-lane and multi-lane roads is a total of nearly 90% of all cases, while accidents on roundabouts, one-way streets, and slip roads were much less frequent.</h3>"
   ]
  },
  {
   "cell_type": "markdown",
   "id": "1a190f24-12a4-42aa-ab42-626cfdaa1e38",
   "metadata": {},
   "source": [
    "<hr>"
   ]
  },
  {
   "cell_type": "code",
   "execution_count": 27,
   "id": "cfbdc808-7b20-4a2e-a2dd-cee4532c322b",
   "metadata": {},
   "outputs": [],
   "source": [
    "df_2020 = accident[accident['Year'] == 2020]"
   ]
  },
  {
   "cell_type": "markdown",
   "id": "966fbf85-4271-41a1-8f3a-0e3c04c6fe91",
   "metadata": {},
   "source": [
    "<h1>QUESTION#6: What is the daily/weekly trend of accidents in 2020?</h1>"
   ]
  },
  {
   "cell_type": "code",
   "execution_count": 28,
   "id": "5df0df61-c5f1-4bd8-b926-e2be0716d575",
   "metadata": {},
   "outputs": [
    {
     "data": {
      "text/plain": [
       "Accident Date\n",
       "2020-01-01    257\n",
       "2020-01-02    263\n",
       "2020-01-03    318\n",
       "2020-01-04    410\n",
       "2020-01-05    352\n",
       "dtype: int64"
      ]
     },
     "execution_count": 28,
     "metadata": {},
     "output_type": "execute_result"
    }
   ],
   "source": [
    "daily_trend = df_2020.groupby(df_2020['Accident Date'].dt.date).size()\n",
    "daily_trend.head()"
   ]
  },
  {
   "cell_type": "code",
   "execution_count": 29,
   "id": "1f53a540-138a-4be8-8b53-edb0316327b4",
   "metadata": {},
   "outputs": [
    {
     "data": {
      "text/plain": [
       "(datetime.date(2020, 11, 28), np.int64(659))"
      ]
     },
     "execution_count": 29,
     "metadata": {},
     "output_type": "execute_result"
    }
   ],
   "source": [
    "highest_day = daily_trend.idxmax(), daily_trend.max()\n",
    "highest_day"
   ]
  },
  {
   "cell_type": "code",
   "execution_count": 30,
   "id": "11ff5a61-1e8e-4c9a-a6a3-0bc75ac16c5a",
   "metadata": {},
   "outputs": [
    {
     "data": {
      "text/plain": [
       "(datetime.date(2020, 12, 25), np.int64(118))"
      ]
     },
     "execution_count": 30,
     "metadata": {},
     "output_type": "execute_result"
    }
   ],
   "source": [
    "lowest_day  = daily_trend.idxmin(), daily_trend.min()\n",
    "lowest_day"
   ]
  },
  {
   "cell_type": "markdown",
   "id": "d4f8041a-15fa-4de9-a9e4-b02131cfb739",
   "metadata": {},
   "source": [
    "<h3>INSIGHT#7: In 2020, daily accident trends showed lower counts on holidays which is january 1, 2020.while weekdays consistently recorded higher accidents, averaging over 500 cases per day.</h3>"
   ]
  },
  {
   "cell_type": "code",
   "execution_count": 31,
   "id": "1389a84e-2f5f-42d8-955d-df2481fb51de",
   "metadata": {},
   "outputs": [
    {
     "data": {
      "text/plain": [
       "Accident Date\n",
       "Saturday     27387\n",
       "Wednesday    26245\n",
       "Thursday     25830\n",
       "Friday       24948\n",
       "Tuesday      24381\n",
       "Sunday       23050\n",
       "Monday       18750\n",
       "dtype: int64"
      ]
     },
     "execution_count": 31,
     "metadata": {},
     "output_type": "execute_result"
    }
   ],
   "source": [
    "weekly_trend = df_2020.groupby(df_2020['Accident Date'].dt.day_name()).size().sort_values(ascending=False)\n",
    "weekly_trend"
   ]
  },
  {
   "cell_type": "markdown",
   "id": "c97f1b6a-7ff1-491a-aad1-3ff146992026",
   "metadata": {},
   "source": [
    "<h3>INSIGHT#8: In 2020, weekly accident trends showed lower counts on Monday,while Wednesday and Saturday has the higher counts, showing that midweek and weekend traffic contribute heavily to accidents.</h3>"
   ]
  },
  {
   "cell_type": "markdown",
   "id": "3c794685-e9e7-4c3d-94d1-900ff2cb1982",
   "metadata": {},
   "source": [
    "<hr>\n",
    "<h1>QUESTIO#7: Did the percentage of slight vs. serious vs. fatal accidents change compared to 2019?</h1>"
   ]
  },
  {
   "cell_type": "code",
   "execution_count": 32,
   "id": "e2133e7a-71eb-43ad-aa37-7715a66587ca",
   "metadata": {},
   "outputs": [
    {
     "data": {
      "text/html": [
       "<div>\n",
       "<style scoped>\n",
       "    .dataframe tbody tr th:only-of-type {\n",
       "        vertical-align: middle;\n",
       "    }\n",
       "\n",
       "    .dataframe tbody tr th {\n",
       "        vertical-align: top;\n",
       "    }\n",
       "\n",
       "    .dataframe thead th {\n",
       "        text-align: right;\n",
       "    }\n",
       "</style>\n",
       "<table border=\"1\" class=\"dataframe\">\n",
       "  <thead>\n",
       "    <tr style=\"text-align: right;\">\n",
       "      <th></th>\n",
       "      <th>2019</th>\n",
       "      <th>2020</th>\n",
       "      <th>Change (%)</th>\n",
       "    </tr>\n",
       "    <tr>\n",
       "      <th>Accident_Severity</th>\n",
       "      <th></th>\n",
       "      <th></th>\n",
       "      <th></th>\n",
       "    </tr>\n",
       "  </thead>\n",
       "  <tbody>\n",
       "    <tr>\n",
       "      <th>Slight</th>\n",
       "      <td>85.154435</td>\n",
       "      <td>85.074242</td>\n",
       "      <td>-0.080193</td>\n",
       "    </tr>\n",
       "    <tr>\n",
       "      <th>Serious</th>\n",
       "      <td>13.355297</td>\n",
       "      <td>13.553470</td>\n",
       "      <td>0.198173</td>\n",
       "    </tr>\n",
       "    <tr>\n",
       "      <th>Fatal</th>\n",
       "      <td>1.490267</td>\n",
       "      <td>1.372288</td>\n",
       "      <td>-0.117979</td>\n",
       "    </tr>\n",
       "  </tbody>\n",
       "</table>\n",
       "</div>"
      ],
      "text/plain": [
       "                        2019       2020  Change (%)\n",
       "Accident_Severity                                  \n",
       "Slight             85.154435  85.074242   -0.080193\n",
       "Serious            13.355297  13.553470    0.198173\n",
       "Fatal               1.490267   1.372288   -0.117979"
      ]
     },
     "execution_count": 32,
     "metadata": {},
     "output_type": "execute_result"
    }
   ],
   "source": [
    "severity_2019 = accident[accident['Year']==2019]['Accident_Severity'].value_counts(normalize=True) * 100\n",
    "severity_2020 = accident[accident['Year']==2020]['Accident_Severity'].value_counts(normalize=True) * 100\n",
    "compare = pd.DataFrame({\"2019\": severity_2019, \"2020\": severity_2020, \"Change (%)\": severity_2020 - severity_2019})\n",
    "compare"
   ]
  },
  {
   "cell_type": "markdown",
   "id": "08df593a-cfeb-4d1b-b3ec-5f6be8c3d8e2",
   "metadata": {},
   "source": [
    "<h3>INSIGHT#9: The slight accidents increased slightly from 84.78% in 2019 to 85.34% in 2020 (+0.56%), showing most accidents remained minor.</h3>"
   ]
  },
  {
   "cell_type": "markdown",
   "id": "1fdf9708-d659-4519-90b0-16df0c29c5f3",
   "metadata": {},
   "source": [
    "<h3>INSIGHT#10: The Serious accidents remain consistent with 13% only decreased in 2020 with -0.35%, showing that there's no changes in accident severity. Same with fatal accidents which remain with 1% only decreased in 2020 with -0.21%</h3>"
   ]
  },
  {
   "cell_type": "markdown",
   "id": "ef39ecd6-a2bc-4a67-acf5-ae5ebe16c66a",
   "metadata": {},
   "source": [
    "<HR>\n",
    "<h1>QUESTION#8: What is the distribution of accidents by Weather Conditions in year 2020?</h1>"
   ]
  },
  {
   "cell_type": "code",
   "execution_count": 33,
   "id": "9a87e7a1-2169-432f-81fc-dfc24fba4b93",
   "metadata": {},
   "outputs": [
    {
     "data": {
      "text/plain": [
       "Weather_Conditions\n",
       "Fine no high winds       79.986635\n",
       "Raining no high winds    12.886964\n",
       "Other                     2.500132\n",
       "Raining + high winds      1.834798\n",
       "Fine + high winds         1.677111\n",
       "Fog or mist               0.575060\n",
       "Snowing no high winds     0.421476\n",
       "Snowing + high winds      0.117826\n",
       "Name: proportion, dtype: float64"
      ]
     },
     "execution_count": 33,
     "metadata": {},
     "output_type": "execute_result"
    }
   ],
   "source": [
    "weather_2020 = df_2020['Weather_Conditions'].value_counts(normalize = True) * 100\n",
    "weather_2020"
   ]
  },
  {
   "cell_type": "markdown",
   "id": "6b04c49d-4e60-4b9f-81da-a4a56594a491",
   "metadata": {},
   "source": [
    "<h3>INSIGHT#11: Most accidents which is 75.3% happened in fine weather without high winds, showing that good weather doesn’t guarantee road safety.</h3>"
   ]
  },
  {
   "cell_type": "markdown",
   "id": "444e2821-e1e5-4732-86f3-44507f91fe53",
   "metadata": {},
   "source": [
    "<h3>INSIGHT#12: Rainy conditions with and without high winds contributed to a total of 16.4% of accidents, highlighting the impact of wet roads on crash risk.</h3>"
   ]
  },
  {
   "cell_type": "markdown",
   "id": "794f6d63-8647-4c28-be01-d50e626e1865",
   "metadata": {},
   "source": [
    "<h3>INSIGHT#13: Extreme weather such as snow 0.8% and fog 0.5% played only a minor role, meaning accidents occur more often in normal conditions than in severe weather.</h3>"
   ]
  },
  {
   "cell_type": "markdown",
   "id": "80cdd37c-c676-498e-b4ed-9d62aee8e7c8",
   "metadata": {},
   "source": [
    "<HR>\n",
    "<h1>QUESTION#9: Is there a correlation between the number of vehicles involved and the number of casualties in 2020</h1>"
   ]
  },
  {
   "cell_type": "code",
   "execution_count": 34,
   "id": "638e5c4a-e5f1-495e-8b44-63e378bad6bc",
   "metadata": {},
   "outputs": [
    {
     "data": {
      "text/plain": [
       "np.float64(0.22326073710789965)"
      ]
     },
     "execution_count": 34,
     "metadata": {},
     "output_type": "execute_result"
    }
   ],
   "source": [
    "vehicles_casualties_corr = df_2020['Number_of_Vehicles'].corr(df_2020['Number_of_Casualties'])\n",
    "vehicles_casualties_corr"
   ]
  },
  {
   "cell_type": "markdown",
   "id": "5da755f7-3f02-4c2d-902a-68a04e7b3450",
   "metadata": {},
   "source": [
    "<h3>INSIGHT#14: The correlation is positive but weak, there's a slight correlation between number of vehicles and number of casualties. But there are other more reason for the number of casualties.</h3>"
   ]
  },
  {
   "cell_type": "markdown",
   "id": "a83f94cb-25cc-40ee-854b-729df11060af",
   "metadata": {},
   "source": [
    "<h1>QUESTION#10: Is there a correlation between Weather Conditions and Accident Severity in 2020?</h1>"
   ]
  },
  {
   "cell_type": "code",
   "execution_count": 35,
   "id": "181c9090-75b6-4555-bbcd-f7f4cbf48270",
   "metadata": {},
   "outputs": [],
   "source": [
    "from scipy.stats import chi2_contingency"
   ]
  },
  {
   "cell_type": "code",
   "execution_count": 38,
   "id": "39014c3e-9615-49cc-8f2d-1274c7e49998",
   "metadata": {},
   "outputs": [
    {
     "data": {
      "text/plain": [
       "np.float64(124.56031026589383)"
      ]
     },
     "execution_count": 38,
     "metadata": {},
     "output_type": "execute_result"
    }
   ],
   "source": [
    "contingency = pd.crosstab(df_2020['Weather_Conditions'], df_2020['Accident_Severity'])\n",
    "chi2, p_value, dof, expected = chi2_contingency(contingency)\n",
    "chi2"
   ]
  },
  {
   "cell_type": "code",
   "execution_count": 39,
   "id": "1620b049-0680-4805-a8a7-77a874178b00",
   "metadata": {},
   "outputs": [
    {
     "data": {
      "text/plain": [
       "np.float64(8.01753460908664e-20)"
      ]
     },
     "execution_count": 39,
     "metadata": {},
     "output_type": "execute_result"
    }
   ],
   "source": [
    "p_value"
   ]
  },
  {
   "cell_type": "markdown",
   "id": "87cc3296-9f57-4bc8-a197-75b2622f348e",
   "metadata": {},
   "source": [
    "<h3>INSIGHT#15: There is a significant correlation between weather conditions and accident severity in 2020, rain, snow or fog can cause serious or fatal accidents.</h3>"
   ]
  },
  {
   "cell_type": "markdown",
   "id": "de0369c6-28a6-454d-aebe-c6fb19c70007",
   "metadata": {},
   "source": [
    "<HR></HR>\n",
    "<h1>QUESTION#11: Which vehicle type was most frequently involved in accidents in 2021?</h1>"
   ]
  },
  {
   "cell_type": "code",
   "execution_count": 40,
   "id": "56f5eae1-3b3a-4e26-8b76-3bf9f0219d61",
   "metadata": {},
   "outputs": [],
   "source": [
    "df_2021 = accident[accident['Year'] == 2021]"
   ]
  },
  {
   "cell_type": "code",
   "execution_count": 43,
   "id": "43941390-99c4-4d06-bbe4-ae0c8619aec6",
   "metadata": {},
   "outputs": [
    {
     "data": {
      "text/plain": [
       "Vehicle_Type\n",
       "Car                                      78.277511\n",
       "Van / Goods 3.5 tonnes mgw or under       4.956161\n",
       "Motorcycle over 500cc                     3.735769\n",
       "Bus or coach (17 or more pass seats)      2.540445\n",
       "Goods 7.5 tonnes mgw and over             2.182154\n",
       "Motorcycle 125cc and under                2.001174\n",
       "Taxi/Private hire car                     1.653888\n",
       "Motorcycle 50cc and under                 1.203272\n",
       "Motorcycle over 125cc and up to 500cc     1.170867\n",
       "Other vehicle                             0.868215\n",
       "Goods over 3.5t. and under 7.5t           0.852929\n",
       "Agricultural vehicle                      0.275138\n",
       "Minibus (8 - 16 passenger seats)          0.256796\n",
       "Pedal cycle                               0.024457\n",
       "Ridden horse                              0.001223\n",
       "Data missing or out of range              0.000000\n",
       "Name: proportion, dtype: float64"
      ]
     },
     "execution_count": 43,
     "metadata": {},
     "output_type": "execute_result"
    }
   ],
   "source": [
    "vehicle_acc = df_2021['Vehicle_Type'].value_counts(normalize=True) * 100\n",
    "vehicle_acc"
   ]
  },
  {
   "cell_type": "markdown",
   "id": "ea22802d-6d90-46e2-97d1-ba652b80ee0c",
   "metadata": {},
   "source": [
    "<h3>INSIGHT#16: Car are most frequently involved in accidents by the year of 2021 with over 51745 or 78.2%, there's a huge gap in car and other vehicle type. </h3>"
   ]
  },
  {
   "cell_type": "markdown",
   "id": "5f946dab-b2ae-4b1d-a720-c3319797a579",
   "metadata": {},
   "source": [
    "<hr>\n",
    "<h1>QUESTION#12: In what area commonly has the most car involved in accidents in year 2021?</h1>"
   ]
  },
  {
   "cell_type": "code",
   "execution_count": 51,
   "id": "e02242ff-cec2-4c7c-90af-cd954ab3be9d",
   "metadata": {},
   "outputs": [
    {
     "data": {
      "text/plain": [
       "District Area\n",
       "Birmingham    2609\n",
       "Leeds         1760\n",
       "Manchester    1417\n",
       "Bradford      1255\n",
       "Sheffield     1212\n",
       "Name: count, dtype: int64"
      ]
     },
     "execution_count": 51,
     "metadata": {},
     "output_type": "execute_result"
    }
   ],
   "source": [
    "car_accidents_2021 = accident[(accident['Year'] == 2021) & (accident['Vehicle_Type'] == 'Car')]\n",
    "car_area_counts = car_accidents_2021['District Area'].value_counts().head(5)\n",
    "car_area_counts"
   ]
  },
  {
   "cell_type": "markdown",
   "id": "172a719c-f363-45c0-b01e-61bf2a0e177b",
   "metadata": {},
   "source": [
    "<h3>INSIGHT#17: The area has the most car involved in accidents is Birmingham with 2609 cars accidents. Followed by Leeds with 1760 accidents. The information above are the top 5 with the most car accidents area. </h3>"
   ]
  },
  {
   "cell_type": "markdown",
   "id": "edd0ca2f-ef21-4245-842a-58c6b31e4962",
   "metadata": {},
   "source": [
    "<hr>\n",
    "<h1>QUESTION#13: In what area has the most fatalities car accident in year 2021?</h1>"
   ]
  },
  {
   "cell_type": "code",
   "execution_count": 65,
   "id": "e5b955c2-2796-4cd6-b6c7-2b66b4041939",
   "metadata": {},
   "outputs": [
    {
     "data": {
      "text/html": [
       "<div>\n",
       "<style scoped>\n",
       "    .dataframe tbody tr th:only-of-type {\n",
       "        vertical-align: middle;\n",
       "    }\n",
       "\n",
       "    .dataframe tbody tr th {\n",
       "        vertical-align: top;\n",
       "    }\n",
       "\n",
       "    .dataframe thead th {\n",
       "        text-align: right;\n",
       "    }\n",
       "</style>\n",
       "<table border=\"1\" class=\"dataframe\">\n",
       "  <thead>\n",
       "    <tr style=\"text-align: right;\">\n",
       "      <th></th>\n",
       "      <th>District Area</th>\n",
       "      <th>count</th>\n",
       "    </tr>\n",
       "  </thead>\n",
       "  <tbody>\n",
       "    <tr>\n",
       "      <th>0</th>\n",
       "      <td>Birmingham</td>\n",
       "      <td>23</td>\n",
       "    </tr>\n",
       "    <tr>\n",
       "      <th>1</th>\n",
       "      <td>Highland</td>\n",
       "      <td>19</td>\n",
       "    </tr>\n",
       "    <tr>\n",
       "      <th>2</th>\n",
       "      <td>Wiltshire</td>\n",
       "      <td>19</td>\n",
       "    </tr>\n",
       "    <tr>\n",
       "      <th>3</th>\n",
       "      <td>Shropshire</td>\n",
       "      <td>18</td>\n",
       "    </tr>\n",
       "    <tr>\n",
       "      <th>4</th>\n",
       "      <td>Bradford</td>\n",
       "      <td>17</td>\n",
       "    </tr>\n",
       "  </tbody>\n",
       "</table>\n",
       "</div>"
      ],
      "text/plain": [
       "  District Area  count\n",
       "0    Birmingham     23\n",
       "1      Highland     19\n",
       "2     Wiltshire     19\n",
       "3    Shropshire     18\n",
       "4      Bradford     17"
      ]
     },
     "execution_count": 65,
     "metadata": {},
     "output_type": "execute_result"
    }
   ],
   "source": [
    "fatalities_car_2021 = accident[(accident['Year'] == 2021) & (accident['Vehicle_Type'] == 'Car') & (accident['Accident_Severity'] == 'Fatal')]\n",
    "fatalities_count = fatalities_car_2021['District Area'].value_counts().reset_index()\n",
    "fatalities_count.head()"
   ]
  },
  {
   "cell_type": "markdown",
   "id": "8bf802b1-5219-4cd8-b059-770ec565a9bc",
   "metadata": {},
   "source": [
    "<h3>INSIGHT#18: Based on the data above Birmingham area has the most fatal car accidents same with the result above in which car accidents in the same area has the most involved. But unlike the first result leeds is second with the most involved car accidents but in this area Highland is top 2 in fatalities car accidents. Therefore even though leeds has the second most involved car it might fall into serious and slight accidents. </h3>"
   ]
  },
  {
   "cell_type": "markdown",
   "id": "dd7b8ead-50a9-41d1-8328-685feee1a6f0",
   "metadata": {},
   "source": [
    "<hr>\n",
    "<h1>QUESTION#14: What proportion of accidents occurred in urban vs. rural areas in 2022?</h1>"
   ]
  },
  {
   "cell_type": "code",
   "execution_count": 73,
   "id": "2b18d92a-3ee0-442b-8265-303634053b93",
   "metadata": {},
   "outputs": [
    {
     "data": {
      "text/plain": [
       "Urban_or_Rural_Area\n",
       "Urban          65.084234\n",
       "Rural          34.915766\n",
       "Unallocated     0.000000\n",
       "Name: proportion, dtype: float64"
      ]
     },
     "execution_count": 73,
     "metadata": {},
     "output_type": "execute_result"
    }
   ],
   "source": [
    "accident_2022 = accident[accident['Year'] == 2022]\n",
    "accident_urban_rural = accident_2022['Urban_or_Rural_Area'].value_counts(normalize=True) * 100\n",
    "accident_urban_rural"
   ]
  },
  {
   "cell_type": "markdown",
   "id": "110269bd-2208-45dd-ac11-12dcf1743d49",
   "metadata": {},
   "source": [
    "<h3>INSIGHT#19: Urban has the most accident number with 65% , while Rural has only half of urban accident with a number of 34.9%. It means that urban is more prone on accidents maybe because of traffic and high number of vehicle in cities.</h3>"
   ]
  },
  {
   "cell_type": "markdown",
   "id": "20d07c7a-59bd-469e-ada3-c456db8bd497",
   "metadata": {},
   "source": [
    "<hr>\n",
    "<h1>QUESTION#15: How did the severity distribution (fatal, serious, slight) differ between urban and rural areas in 2022?</h1>"
   ]
  },
  {
   "cell_type": "code",
   "execution_count": 71,
   "id": "bb410a16-4b7c-4b5b-a0cd-be61e6a9580d",
   "metadata": {},
   "outputs": [
    {
     "data": {
      "text/plain": [
       "Urban_or_Rural_Area  Accident_Severity\n",
       "Rural                Fatal                 1010\n",
       "                     Serious               7707\n",
       "                     Slight               41708\n",
       "Unallocated          Fatal                    0\n",
       "                     Serious                  0\n",
       "                     Slight                   0\n",
       "Urban                Fatal                  539\n",
       "                     Serious              11070\n",
       "                     Slight               82385\n",
       "dtype: int64"
      ]
     },
     "execution_count": 71,
     "metadata": {},
     "output_type": "execute_result"
    }
   ],
   "source": [
    "severity_2022 = accident_2022.groupby(['Urban_or_Rural_Area', 'Accident_Severity']).size()\n",
    "severity_2022"
   ]
  },
  {
   "cell_type": "markdown",
   "id": "680f18e3-7706-411f-843f-c7e6d3dd0d4d",
   "metadata": {},
   "source": [
    "<h3>INSIGHT#20: Based on the data above, Rural has the most high number of fatality than urban even though urban has the most accidents. Rural has 1010 fatal accidents, while Urban has almost half of rural which is 539 accidents.</h3>"
   ]
  },
  {
   "cell_type": "markdown",
   "id": "7365cbbb-aba9-49c4-a682-3f1cb7f8a1af",
   "metadata": {},
   "source": [
    "<H3>INSIGHT#21: Serious accidents happened on urban with a number of 11070 accidents, while Rural has 7707 serious accidents.</H3>"
   ]
  },
  {
   "cell_type": "markdown",
   "id": "82abf526-1459-4a75-bb0b-cf3035a4aa96",
   "metadata": {},
   "source": [
    "<H3>INSIGHT#22: Slight accidents mostly happened on urban with a number of 82385 accidents, while Rural has only 41708 serious accidents. It means that Urban most accidents is slight or serious than fatal same with rural area the difference is the total of accidents happened in urban and rural aswell as the distribution of the number of severity accidents.</H3>"
   ]
  },
  {
   "cell_type": "markdown",
   "id": "614cd880-aa3c-474f-8620-a7e36d045ad2",
   "metadata": {},
   "source": [
    "<hr>\n",
    "<h1>QUESTION#16: Did accidents increase or decrease overall from 2019 to 2022?</h1>"
   ]
  },
  {
   "cell_type": "code",
   "execution_count": 76,
   "id": "a8cd03b5-f8c7-4d60-a723-f99491f23a20",
   "metadata": {},
   "outputs": [
    {
     "data": {
      "text/plain": [
       "Year\n",
       "2019    182115\n",
       "2020    170591\n",
       "2021    163554\n",
       "2022    144419\n",
       "dtype: int64"
      ]
     },
     "execution_count": 76,
     "metadata": {},
     "output_type": "execute_result"
    }
   ],
   "source": [
    "yearly_accident = accident.groupby(['Year']).size()\n",
    "yearly_accident"
   ]
  },
  {
   "cell_type": "markdown",
   "id": "2961577a-5e9f-4d52-aea6-8567fc0c3ae3",
   "metadata": {},
   "source": [
    "<h3>INSIGHT#23: The accidents decrease from 2019 with 182115 accidents to 2022 with 144419 accidents. There is almost 4000 accidents difference from 2019-2022 maybe because of pandemic restrictions and advancedment of mobility and road.</h3>"
   ]
  },
  {
   "cell_type": "markdown",
   "id": "789eeae7-461c-4ef7-9a93-56b46e58a75c",
   "metadata": {},
   "source": [
    "<HR></HR>\n",
    "<h1>QUESTION#17: Which month consistently had the highest number of accidents across years?</h1>"
   ]
  },
  {
   "cell_type": "code",
   "execution_count": 84,
   "id": "65cc33af-8bf7-449a-ac33-9690850d18f6",
   "metadata": {},
   "outputs": [
    {
     "data": {
      "text/html": [
       "<div>\n",
       "<style scoped>\n",
       "    .dataframe tbody tr th:only-of-type {\n",
       "        vertical-align: middle;\n",
       "    }\n",
       "\n",
       "    .dataframe tbody tr th {\n",
       "        vertical-align: top;\n",
       "    }\n",
       "\n",
       "    .dataframe thead th {\n",
       "        text-align: right;\n",
       "    }\n",
       "</style>\n",
       "<table border=\"1\" class=\"dataframe\">\n",
       "  <thead>\n",
       "    <tr style=\"text-align: right;\">\n",
       "      <th>Month</th>\n",
       "      <th>1</th>\n",
       "      <th>2</th>\n",
       "      <th>3</th>\n",
       "      <th>4</th>\n",
       "      <th>5</th>\n",
       "      <th>6</th>\n",
       "      <th>7</th>\n",
       "      <th>8</th>\n",
       "      <th>9</th>\n",
       "      <th>10</th>\n",
       "      <th>11</th>\n",
       "      <th>12</th>\n",
       "    </tr>\n",
       "    <tr>\n",
       "      <th>Year</th>\n",
       "      <th></th>\n",
       "      <th></th>\n",
       "      <th></th>\n",
       "      <th></th>\n",
       "      <th></th>\n",
       "      <th></th>\n",
       "      <th></th>\n",
       "      <th></th>\n",
       "      <th></th>\n",
       "      <th></th>\n",
       "      <th></th>\n",
       "      <th></th>\n",
       "    </tr>\n",
       "  </thead>\n",
       "  <tbody>\n",
       "    <tr>\n",
       "      <th>2019</th>\n",
       "      <td>15355</td>\n",
       "      <td>13253</td>\n",
       "      <td>15049</td>\n",
       "      <td>14125</td>\n",
       "      <td>15833</td>\n",
       "      <td>15528</td>\n",
       "      <td>15862</td>\n",
       "      <td>15044</td>\n",
       "      <td>15271</td>\n",
       "      <td>15528</td>\n",
       "      <td>16559</td>\n",
       "      <td>14708</td>\n",
       "    </tr>\n",
       "    <tr>\n",
       "      <th>2020</th>\n",
       "      <td>14133</td>\n",
       "      <td>14353</td>\n",
       "      <td>13494</td>\n",
       "      <td>13394</td>\n",
       "      <td>14336</td>\n",
       "      <td>14205</td>\n",
       "      <td>14630</td>\n",
       "      <td>13366</td>\n",
       "      <td>14432</td>\n",
       "      <td>15684</td>\n",
       "      <td>14770</td>\n",
       "      <td>13794</td>\n",
       "    </tr>\n",
       "    <tr>\n",
       "      <th>2021</th>\n",
       "      <td>13417</td>\n",
       "      <td>10950</td>\n",
       "      <td>13202</td>\n",
       "      <td>12715</td>\n",
       "      <td>13811</td>\n",
       "      <td>13936</td>\n",
       "      <td>14300</td>\n",
       "      <td>13415</td>\n",
       "      <td>13792</td>\n",
       "      <td>14834</td>\n",
       "      <td>15473</td>\n",
       "      <td>13709</td>\n",
       "    </tr>\n",
       "    <tr>\n",
       "      <th>2022</th>\n",
       "      <td>9967</td>\n",
       "      <td>10935</td>\n",
       "      <td>12341</td>\n",
       "      <td>11510</td>\n",
       "      <td>12372</td>\n",
       "      <td>12812</td>\n",
       "      <td>12653</td>\n",
       "      <td>12088</td>\n",
       "      <td>12960</td>\n",
       "      <td>13534</td>\n",
       "      <td>13622</td>\n",
       "      <td>9625</td>\n",
       "    </tr>\n",
       "  </tbody>\n",
       "</table>\n",
       "</div>"
      ],
      "text/plain": [
       "Month     1      2      3      4      5      6      7      8      9      10  \\\n",
       "Year                                                                          \n",
       "2019   15355  13253  15049  14125  15833  15528  15862  15044  15271  15528   \n",
       "2020   14133  14353  13494  13394  14336  14205  14630  13366  14432  15684   \n",
       "2021   13417  10950  13202  12715  13811  13936  14300  13415  13792  14834   \n",
       "2022    9967  10935  12341  11510  12372  12812  12653  12088  12960  13534   \n",
       "\n",
       "Month     11     12  \n",
       "Year                 \n",
       "2019   16559  14708  \n",
       "2020   14770  13794  \n",
       "2021   15473  13709  \n",
       "2022   13622   9625  "
      ]
     },
     "execution_count": 84,
     "metadata": {},
     "output_type": "execute_result"
    }
   ],
   "source": [
    "monthly_accidents = accident.groupby(['Year', 'Month']).size().unstack()\n",
    "monthly_accidents"
   ]
  },
  {
   "cell_type": "markdown",
   "id": "8c9def35-fd39-46f8-a90d-d0d54cd05c74",
   "metadata": {},
   "source": [
    "<h3>INSIGHT#24: October–November consistently record the highest accidents, while February–April are lower. </h3>"
   ]
  },
  {
   "cell_type": "markdown",
   "id": "8d495a98-830b-4c42-9860-e38d22d1eac1",
   "metadata": {},
   "source": [
    "<hr>\n",
    "<h1>QUESTION#18: Did rural areas consistently have a higher proportion of fatal accidents compared to urban areas?</h1>"
   ]
  },
  {
   "cell_type": "code",
   "execution_count": 87,
   "id": "86756864-9515-4325-9469-48fc3bb78290",
   "metadata": {},
   "outputs": [
    {
     "data": {
      "text/html": [
       "<div>\n",
       "<style scoped>\n",
       "    .dataframe tbody tr th:only-of-type {\n",
       "        vertical-align: middle;\n",
       "    }\n",
       "\n",
       "    .dataframe tbody tr th {\n",
       "        vertical-align: top;\n",
       "    }\n",
       "\n",
       "    .dataframe thead th {\n",
       "        text-align: right;\n",
       "    }\n",
       "</style>\n",
       "<table border=\"1\" class=\"dataframe\">\n",
       "  <thead>\n",
       "    <tr style=\"text-align: right;\">\n",
       "      <th></th>\n",
       "      <th>Year</th>\n",
       "      <th>Urban_or_Rural_Area</th>\n",
       "      <th>Accident_Severity</th>\n",
       "      <th>Count</th>\n",
       "    </tr>\n",
       "  </thead>\n",
       "  <tbody>\n",
       "    <tr>\n",
       "      <th>0</th>\n",
       "      <td>2019</td>\n",
       "      <td>Rural</td>\n",
       "      <td>Fatal</td>\n",
       "      <td>1773</td>\n",
       "    </tr>\n",
       "    <tr>\n",
       "      <th>3</th>\n",
       "      <td>2019</td>\n",
       "      <td>Unallocated</td>\n",
       "      <td>Fatal</td>\n",
       "      <td>0</td>\n",
       "    </tr>\n",
       "    <tr>\n",
       "      <th>6</th>\n",
       "      <td>2019</td>\n",
       "      <td>Urban</td>\n",
       "      <td>Fatal</td>\n",
       "      <td>941</td>\n",
       "    </tr>\n",
       "    <tr>\n",
       "      <th>9</th>\n",
       "      <td>2020</td>\n",
       "      <td>Rural</td>\n",
       "      <td>Fatal</td>\n",
       "      <td>1495</td>\n",
       "    </tr>\n",
       "    <tr>\n",
       "      <th>12</th>\n",
       "      <td>2020</td>\n",
       "      <td>Unallocated</td>\n",
       "      <td>Fatal</td>\n",
       "      <td>0</td>\n",
       "    </tr>\n",
       "    <tr>\n",
       "      <th>15</th>\n",
       "      <td>2020</td>\n",
       "      <td>Urban</td>\n",
       "      <td>Fatal</td>\n",
       "      <td>846</td>\n",
       "    </tr>\n",
       "    <tr>\n",
       "      <th>18</th>\n",
       "      <td>2021</td>\n",
       "      <td>Rural</td>\n",
       "      <td>Fatal</td>\n",
       "      <td>1323</td>\n",
       "    </tr>\n",
       "    <tr>\n",
       "      <th>21</th>\n",
       "      <td>2021</td>\n",
       "      <td>Unallocated</td>\n",
       "      <td>Fatal</td>\n",
       "      <td>0</td>\n",
       "    </tr>\n",
       "    <tr>\n",
       "      <th>24</th>\n",
       "      <td>2021</td>\n",
       "      <td>Urban</td>\n",
       "      <td>Fatal</td>\n",
       "      <td>734</td>\n",
       "    </tr>\n",
       "    <tr>\n",
       "      <th>27</th>\n",
       "      <td>2022</td>\n",
       "      <td>Rural</td>\n",
       "      <td>Fatal</td>\n",
       "      <td>1010</td>\n",
       "    </tr>\n",
       "    <tr>\n",
       "      <th>30</th>\n",
       "      <td>2022</td>\n",
       "      <td>Unallocated</td>\n",
       "      <td>Fatal</td>\n",
       "      <td>0</td>\n",
       "    </tr>\n",
       "    <tr>\n",
       "      <th>33</th>\n",
       "      <td>2022</td>\n",
       "      <td>Urban</td>\n",
       "      <td>Fatal</td>\n",
       "      <td>539</td>\n",
       "    </tr>\n",
       "  </tbody>\n",
       "</table>\n",
       "</div>"
      ],
      "text/plain": [
       "    Year Urban_or_Rural_Area Accident_Severity  Count\n",
       "0   2019               Rural             Fatal   1773\n",
       "3   2019         Unallocated             Fatal      0\n",
       "6   2019               Urban             Fatal    941\n",
       "9   2020               Rural             Fatal   1495\n",
       "12  2020         Unallocated             Fatal      0\n",
       "15  2020               Urban             Fatal    846\n",
       "18  2021               Rural             Fatal   1323\n",
       "21  2021         Unallocated             Fatal      0\n",
       "24  2021               Urban             Fatal    734\n",
       "27  2022               Rural             Fatal   1010\n",
       "30  2022         Unallocated             Fatal      0\n",
       "33  2022               Urban             Fatal    539"
      ]
     },
     "execution_count": 87,
     "metadata": {},
     "output_type": "execute_result"
    }
   ],
   "source": [
    "severity_area = (accident.groupby(['Year', 'Urban_or_Rural_Area', 'Accident_Severity']).size().reset_index(name='Count'))\n",
    "totals = severity_area.groupby(['Year', 'Urban_or_Rural_Area'])['Count'].transform('sum')\n",
    "fatal_area = severity_area[severity_area['Accident_Severity'] == 'Fatal']\n",
    "fatal_area"
   ]
  },
  {
   "cell_type": "markdown",
   "id": "99384a72-bf5f-43df-8585-522370bd17c4",
   "metadata": {},
   "source": [
    "<h3>INSIGHT#25: The answer is yes, Rural consistently has the higher fatal accidents compared to urban areas. In 2019 1773 accidents record fatalities, while 2020 1495 accidents, 2021 1323 accidents, lastly is 2022 with 1010 accidents.</h3>"
   ]
  },
  {
   "cell_type": "markdown",
   "id": "4785fc64-ff3c-4108-8894-146fdc8e3d7d",
   "metadata": {},
   "source": [
    "<h1>TRYING VISUALIZATION</h1>"
   ]
  },
  {
   "cell_type": "code",
   "execution_count": 88,
   "id": "f6dbf717-1464-465e-86d6-857f1d7d3377",
   "metadata": {},
   "outputs": [],
   "source": [
    "import matplotlib.pyplot as plt"
   ]
  },
  {
   "cell_type": "code",
   "execution_count": 90,
   "id": "6a4f5d3b-b4e6-4b13-a4e7-9aa5d09fb4dc",
   "metadata": {},
   "outputs": [
    {
     "data": {
      "image/png": "[encoded data removed]",
      "text/plain": [
       "<Figure size 1000x500 with 1 Axes>"
      ]
     },
     "metadata": {},
     "output_type": "display_data"
    }
   ],
   "source": [
    "monthly_data = accident.groupby(['Year', 'Month'])['Index'].count()\n",
    "monthly_data = monthly_data.unstack(level=0)\n",
    "\n",
    "monthly_data.plot(marker = 'o', figsize =(10,5), title='Monthly Road Accidents')\n",
    "plt.xticks(range(1,13), ['Jan', 'Feb', 'Mar', 'Apr', 'May', 'Jun', 'Jul', 'Aug', 'Sep', 'Oct', 'Nov', 'Dec'])\n",
    "plt.grid(alpha=0.6)\n",
    "plt.show()"
   ]
  },
  {
   "cell_type": "code",
   "execution_count": 93,
   "id": "4cb3fe8d-ba3f-4093-9780-1afe1434bffc",
   "metadata": {},
   "outputs": [
    {
     "data": {
      "image/png": "[encoded data removed]",
      "text/plain": [
       "<Figure size 1000x600 with 1 Axes>"
      ]
     },
     "metadata": {},
     "output_type": "display_data"
    }
   ],
   "source": [
    "severity_area = (accident.groupby(['Year', 'Urban_or_Rural_Area', 'Accident_Severity']).size().reset_index(name='Count'))\n",
    "totals = severity_area.groupby(['Year', 'Urban_or_Rural_Area'])['Count'].transform('sum')\n",
    "fatal_area = severity_area[severity_area['Accident_Severity'] == 'Fatal']\n",
    "\n",
    "fatal_pivot = fatal_area.pivot(index='Year', columns='Urban_or_Rural_Area', values='Count')\n",
    "\n",
    "plt.figure(figsize=(10,6))\n",
    "for area in fatal_pivot.columns:\n",
    "    plt.plot(fatal_pivot.index, fatal_pivot[area], marker='o', label=area)\n",
    "\n",
    "plt.title('Fatal Accidents in Urban vs Rural Areas (by Year)')\n",
    "plt.xlabel('Year')\n",
    "plt.ylabel('Number of Fatal Accidents')\n",
    "plt.legend(title=\"Area\")\n",
    "plt.grid(True, linestyle='--', alpha=0.7)\n",
    "plt.show()"
   ]
  },
  {
   "cell_type": "code",
   "execution_count": 96,
   "id": "430e9e6b-5096-4b46-a1a5-23f385f6c5c1",
   "metadata": {},
   "outputs": [
    {
     "data": {
      "image/png": "[encoded data removed]",
      "text/plain": [
       "<Figure size 1200x600 with 2 Axes>"
      ]
     },
     "metadata": {},
     "output_type": "display_data"
    }
   ],
   "source": [
    "monthly_accidents = accident.groupby(['Year', 'Month']).size().unstack()\n",
    "monthly_accidents\n",
    "\n",
    "plt.figure(figsize=(12,6))\n",
    "plt.imshow(monthly_accidents, aspect='auto', cmap='Blues')\n",
    "plt.colorbar(label='Number of Accidents')\n",
    "plt.xticks(range(12), monthly_accidents.columns)\n",
    "plt.yticks(range(len(monthly_accidents.index)), monthly_accidents.index)\n",
    "plt.title('Monthly Accident Counts by Year')\n",
    "plt.xlabel('Month')\n",
    "plt.ylabel('Year')\n",
    "plt.show()"
   ]
  },
  {
   "cell_type": "code",
   "execution_count": null,
   "id": "edb1b39d-23d0-4513-905c-711f84fcf1dc",
   "metadata": {},
   "outputs": [],
   "source": []
  }
 ],
 "metadata": {
  "kernelspec": {
   "display_name": "Python 3 (ipykernel)",
   "language": "python",
   "name": "python3"
  },
  "language_info": {
   "codemirror_mode": {
    "name": "ipython",
    "version": 3
   },
   "file_extension": ".py",
   "mimetype": "text/x-python",
   "name": "python",
   "nbconvert_exporter": "python",
   "pygments_lexer": "ipython3",
   "version": "3.13.5"
  }
 },
 "nbformat": 4,
 "nbformat_minor": 5
}

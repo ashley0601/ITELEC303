{
 "cells": [
  {
   "cell_type": "code",
   "execution_count": 1,
   "id": "e43669fd-59e3-489f-9a81-5f91e6462180",
   "metadata": {},
   "outputs": [],
   "source": [
    "import numpy as np\n",
    "import pandas as pd\n",
    "import warnings\n",
    "warnings.filterwarnings('ignore')"
   ]
  },
  {
   "cell_type": "code",
   "execution_count": 2,
   "id": "75494685-cf72-4a3f-8f77-111e00f303a1",
   "metadata": {},
   "outputs": [],
   "source": [
    "accident = pd.read_csv('uk_accident_data.csv')"
   ]
  },
  {
   "cell_type": "code",
   "execution_count": 3,
   "id": "acea3b6a-186e-4b5f-b5e6-d4f6133eebdd",
   "metadata": {},
   "outputs": [
    {
     "data": {
      "text/html": [
       "<div>\n",
       "<style scoped>\n",
       "    .dataframe tbody tr th:only-of-type {\n",
       "        vertical-align: middle;\n",
       "    }\n",
       "\n",
       "    .dataframe tbody tr th {\n",
       "        vertical-align: top;\n",
       "    }\n",
       "\n",
       "    .dataframe thead th {\n",
       "        text-align: right;\n",
       "    }\n",
       "</style>\n",
       "<table border=\"1\" class=\"dataframe\">\n",
       "  <thead>\n",
       "    <tr style=\"text-align: right;\">\n",
       "      <th></th>\n",
       "      <th>Index</th>\n",
       "      <th>Accident_Severity</th>\n",
       "      <th>Accident Date</th>\n",
       "      <th>Latitude</th>\n",
       "      <th>Light_Conditions</th>\n",
       "      <th>District Area</th>\n",
       "      <th>Longitude</th>\n",
       "      <th>Number_of_Casualties</th>\n",
       "      <th>Number_of_Vehicles</th>\n",
       "      <th>Road_Surface_Conditions</th>\n",
       "      <th>Road_Type</th>\n",
       "      <th>Urban_or_Rural_Area</th>\n",
       "      <th>Weather_Conditions</th>\n",
       "      <th>Vehicle_Type</th>\n",
       "    </tr>\n",
       "  </thead>\n",
       "  <tbody>\n",
       "    <tr>\n",
       "      <th>0</th>\n",
       "      <td>200701BS64157</td>\n",
       "      <td>Serious</td>\n",
       "      <td>05/06/2019</td>\n",
       "      <td>51.506187</td>\n",
       "      <td>Darkness - lights lit</td>\n",
       "      <td>Kensington and Chelsea</td>\n",
       "      <td>-0.209082</td>\n",
       "      <td>1</td>\n",
       "      <td>2</td>\n",
       "      <td>Dry</td>\n",
       "      <td>Single carriageway</td>\n",
       "      <td>Urban</td>\n",
       "      <td>Fine no high winds</td>\n",
       "      <td>Car</td>\n",
       "    </tr>\n",
       "    <tr>\n",
       "      <th>1</th>\n",
       "      <td>200701BS65737</td>\n",
       "      <td>Serious</td>\n",
       "      <td>02/07/2019</td>\n",
       "      <td>51.495029</td>\n",
       "      <td>Daylight</td>\n",
       "      <td>Kensington and Chelsea</td>\n",
       "      <td>-0.173647</td>\n",
       "      <td>1</td>\n",
       "      <td>2</td>\n",
       "      <td>Wet or damp</td>\n",
       "      <td>Single carriageway</td>\n",
       "      <td>Urban</td>\n",
       "      <td>Raining no high winds</td>\n",
       "      <td>Car</td>\n",
       "    </tr>\n",
       "    <tr>\n",
       "      <th>2</th>\n",
       "      <td>200701BS66127</td>\n",
       "      <td>Serious</td>\n",
       "      <td>26/08/2019</td>\n",
       "      <td>51.517715</td>\n",
       "      <td>Darkness - lighting unknown</td>\n",
       "      <td>Kensington and Chelsea</td>\n",
       "      <td>-0.210215</td>\n",
       "      <td>1</td>\n",
       "      <td>3</td>\n",
       "      <td>Dry</td>\n",
       "      <td>NaN</td>\n",
       "      <td>Urban</td>\n",
       "      <td>NaN</td>\n",
       "      <td>Taxi/Private hire car</td>\n",
       "    </tr>\n",
       "    <tr>\n",
       "      <th>3</th>\n",
       "      <td>200701BS66128</td>\n",
       "      <td>Serious</td>\n",
       "      <td>16/08/2019</td>\n",
       "      <td>51.495478</td>\n",
       "      <td>Daylight</td>\n",
       "      <td>Kensington and Chelsea</td>\n",
       "      <td>-0.202731</td>\n",
       "      <td>1</td>\n",
       "      <td>4</td>\n",
       "      <td>Dry</td>\n",
       "      <td>Single carriageway</td>\n",
       "      <td>Urban</td>\n",
       "      <td>Fine no high winds</td>\n",
       "      <td>Bus or coach (17 or more pass seats)</td>\n",
       "    </tr>\n",
       "    <tr>\n",
       "      <th>4</th>\n",
       "      <td>200701BS66837</td>\n",
       "      <td>Slight</td>\n",
       "      <td>03/09/2019</td>\n",
       "      <td>51.488576</td>\n",
       "      <td>Darkness - lights lit</td>\n",
       "      <td>Kensington and Chelsea</td>\n",
       "      <td>-0.192487</td>\n",
       "      <td>1</td>\n",
       "      <td>2</td>\n",
       "      <td>Dry</td>\n",
       "      <td>NaN</td>\n",
       "      <td>Urban</td>\n",
       "      <td>NaN</td>\n",
       "      <td>Other vehicle</td>\n",
       "    </tr>\n",
       "    <tr>\n",
       "      <th>...</th>\n",
       "      <td>...</td>\n",
       "      <td>...</td>\n",
       "      <td>...</td>\n",
       "      <td>...</td>\n",
       "      <td>...</td>\n",
       "      <td>...</td>\n",
       "      <td>...</td>\n",
       "      <td>...</td>\n",
       "      <td>...</td>\n",
       "      <td>...</td>\n",
       "      <td>...</td>\n",
       "      <td>...</td>\n",
       "      <td>...</td>\n",
       "      <td>...</td>\n",
       "    </tr>\n",
       "    <tr>\n",
       "      <th>660674</th>\n",
       "      <td>201091NM01760</td>\n",
       "      <td>Slight</td>\n",
       "      <td>18/02/2022</td>\n",
       "      <td>57.374005</td>\n",
       "      <td>Daylight</td>\n",
       "      <td>Highland</td>\n",
       "      <td>-3.467828</td>\n",
       "      <td>2</td>\n",
       "      <td>1</td>\n",
       "      <td>Dry</td>\n",
       "      <td>Single carriageway</td>\n",
       "      <td>Rural</td>\n",
       "      <td>Fine no high winds</td>\n",
       "      <td>Car</td>\n",
       "    </tr>\n",
       "    <tr>\n",
       "      <th>660675</th>\n",
       "      <td>201091NM01881</td>\n",
       "      <td>Slight</td>\n",
       "      <td>21/02/2022</td>\n",
       "      <td>57.232273</td>\n",
       "      <td>Darkness - no lighting</td>\n",
       "      <td>Highland</td>\n",
       "      <td>-3.809281</td>\n",
       "      <td>1</td>\n",
       "      <td>1</td>\n",
       "      <td>Frost or ice</td>\n",
       "      <td>Single carriageway</td>\n",
       "      <td>Rural</td>\n",
       "      <td>Fine no high winds</td>\n",
       "      <td>Car</td>\n",
       "    </tr>\n",
       "    <tr>\n",
       "      <th>660676</th>\n",
       "      <td>201091NM01935</td>\n",
       "      <td>Slight</td>\n",
       "      <td>23/02/2022</td>\n",
       "      <td>57.585044</td>\n",
       "      <td>Daylight</td>\n",
       "      <td>Highland</td>\n",
       "      <td>-3.862727</td>\n",
       "      <td>1</td>\n",
       "      <td>3</td>\n",
       "      <td>Frost or ice</td>\n",
       "      <td>Single carriageway</td>\n",
       "      <td>Rural</td>\n",
       "      <td>Fine no high winds</td>\n",
       "      <td>Car</td>\n",
       "    </tr>\n",
       "    <tr>\n",
       "      <th>660677</th>\n",
       "      <td>201091NM01964</td>\n",
       "      <td>Serious</td>\n",
       "      <td>23/02/2022</td>\n",
       "      <td>57.214898</td>\n",
       "      <td>Darkness - no lighting</td>\n",
       "      <td>Highland</td>\n",
       "      <td>-3.823997</td>\n",
       "      <td>1</td>\n",
       "      <td>2</td>\n",
       "      <td>Wet or damp</td>\n",
       "      <td>Single carriageway</td>\n",
       "      <td>Rural</td>\n",
       "      <td>Fine no high winds</td>\n",
       "      <td>Motorcycle over 500cc</td>\n",
       "    </tr>\n",
       "    <tr>\n",
       "      <th>660678</th>\n",
       "      <td>201091NM02142</td>\n",
       "      <td>Serious</td>\n",
       "      <td>28/02/2022</td>\n",
       "      <td>57.575210</td>\n",
       "      <td>Daylight</td>\n",
       "      <td>Highland</td>\n",
       "      <td>-3.895673</td>\n",
       "      <td>1</td>\n",
       "      <td>1</td>\n",
       "      <td>Wet or damp</td>\n",
       "      <td>Dual carriageway</td>\n",
       "      <td>Rural</td>\n",
       "      <td>Snowing no high winds</td>\n",
       "      <td>Car</td>\n",
       "    </tr>\n",
       "  </tbody>\n",
       "</table>\n",
       "<p>660679 rows × 14 columns</p>\n",
       "</div>"
      ],
      "text/plain": [
       "                Index Accident_Severity Accident Date   Latitude  \\\n",
       "0       200701BS64157           Serious    05/06/2019  51.506187   \n",
       "1       200701BS65737           Serious    02/07/2019  51.495029   \n",
       "2       200701BS66127           Serious    26/08/2019  51.517715   \n",
       "3       200701BS66128           Serious    16/08/2019  51.495478   \n",
       "4       200701BS66837            Slight    03/09/2019  51.488576   \n",
       "...               ...               ...           ...        ...   \n",
       "660674  201091NM01760            Slight    18/02/2022  57.374005   \n",
       "660675  201091NM01881            Slight    21/02/2022  57.232273   \n",
       "660676  201091NM01935            Slight    23/02/2022  57.585044   \n",
       "660677  201091NM01964           Serious    23/02/2022  57.214898   \n",
       "660678  201091NM02142           Serious    28/02/2022  57.575210   \n",
       "\n",
       "                   Light_Conditions           District Area  Longitude  \\\n",
       "0             Darkness - lights lit  Kensington and Chelsea  -0.209082   \n",
       "1                          Daylight  Kensington and Chelsea  -0.173647   \n",
       "2       Darkness - lighting unknown  Kensington and Chelsea  -0.210215   \n",
       "3                          Daylight  Kensington and Chelsea  -0.202731   \n",
       "4             Darkness - lights lit  Kensington and Chelsea  -0.192487   \n",
       "...                             ...                     ...        ...   \n",
       "660674                     Daylight                Highland  -3.467828   \n",
       "660675       Darkness - no lighting                Highland  -3.809281   \n",
       "660676                     Daylight                Highland  -3.862727   \n",
       "660677       Darkness - no lighting                Highland  -3.823997   \n",
       "660678                     Daylight                Highland  -3.895673   \n",
       "\n",
       "        Number_of_Casualties  Number_of_Vehicles Road_Surface_Conditions  \\\n",
       "0                          1                   2                     Dry   \n",
       "1                          1                   2             Wet or damp   \n",
       "2                          1                   3                     Dry   \n",
       "3                          1                   4                     Dry   \n",
       "4                          1                   2                     Dry   \n",
       "...                      ...                 ...                     ...   \n",
       "660674                     2                   1                     Dry   \n",
       "660675                     1                   1            Frost or ice   \n",
       "660676                     1                   3            Frost or ice   \n",
       "660677                     1                   2             Wet or damp   \n",
       "660678                     1                   1             Wet or damp   \n",
       "\n",
       "                 Road_Type Urban_or_Rural_Area     Weather_Conditions  \\\n",
       "0       Single carriageway               Urban     Fine no high winds   \n",
       "1       Single carriageway               Urban  Raining no high winds   \n",
       "2                      NaN               Urban                    NaN   \n",
       "3       Single carriageway               Urban     Fine no high winds   \n",
       "4                      NaN               Urban                    NaN   \n",
       "...                    ...                 ...                    ...   \n",
       "660674  Single carriageway               Rural     Fine no high winds   \n",
       "660675  Single carriageway               Rural     Fine no high winds   \n",
       "660676  Single carriageway               Rural     Fine no high winds   \n",
       "660677  Single carriageway               Rural     Fine no high winds   \n",
       "660678    Dual carriageway               Rural  Snowing no high winds   \n",
       "\n",
       "                                Vehicle_Type  \n",
       "0                                        Car  \n",
       "1                                        Car  \n",
       "2                      Taxi/Private hire car  \n",
       "3       Bus or coach (17 or more pass seats)  \n",
       "4                              Other vehicle  \n",
       "...                                      ...  \n",
       "660674                                   Car  \n",
       "660675                                   Car  \n",
       "660676                                   Car  \n",
       "660677                 Motorcycle over 500cc  \n",
       "660678                                   Car  \n",
       "\n",
       "[660679 rows x 14 columns]"
      ]
     },
     "execution_count": 3,
     "metadata": {},
     "output_type": "execute_result"
    }
   ],
   "source": [
    "accident"
   ]
  },
  {
   "cell_type": "code",
   "execution_count": 4,
   "id": "a5ab5dc2-6dcb-4216-965d-b942ca714d96",
   "metadata": {},
   "outputs": [
    {
     "name": "stdout",
     "output_type": "stream",
     "text": [
      "<class 'pandas.core.frame.DataFrame'>\n",
      "RangeIndex: 660679 entries, 0 to 660678\n",
      "Data columns (total 14 columns):\n",
      " #   Column                   Non-Null Count   Dtype  \n",
      "---  ------                   --------------   -----  \n",
      " 0   Index                    660679 non-null  object \n",
      " 1   Accident_Severity        660679 non-null  object \n",
      " 2   Accident Date            660679 non-null  object \n",
      " 3   Latitude                 660654 non-null  float64\n",
      " 4   Light_Conditions         660679 non-null  object \n",
      " 5   District Area            660679 non-null  object \n",
      " 6   Longitude                660653 non-null  float64\n",
      " 7   Number_of_Casualties     660679 non-null  int64  \n",
      " 8   Number_of_Vehicles       660679 non-null  int64  \n",
      " 9   Road_Surface_Conditions  659953 non-null  object \n",
      " 10  Road_Type                656159 non-null  object \n",
      " 11  Urban_or_Rural_Area      660664 non-null  object \n",
      " 12  Weather_Conditions       646551 non-null  object \n",
      " 13  Vehicle_Type             660679 non-null  object \n",
      "dtypes: float64(2), int64(2), object(10)\n",
      "memory usage: 70.6+ MB\n"
     ]
    }
   ],
   "source": [
    "accident.info()"
   ]
  },
  {
   "cell_type": "code",
   "execution_count": 5,
   "id": "846e2b2b-d049-431c-ba7f-f8624e8b9853",
   "metadata": {},
   "outputs": [
    {
     "data": {
      "text/plain": [
       "Index                       object\n",
       "Accident_Severity           object\n",
       "Accident Date               object\n",
       "Latitude                   float64\n",
       "Light_Conditions            object\n",
       "District Area               object\n",
       "Longitude                  float64\n",
       "Number_of_Casualties         int64\n",
       "Number_of_Vehicles           int64\n",
       "Road_Surface_Conditions     object\n",
       "Road_Type                   object\n",
       "Urban_or_Rural_Area         object\n",
       "Weather_Conditions          object\n",
       "Vehicle_Type                object\n",
       "dtype: object"
      ]
     },
     "execution_count": 5,
     "metadata": {},
     "output_type": "execute_result"
    }
   ],
   "source": [
    "accident.dtypes"
   ]
  },
  {
   "cell_type": "code",
   "execution_count": 9,
   "id": "4a6b8cb7-fda3-4c3a-a888-d63c2cc97cba",
   "metadata": {},
   "outputs": [],
   "source": [
    "accident['Index'] = accident['Index'].astype('category')\n",
    "accident['Accident_Severity'] = accident['Accident_Severity'].astype('category')\n",
    "accident['Accident Date'] = accident['Accident Date'].astype(str).str.strip()\n",
    "accident['Accident Date'] = pd.to_datetime(accident['Accident Date'], dayfirst = True, errors = 'coerce')\n",
    "accident['Light_Conditions'] = accident['Light_Conditions'].astype('category')\n",
    "accident['District Area'] = accident['District Area'].astype('category')\n",
    "accident['Road_Surface_Conditions'] = accident['Road_Surface_Conditions'].astype('category')\n",
    "accident['Road_Type'] = accident['Road_Type'].astype('category')\n",
    "accident['Urban_or_Rural_Area'] = accident['Urban_or_Rural_Area'].astype('category')\n",
    "accident['Weather_Conditions'] = accident['Weather_Conditions'].astype('category')\n",
    "accident['Vehicle_Type'] = accident['Vehicle_Type'].astype('category')"
   ]
  },
  {
   "cell_type": "code",
   "execution_count": 10,
   "id": "16eb9b3c-92ca-4ec6-90f4-94ef1acbcabc",
   "metadata": {},
   "outputs": [
    {
     "data": {
      "text/plain": [
       "Index                            category\n",
       "Accident_Severity                category\n",
       "Accident Date              datetime64[ns]\n",
       "Latitude                          float64\n",
       "Light_Conditions                 category\n",
       "District Area                    category\n",
       "Longitude                         float64\n",
       "Number_of_Casualties                int64\n",
       "Number_of_Vehicles                  int64\n",
       "Road_Surface_Conditions          category\n",
       "Road_Type                        category\n",
       "Urban_or_Rural_Area              category\n",
       "Weather_Conditions               category\n",
       "Vehicle_Type                     category\n",
       "dtype: object"
      ]
     },
     "execution_count": 10,
     "metadata": {},
     "output_type": "execute_result"
    }
   ],
   "source": [
    "accident.dtypes"
   ]
  },
  {
   "cell_type": "code",
   "execution_count": 11,
   "id": "8c5090fe-16b3-4d4c-8aa2-17e0fc514ac3",
   "metadata": {},
   "outputs": [
    {
     "data": {
      "text/plain": [
       "Index                           0\n",
       "Accident_Severity               0\n",
       "Accident Date              395672\n",
       "Latitude                       25\n",
       "Light_Conditions                0\n",
       "District Area                   0\n",
       "Longitude                      26\n",
       "Number_of_Casualties            0\n",
       "Number_of_Vehicles              0\n",
       "Road_Surface_Conditions       726\n",
       "Road_Type                    4520\n",
       "Urban_or_Rural_Area            15\n",
       "Weather_Conditions          14128\n",
       "Vehicle_Type                    0\n",
       "dtype: int64"
      ]
     },
     "execution_count": 11,
     "metadata": {},
     "output_type": "execute_result"
    }
   ],
   "source": [
    "accident.isnull().sum()"
   ]
  },
  {
   "cell_type": "code",
   "execution_count": 22,
   "id": "5cba882c-650f-494d-9046-d668abdc8261",
   "metadata": {},
   "outputs": [],
   "source": [
    "accident['Accident Date'] = accident['Accident Date'].fillna(pd.to_datetime(\"1900-01-01\"))\n",
    "accident['Latitude']  = accident['Latitude'].fillna(accident['Latitude'].mean())\n",
    "accident['Longitude'] = accident['Longitude'].fillna(accident['Longitude'].mean())\n",
    "accident['Road_Type'] = accident['Road_Type'].astype('category').fillna(\"Unknown\")\n",
    "accident['Road_Surface_Conditions'] = accident['Road_Surface_Conditions'].astype('category').fillna(\"Unknown\")\n",
    "accident['Weather_Conditions']   = accident['Weather_Conditions'].astype('category').fillna(\"Unknown\")\n",
    "accident['Urban_or_Rural_Area']  = accident['Urban_or_Rural_Area'].astype('category').fillna(\"Unknown\")"
   ]
  },
  {
   "cell_type": "code",
   "execution_count": 23,
   "id": "afc918c1-7ef4-4983-baea-5d431e0feb07",
   "metadata": {},
   "outputs": [
    {
     "data": {
      "text/plain": [
       "Index                      0\n",
       "Accident_Severity          0\n",
       "Accident Date              0\n",
       "Latitude                   0\n",
       "Light_Conditions           0\n",
       "District Area              0\n",
       "Longitude                  0\n",
       "Number_of_Casualties       0\n",
       "Number_of_Vehicles         0\n",
       "Road_Surface_Conditions    0\n",
       "Road_Type                  0\n",
       "Urban_or_Rural_Area        0\n",
       "Weather_Conditions         0\n",
       "Vehicle_Type               0\n",
       "dtype: int64"
      ]
     },
     "execution_count": 23,
     "metadata": {},
     "output_type": "execute_result"
    }
   ],
   "source": [
    "accident.isnull().sum()"
   ]
  },
  {
   "cell_type": "code",
   "execution_count": 24,
   "id": "d02daace-d2d2-4dc3-bea6-1512d2895ba8",
   "metadata": {},
   "outputs": [],
   "source": [
    "accident['Year'] = accident['Accident Date'].dt.year\n",
    "accident['Month'] = accident['Accident Date'].dt.month\n",
    "accident['Day'] = accident['Accident Date'].dt.day\n",
    "accident['Dayoftheweek'] = accident['Accident Date'].dt.dayofweek"
   ]
  },
  {
   "cell_type": "code",
   "execution_count": 26,
   "id": "33e3edea-20b1-4f1f-8cd1-80651a1632a1",
   "metadata": {},
   "outputs": [
    {
     "data": {
      "text/plain": [
       "Index                            category\n",
       "Accident_Severity                category\n",
       "Accident Date              datetime64[ns]\n",
       "Latitude                          float64\n",
       "Light_Conditions                 category\n",
       "District Area                    category\n",
       "Longitude                         float64\n",
       "Number_of_Casualties                int64\n",
       "Number_of_Vehicles                  int64\n",
       "Road_Surface_Conditions          category\n",
       "Road_Type                        category\n",
       "Urban_or_Rural_Area              category\n",
       "Weather_Conditions               category\n",
       "Vehicle_Type                     category\n",
       "Year                                int32\n",
       "Month                               int32\n",
       "Day                                 int32\n",
       "Dayoftheweek                        int32\n",
       "dtype: object"
      ]
     },
     "execution_count": 26,
     "metadata": {},
     "output_type": "execute_result"
    }
   ],
   "source": [
    "accident.dtypes"
   ]
  },
  {
   "cell_type": "markdown",
   "id": "bdb2a0b7-3701-4938-bd36-107f0482a8e2",
   "metadata": {},
   "source": [
    "<h1>UNIVARIATE ANALYSIS</h1>"
   ]
  },
  {
   "cell_type": "code",
   "execution_count": 38,
   "id": "bf229a7b-adac-4210-95ed-f8c02ae4b2ac",
   "metadata": {},
   "outputs": [],
   "source": [
    "df_2019 = accident[accident['Year'] == 2019]"
   ]
  },
  {
   "cell_type": "code",
   "execution_count": 39,
   "id": "cfefc595-6c7c-487e-9c5d-6c2910ba73df",
   "metadata": {},
   "outputs": [
    {
     "name": "stdout",
     "output_type": "stream",
     "text": [
      "total number of accident in 2019 is 71867\n"
     ]
    },
    {
     "data": {
      "text/plain": [
       "Light_Conditions\n",
       "Daylight                       52518\n",
       "Darkness - lights lit          14124\n",
       "Darkness - no lighting          4242\n",
       "Darkness - lighting unknown      719\n",
       "Darkness - lights unlit          264\n",
       "Name: count, dtype: int64"
      ]
     },
     "execution_count": 39,
     "metadata": {},
     "output_type": "execute_result"
    }
   ],
   "source": [
    "print(f\"total number of accident in 2019 is {df_2019['Light_Conditions'].value_counts().sum()}\")\n",
    "df_2019['Light_Conditions'].value_counts()"
   ]
  },
  {
   "cell_type": "markdown",
   "id": "dfba5162-88cc-4aab-868e-f20c07299019",
   "metadata": {},
   "source": [
    "<h1>QUESTION#1: How many accidents happened each month in 2019?</h1>"
   ]
  },
  {
   "cell_type": "code",
   "execution_count": 42,
   "id": "871585ad-b62a-4ad9-ab7d-76fb4f4bfacc",
   "metadata": {},
   "outputs": [],
   "source": [
    "df_2019['Month'] = df_2019['Accident Date'].dt.month_name()"
   ]
  },
  {
   "cell_type": "code",
   "execution_count": 43,
   "id": "cb3e72ff-d36f-4b7c-8faa-3e2b1ca0ef43",
   "metadata": {},
   "outputs": [],
   "source": [
    "monthly_counts = df_2019['Month'].value_counts().reindex([\n",
    "    'January','February','March','April','May','June',\n",
    "    'July','August','September','October','November','December'\n",
    "])"
   ]
  },
  {
   "cell_type": "code",
   "execution_count": 53,
   "id": "a4cfa81a-28bf-425c-bb31-3ae0d9a722bb",
   "metadata": {},
   "outputs": [
    {
     "data": {
      "text/plain": [
       "Month\n",
       "January      6010\n",
       "February     6112\n",
       "March        5975\n",
       "April        5695\n",
       "May          6388\n",
       "June         6187\n",
       "July         5777\n",
       "August       5663\n",
       "September    5935\n",
       "October      6050\n",
       "November     5901\n",
       "December     6174\n",
       "Name: count, dtype: int64"
      ]
     },
     "execution_count": 53,
     "metadata": {},
     "output_type": "execute_result"
    }
   ],
   "source": [
    "monthly_counts"
   ]
  },
  {
   "cell_type": "markdown",
   "id": "3beeabb7-1b75-497a-b4c7-655cb13d4ec5",
   "metadata": {},
   "source": [
    "<h3>INSIGHT#1: The highest accident in month of 2019 is May with 6388 accidents or 8.89%. Followed by June with 6187 accidents or 8.61%. May and June had higher accident counts likely due to increased holiday travel, longer daylight hours, and heavier road usage during the start of summer in uk.</h3>"
   ]
  },
  {
   "cell_type": "markdown",
   "id": "55c8aa0d-6114-4530-91ac-e44c5427a578",
   "metadata": {},
   "source": [
    "<h3>INSIGHT#2: The lowest accident in month of 2019 is August with 5663 accidents or 7.88%. Followed by April with 5695 accidents or 7.92%. the lowest accident counts can possibly because of school breaks, fewer work commutes, and reduced traffic during holiday periods.</h3>"
   ]
  },
  {
   "cell_type": "markdown",
   "id": "58fcea64-0cc8-4e66-b2be-09f3bbea80cf",
   "metadata": {},
   "source": [
    "<h3>INSIGHT#3: Accident numbers across months were relatively stable (around 5,600–6,300), showing no extreme seasonal spikes, though May and June were above average while April and August were below average.</h3>"
   ]
  },
  {
   "cell_type": "markdown",
   "id": "22d28914-1e0e-47d6-be62-5fb57eb9cb83",
   "metadata": {},
   "source": [
    "<hr>\n",
    "<h1>QUESTION#2: What is the distribution of Accident Severity (e.g., Fatal, Serious, Slight) in year 2019?</h1>"
   ]
  },
  {
   "cell_type": "code",
   "execution_count": 58,
   "id": "12abb686-003c-4a17-9cdb-2ae838afb371",
   "metadata": {},
   "outputs": [],
   "source": [
    "severity_counts = df_2019['Accident_Severity'].value_counts()"
   ]
  },
  {
   "cell_type": "code",
   "execution_count": 56,
   "id": "8a4933af-19fd-4ec3-bc92-7e94f0963d03",
   "metadata": {},
   "outputs": [
    {
     "data": {
      "text/plain": [
       "Accident_Severity\n",
       "Slight     60928\n",
       "Serious     9823\n",
       "Fatal       1116\n",
       "Name: count, dtype: int64"
      ]
     },
     "execution_count": 56,
     "metadata": {},
     "output_type": "execute_result"
    }
   ],
   "source": [
    "severity_counts"
   ]
  },
  {
   "cell_type": "code",
   "execution_count": 55,
   "id": "58afe4e7-ca51-42d2-9bdd-fdc1997637c8",
   "metadata": {},
   "outputs": [],
   "source": [
    "severity_percent = df_2019['Accident_Severity'].value_counts(normalize=True) * 100"
   ]
  },
  {
   "cell_type": "code",
   "execution_count": 57,
   "id": "6764254d-9c11-48da-908c-b29f57edc07d",
   "metadata": {},
   "outputs": [
    {
     "data": {
      "text/plain": [
       "Accident_Severity\n",
       "Slight     84.778828\n",
       "Serious    13.668304\n",
       "Fatal       1.552868\n",
       "Name: proportion, dtype: float64"
      ]
     },
     "execution_count": 57,
     "metadata": {},
     "output_type": "execute_result"
    }
   ],
   "source": [
    "severity_percent"
   ]
  },
  {
   "cell_type": "markdown",
   "id": "aff8382e-591d-4250-9310-28c968dfa9ef",
   "metadata": {},
   "source": [
    "<h3>INSIGHT#4: In year 2019 most of the accident severity is minor or slight with a number of 60928 accidents, which has a greater gap between serious with a 9823 accidents and fatal with 1116 accidents. The percetage of slight is almost 85% being the highest accident severity</h3>"
   ]
  },
  {
   "cell_type": "markdown",
   "id": "4f619915-0bc9-4002-b605-b16f2e102cd8",
   "metadata": {},
   "source": [
    "<hr>\n",
    "<h1>QUESTION#3: What is the distribution of Accident Severity (e.g., Fatal, Serious, Slight) in year 2019 for each month?</h1>"
   ]
  },
  {
   "cell_type": "code",
   "execution_count": 61,
   "id": "c8c46ac0-29bc-4c0f-b910-0b9b9bf43fa1",
   "metadata": {},
   "outputs": [],
   "source": [
    "severity_monthly = df_2019.groupby(['Month', 'Accident_Severity']).size().unstack().fillna(0)\n",
    "month_order = ['January','February','March','April','May','June',\n",
    "               'July','August','September','October','November','December']"
   ]
  },
  {
   "cell_type": "code",
   "execution_count": 62,
   "id": "1a5c5802-80d4-47ae-8f61-22cf5cb95fa0",
   "metadata": {},
   "outputs": [
    {
     "data": {
      "text/html": [
       "<div>\n",
       "<style scoped>\n",
       "    .dataframe tbody tr th:only-of-type {\n",
       "        vertical-align: middle;\n",
       "    }\n",
       "\n",
       "    .dataframe tbody tr th {\n",
       "        vertical-align: top;\n",
       "    }\n",
       "\n",
       "    .dataframe thead th {\n",
       "        text-align: right;\n",
       "    }\n",
       "</style>\n",
       "<table border=\"1\" class=\"dataframe\">\n",
       "  <thead>\n",
       "    <tr style=\"text-align: right;\">\n",
       "      <th>Accident_Severity</th>\n",
       "      <th>Fatal</th>\n",
       "      <th>Serious</th>\n",
       "      <th>Slight</th>\n",
       "    </tr>\n",
       "    <tr>\n",
       "      <th>Month</th>\n",
       "      <th></th>\n",
       "      <th></th>\n",
       "      <th></th>\n",
       "    </tr>\n",
       "  </thead>\n",
       "  <tbody>\n",
       "    <tr>\n",
       "      <th>January</th>\n",
       "      <td>102</td>\n",
       "      <td>848</td>\n",
       "      <td>5060</td>\n",
       "    </tr>\n",
       "    <tr>\n",
       "      <th>February</th>\n",
       "      <td>103</td>\n",
       "      <td>827</td>\n",
       "      <td>5182</td>\n",
       "    </tr>\n",
       "    <tr>\n",
       "      <th>March</th>\n",
       "      <td>102</td>\n",
       "      <td>806</td>\n",
       "      <td>5067</td>\n",
       "    </tr>\n",
       "    <tr>\n",
       "      <th>April</th>\n",
       "      <td>94</td>\n",
       "      <td>811</td>\n",
       "      <td>4790</td>\n",
       "    </tr>\n",
       "    <tr>\n",
       "      <th>May</th>\n",
       "      <td>87</td>\n",
       "      <td>904</td>\n",
       "      <td>5397</td>\n",
       "    </tr>\n",
       "    <tr>\n",
       "      <th>June</th>\n",
       "      <td>84</td>\n",
       "      <td>834</td>\n",
       "      <td>5269</td>\n",
       "    </tr>\n",
       "    <tr>\n",
       "      <th>July</th>\n",
       "      <td>92</td>\n",
       "      <td>760</td>\n",
       "      <td>4925</td>\n",
       "    </tr>\n",
       "    <tr>\n",
       "      <th>August</th>\n",
       "      <td>83</td>\n",
       "      <td>755</td>\n",
       "      <td>4825</td>\n",
       "    </tr>\n",
       "    <tr>\n",
       "      <th>September</th>\n",
       "      <td>90</td>\n",
       "      <td>763</td>\n",
       "      <td>5082</td>\n",
       "    </tr>\n",
       "    <tr>\n",
       "      <th>October</th>\n",
       "      <td>90</td>\n",
       "      <td>872</td>\n",
       "      <td>5088</td>\n",
       "    </tr>\n",
       "    <tr>\n",
       "      <th>November</th>\n",
       "      <td>91</td>\n",
       "      <td>779</td>\n",
       "      <td>5031</td>\n",
       "    </tr>\n",
       "    <tr>\n",
       "      <th>December</th>\n",
       "      <td>98</td>\n",
       "      <td>864</td>\n",
       "      <td>5212</td>\n",
       "    </tr>\n",
       "  </tbody>\n",
       "</table>\n",
       "</div>"
      ],
      "text/plain": [
       "Accident_Severity  Fatal  Serious  Slight\n",
       "Month                                    \n",
       "January              102      848    5060\n",
       "February             103      827    5182\n",
       "March                102      806    5067\n",
       "April                 94      811    4790\n",
       "May                   87      904    5397\n",
       "June                  84      834    5269\n",
       "July                  92      760    4925\n",
       "August                83      755    4825\n",
       "September             90      763    5082\n",
       "October               90      872    5088\n",
       "November              91      779    5031\n",
       "December              98      864    5212"
      ]
     },
     "execution_count": 62,
     "metadata": {},
     "output_type": "execute_result"
    }
   ],
   "source": [
    "severity_monthly = severity_monthly.reindex(month_order)\n",
    "severity_monthly"
   ]
  },
  {
   "cell_type": "markdown",
   "id": "44c50956-ac3e-4b2c-9423-dffcff6ac8b0",
   "metadata": {},
   "source": [
    "<h3>INSIGHT#5: Slight Accident are higher in each month especially in May and June. while fatal accidents are higher during January to March. So even though the higher accidents is month of May and June they are just minor or moderate accident.</h3>"
   ]
  },
  {
   "cell_type": "markdown",
   "id": "67036da9-c6e7-4fe8-8a75-85a65ce6510f",
   "metadata": {},
   "source": [
    "<hr>\n",
    "<h1>QUESTION#4: Which district/area had the most accidents in 2019?</h1>"
   ]
  },
  {
   "cell_type": "code",
   "execution_count": 66,
   "id": "3383f8e5-538c-4a61-a62a-10398a1cdcd4",
   "metadata": {},
   "outputs": [
    {
     "name": "stdout",
     "output_type": "stream",
     "text": [
      "Top 5 Districts with most accidents in 2019:\n",
      "District Area\n",
      "Birmingham      1554\n",
      "Leeds            950\n",
      "Glasgow City     721\n",
      "Manchester       684\n",
      "Liverpool        628\n",
      "Name: count, dtype: int64\n"
     ]
    }
   ],
   "source": [
    "district_counts = df_2019['District Area'].value_counts()\n",
    "district_counts\n",
    "print(\"Top 5 Districts with most accidents in 2019:\")\n",
    "print(district_counts.head())"
   ]
  },
  {
   "cell_type": "markdown",
   "id": "a45db221-94b0-4fb4-853b-e8f3fc8378c1",
   "metadata": {},
   "source": [
    "<h3>INSIGHT#5: Most accidents happened in district or area of Birmingham with 1554 accident in year 2019, there's a high gap between Birmingham and other district.</h3>"
   ]
  },
  {
   "cell_type": "markdown",
   "id": "7bdc6957-39aa-4166-9124-f31db55799ac",
   "metadata": {},
   "source": [
    "<hr>\n",
    "<h1>QUESTION#5: Which Road Type has the highest number of accidents?</h1>"
   ]
  },
  {
   "cell_type": "code",
   "execution_count": 73,
   "id": "fa6714ee-1085-4ae3-b1d2-6f5a1e9baa6e",
   "metadata": {},
   "outputs": [
    {
     "data": {
      "text/plain": [
       "Road_Type\n",
       "Single carriageway    53310\n",
       "Dual carriageway      11022\n",
       "Roundabout             4603\n",
       "One way street         1550\n",
       "Slip road               775\n",
       "Unknown                 607\n",
       "Name: count, dtype: int64"
      ]
     },
     "execution_count": 73,
     "metadata": {},
     "output_type": "execute_result"
    }
   ],
   "source": [
    "road_counts = df_2019['Road_Type'].value_counts()\n",
    "road_counts"
   ]
  },
  {
   "cell_type": "code",
   "execution_count": 72,
   "id": "99f2ff9f-300b-49ed-810d-5f32b0404915",
   "metadata": {},
   "outputs": [
    {
     "data": {
      "text/plain": [
       "Road_Type\n",
       "Single carriageway    74.178691\n",
       "Dual carriageway      15.336664\n",
       "Roundabout             6.404887\n",
       "One way street         2.156762\n",
       "Slip road              1.078381\n",
       "Unknown                0.844616\n",
       "Name: proportion, dtype: float64"
      ]
     },
     "execution_count": 72,
     "metadata": {},
     "output_type": "execute_result"
    }
   ],
   "source": [
    "road_percent = df_2019['Road_Type'].value_counts(normalize=True) * 100\n",
    "road_percent"
   ]
  },
  {
   "cell_type": "markdown",
   "id": "04fdc356-53ff-490f-b9e7-790b756d6e2f",
   "metadata": {},
   "source": [
    "<h3>INSIGHT#6: Single Carriageway has the highest number of accidents with 53310 or 74.18%. followed by dual carriageways with 11022 or 15.34%, showing that two-lane and multi-lane roads is a total of nearly 90% of all cases, while accidents on roundabouts, one-way streets, and slip roads were much less frequent.</h3>"
   ]
  },
  {
   "cell_type": "markdown",
   "id": "1a190f24-12a4-42aa-ab42-626cfdaa1e38",
   "metadata": {},
   "source": [
    "<hr>"
   ]
  },
  {
   "cell_type": "code",
   "execution_count": 74,
   "id": "cfbdc808-7b20-4a2e-a2dd-cee4532c322b",
   "metadata": {},
   "outputs": [],
   "source": [
    "df_2020 = accident[accident['Year'] == 2020]"
   ]
  },
  {
   "cell_type": "markdown",
   "id": "966fbf85-4271-41a1-8f3a-0e3c04c6fe91",
   "metadata": {},
   "source": [
    "<h1>QUESTION#6: What is the daily/weekly trend of accidents in 2020?</h1>"
   ]
  },
  {
   "cell_type": "code",
   "execution_count": 94,
   "id": "5df0df61-c5f1-4bd8-b926-e2be0716d575",
   "metadata": {},
   "outputs": [
    {
     "data": {
      "text/plain": [
       "Accident Date\n",
       "2020-01-01    257\n",
       "2020-01-02    532\n",
       "2020-01-03    522\n",
       "2020-01-04    485\n",
       "2020-01-05    480\n",
       "dtype: int64"
      ]
     },
     "execution_count": 94,
     "metadata": {},
     "output_type": "execute_result"
    }
   ],
   "source": [
    "daily_trend = df_2020.groupby(df_2020['Accident Date'].dt.date).size()\n",
    "daily_trend.head()"
   ]
  },
  {
   "cell_type": "code",
   "execution_count": 96,
   "id": "1f53a540-138a-4be8-8b53-edb0316327b4",
   "metadata": {},
   "outputs": [
    {
     "data": {
      "text/plain": [
       "(datetime.date(2020, 5, 9), np.int64(648))"
      ]
     },
     "execution_count": 96,
     "metadata": {},
     "output_type": "execute_result"
    }
   ],
   "source": [
    "highest_day = daily_trend.idxmax(), daily_trend.max()\n",
    "highest_day"
   ]
  },
  {
   "cell_type": "code",
   "execution_count": 97,
   "id": "11ff5a61-1e8e-4c9a-a6a3-0bc75ac16c5a",
   "metadata": {},
   "outputs": [
    {
     "data": {
      "text/plain": [
       "(datetime.date(2020, 1, 1), np.int64(257))"
      ]
     },
     "execution_count": 97,
     "metadata": {},
     "output_type": "execute_result"
    }
   ],
   "source": [
    "lowest_day  = daily_trend.idxmin(), daily_trend.min()\n",
    "lowest_day"
   ]
  },
  {
   "cell_type": "markdown",
   "id": "d4f8041a-15fa-4de9-a9e4-b02131cfb739",
   "metadata": {},
   "source": [
    "<h3>INSIGHT#7: In 2020, daily accident trends showed lower counts on holidays which is january 1, 2020.while weekdays consistently recorded higher accidents, averaging over 500 cases per day.</h3>"
   ]
  },
  {
   "cell_type": "code",
   "execution_count": 79,
   "id": "1389a84e-2f5f-42d8-955d-df2481fb51de",
   "metadata": {},
   "outputs": [
    {
     "data": {
      "text/plain": [
       "Accident Date\n",
       "Wednesday    10812\n",
       "Saturday     10809\n",
       "Tuesday      10114\n",
       "Friday        9932\n",
       "Thursday      9773\n",
       "Sunday        9772\n",
       "Monday        8951\n",
       "dtype: int64"
      ]
     },
     "execution_count": 79,
     "metadata": {},
     "output_type": "execute_result"
    }
   ],
   "source": [
    "weekly_trend = df_2020.groupby(df_2020['Accident Date'].dt.day_name()).size().sort_values(ascending=False)\n",
    "weekly_trend"
   ]
  },
  {
   "cell_type": "markdown",
   "id": "c97f1b6a-7ff1-491a-aad1-3ff146992026",
   "metadata": {},
   "source": [
    "<h3>INSIGHT#8: In 2020, weekly accident trends showed lower counts on Monday,while Wednesday and Saturday has the higher counts, showing that midweek and weekend traffic contribute heavily to accidents.</h3>"
   ]
  },
  {
   "cell_type": "markdown",
   "id": "3c794685-e9e7-4c3d-94d1-900ff2cb1982",
   "metadata": {},
   "source": [
    "<hr>\n",
    "<h1>QUESTIO#7: Did the percentage of slight vs. serious vs. fatal accidents change compared to 2019?</h1>"
   ]
  },
  {
   "cell_type": "code",
   "execution_count": 98,
   "id": "e2133e7a-71eb-43ad-aa37-7715a66587ca",
   "metadata": {},
   "outputs": [
    {
     "data": {
      "text/html": [
       "<div>\n",
       "<style scoped>\n",
       "    .dataframe tbody tr th:only-of-type {\n",
       "        vertical-align: middle;\n",
       "    }\n",
       "\n",
       "    .dataframe tbody tr th {\n",
       "        vertical-align: top;\n",
       "    }\n",
       "\n",
       "    .dataframe thead th {\n",
       "        text-align: right;\n",
       "    }\n",
       "</style>\n",
       "<table border=\"1\" class=\"dataframe\">\n",
       "  <thead>\n",
       "    <tr style=\"text-align: right;\">\n",
       "      <th></th>\n",
       "      <th>2019</th>\n",
       "      <th>2020</th>\n",
       "      <th>Change (%)</th>\n",
       "    </tr>\n",
       "    <tr>\n",
       "      <th>Accident_Severity</th>\n",
       "      <th></th>\n",
       "      <th></th>\n",
       "      <th></th>\n",
       "    </tr>\n",
       "  </thead>\n",
       "  <tbody>\n",
       "    <tr>\n",
       "      <th>Slight</th>\n",
       "      <td>84.778828</td>\n",
       "      <td>85.337001</td>\n",
       "      <td>0.558173</td>\n",
       "    </tr>\n",
       "    <tr>\n",
       "      <th>Serious</th>\n",
       "      <td>13.668304</td>\n",
       "      <td>13.320411</td>\n",
       "      <td>-0.347893</td>\n",
       "    </tr>\n",
       "    <tr>\n",
       "      <th>Fatal</th>\n",
       "      <td>1.552868</td>\n",
       "      <td>1.342588</td>\n",
       "      <td>-0.210281</td>\n",
       "    </tr>\n",
       "  </tbody>\n",
       "</table>\n",
       "</div>"
      ],
      "text/plain": [
       "                        2019       2020  Change (%)\n",
       "Accident_Severity                                  \n",
       "Slight             84.778828  85.337001    0.558173\n",
       "Serious            13.668304  13.320411   -0.347893\n",
       "Fatal               1.552868   1.342588   -0.210281"
      ]
     },
     "execution_count": 98,
     "metadata": {},
     "output_type": "execute_result"
    }
   ],
   "source": [
    "severity_2019 = accident[accident['Year']==2019]['Accident_Severity'].value_counts(normalize=True) * 100\n",
    "severity_2020 = accident[accident['Year']==2020]['Accident_Severity'].value_counts(normalize=True) * 100\n",
    "compare = pd.DataFrame({\"2019\": severity_2019, \"2020\": severity_2020, \"Change (%)\": severity_2020 - severity_2019})\n",
    "compare"
   ]
  },
  {
   "cell_type": "markdown",
   "id": "08df593a-cfeb-4d1b-b3ec-5f6be8c3d8e2",
   "metadata": {},
   "source": [
    "<h3>INSIGHT#9: The slight accidents increased slightly from 84.78% in 2019 to 85.34% in 2020 (+0.56%), showing most accidents remained minor.</h3>"
   ]
  },
  {
   "cell_type": "markdown",
   "id": "1fdf9708-d659-4519-90b0-16df0c29c5f3",
   "metadata": {},
   "source": [
    "<h3>INSIGHT#10: The Serious accidents remain consistent with 13% only decreased in 2020 with -0.35%, showing that there's no changes in accident severity. Same with fatal accidents which remain with 1% only decreased in 2020 with -0.21%</h3>"
   ]
  },
  {
   "cell_type": "markdown",
   "id": "ef39ecd6-a2bc-4a67-acf5-ae5ebe16c66a",
   "metadata": {},
   "source": [
    "<HR>\n",
    "<h1>QUESTION#8: What is the distribution of accidents by Weather Conditions in year 2020?</h1>"
   ]
  },
  {
   "cell_type": "code",
   "execution_count": 102,
   "id": "9a87e7a1-2169-432f-81fc-dfc24fba4b93",
   "metadata": {},
   "outputs": [
    {
     "data": {
      "text/plain": [
       "Weather_Conditions\n",
       "Fine no high winds       75.291820\n",
       "Raining no high winds    14.432108\n",
       "Other                     2.924618\n",
       "Unknown                   2.310335\n",
       "Raining + high winds      2.011031\n",
       "Fine + high winds         1.763037\n",
       "Snowing no high winds     0.655616\n",
       "Fog or mist               0.466058\n",
       "Snowing + high winds      0.145376\n",
       "Name: proportion, dtype: float64"
      ]
     },
     "execution_count": 102,
     "metadata": {},
     "output_type": "execute_result"
    }
   ],
   "source": [
    "weather_2020 = df_2020['Weather_Conditions'].value_counts(normalize = True) * 100\n",
    "weather_2020"
   ]
  },
  {
   "cell_type": "markdown",
   "id": "6b04c49d-4e60-4b9f-81da-a4a56594a491",
   "metadata": {},
   "source": [
    "<h3>INSIGHT#11: Most accidents which is 75.3% happened in fine weather without high winds, showing that good weather doesn’t guarantee road safety.</h3>"
   ]
  },
  {
   "cell_type": "markdown",
   "id": "444e2821-e1e5-4732-86f3-44507f91fe53",
   "metadata": {},
   "source": [
    "<h3>INSIGHT#12: Rainy conditions with and without high winds contributed to a total of 16.4% of accidents, highlighting the impact of wet roads on crash risk.</h3>"
   ]
  },
  {
   "cell_type": "markdown",
   "id": "794f6d63-8647-4c28-be01-d50e626e1865",
   "metadata": {},
   "source": [
    "<h3>INSIGHT#13: Extreme weather such as snow 0.8% and fog 0.5% played only a minor role, meaning accidents occur more often in normal conditions than in severe weather.</h3>"
   ]
  },
  {
   "cell_type": "markdown",
   "id": "80cdd37c-c676-498e-b4ed-9d62aee8e7c8",
   "metadata": {},
   "source": [
    "<HR>\n",
    "<h1>QUESTION#9: Is there a correlation between the number of vehicles involved and the number of casualties in 2020</h1>"
   ]
  },
  {
   "cell_type": "code",
   "execution_count": 103,
   "id": "638e5c4a-e5f1-495e-8b44-63e378bad6bc",
   "metadata": {},
   "outputs": [
    {
     "data": {
      "text/plain": [
       "np.float64(0.23378095509947672)"
      ]
     },
     "execution_count": 103,
     "metadata": {},
     "output_type": "execute_result"
    }
   ],
   "source": [
    "vehicles_casualties_corr = df_2020['Number_of_Vehicles'].corr(df_2020['Number_of_Casualties'])\n",
    "vehicles_casualties_corr"
   ]
  },
  {
   "cell_type": "markdown",
   "id": "5da755f7-3f02-4c2d-902a-68a04e7b3450",
   "metadata": {},
   "source": [
    "<h3>INSIGHT#14: The correlation is positive but weak, there's a slight correlation between number of vehicles and number of casualties. But there are other more reason for the number of casualties.</h3>"
   ]
  },
  {
   "cell_type": "markdown",
   "id": "a83f94cb-25cc-40ee-854b-729df11060af",
   "metadata": {},
   "source": [
    "<h1>QUESTION#10: Is there a correlation between Weather Conditions and Accident Severity in 2020?</h1>"
   ]
  },
  {
   "cell_type": "code",
   "execution_count": 115,
   "id": "181c9090-75b6-4555-bbcd-f7f4cbf48270",
   "metadata": {},
   "outputs": [],
   "source": [
    "from scipy.stats import chi2_contingency"
   ]
  },
  {
   "cell_type": "code",
   "execution_count": 121,
   "id": "39014c3e-9615-49cc-8f2d-1274c7e49998",
   "metadata": {},
   "outputs": [
    {
     "data": {
      "text/plain": [
       "np.float64(126.65753938694847)"
      ]
     },
     "execution_count": 121,
     "metadata": {},
     "output_type": "execute_result"
    }
   ],
   "source": [
    "contingency = pd.crosstab(df_2020['Weather_Conditions'], df_2020['Accident_Severity'])\n",
    "f_oneway, p_value, dof, expected = chi2_contingency(contingency)\n",
    "chi2"
   ]
  },
  {
   "cell_type": "code",
   "execution_count": 120,
   "id": "1620b049-0680-4805-a8a7-77a874178b00",
   "metadata": {},
   "outputs": [
    {
     "data": {
      "text/plain": [
       "np.float64(2.853587670921335e-19)"
      ]
     },
     "execution_count": 120,
     "metadata": {},
     "output_type": "execute_result"
    }
   ],
   "source": [
    "p_value"
   ]
  },
  {
   "cell_type": "markdown",
   "id": "87cc3296-9f57-4bc8-a197-75b2622f348e",
   "metadata": {},
   "source": [
    "<h3>INSIGHT#15: There is a significant correlation between weather conditions and accident severity in 2020, rain, snow or fog can cause serious or fatal accidents.</h3>"
   ]
  },
  {
   "cell_type": "markdown",
   "id": "de0369c6-28a6-454d-aebe-c6fb19c70007",
   "metadata": {},
   "source": [
    "<HR></HR>\n",
    "<h1>QUESTION#11: Which vehicle type was most frequently involved in accidents in 2021?</h1>"
   ]
  },
  {
   "cell_type": "code",
   "execution_count": 124,
   "id": "56f5eae1-3b3a-4e26-8b76-3bf9f0219d61",
   "metadata": {},
   "outputs": [],
   "source": [
    "df_2021 = accident[accident['Year'] == 2021]"
   ]
  },
  {
   "cell_type": "code",
   "execution_count": 128,
   "id": "43941390-99c4-4d06-bbe4-ae0c8619aec6",
   "metadata": {},
   "outputs": [
    {
     "data": {
      "text/plain": [
       "Vehicle_Type\n",
       "Car                                      78.197727\n",
       "Van / Goods 3.5 tonnes mgw or under       5.076165\n",
       "Motorcycle over 500cc                     3.688871\n",
       "Bus or coach (17 or more pass seats)      2.543372\n",
       "Goods 7.5 tonnes mgw and over             2.232062\n",
       "Motorcycle 125cc and under                2.053739\n",
       "Taxi/Private hire car                     1.668379\n",
       "Motorcycle 50cc and under                 1.184791\n",
       "Motorcycle over 125cc and up to 500cc     1.113764\n",
       "Other vehicle                             0.873481\n",
       "Goods over 3.5t. and under 7.5t           0.817566\n",
       "Agricultural vehicle                      0.273530\n",
       "Minibus (8 - 16 passenger seats)          0.243305\n",
       "Pedal cycle                               0.030224\n",
       "Ridden horse                              0.003022\n",
       "Data missing or out of range              0.000000\n",
       "Name: proportion, dtype: float64"
      ]
     },
     "execution_count": 128,
     "metadata": {},
     "output_type": "execute_result"
    }
   ],
   "source": [
    "vehicle_acc = df_2021['Vehicle_Type'].value_counts(normalize=True) * 100\n",
    "vehicle_acc"
   ]
  },
  {
   "cell_type": "markdown",
   "id": "ea22802d-6d90-46e2-97d1-ba652b80ee0c",
   "metadata": {},
   "source": [
    "<h3>INSIGHT#16: Car are most frequently involved in accidents by the year of 2021 with over 51745 or 78.2%, there's a huge gap in car and other vehicle type. </h3>"
   ]
  },
  {
   "cell_type": "code",
   "execution_count": null,
   "id": "739e77f4-118e-4763-8ee0-9901df9c0f30",
   "metadata": {},
   "outputs": [],
   "source": []
  }
 ],
 "metadata": {
  "kernelspec": {
   "display_name": "Python 3 (ipykernel)",
   "language": "python",
   "name": "python3"
  },
  "language_info": {
   "codemirror_mode": {
    "name": "ipython",
    "version": 3
   },
   "file_extension": ".py",
   "mimetype": "text/x-python",
   "name": "python",
   "nbconvert_exporter": "python",
   "pygments_lexer": "ipython3",
   "version": "3.13.5"
  }
 },
 "nbformat": 4,
 "nbformat_minor": 5
}
